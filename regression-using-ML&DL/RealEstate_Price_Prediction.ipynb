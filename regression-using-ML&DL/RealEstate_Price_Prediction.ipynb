{
  "cells": [
    {
      "cell_type": "code",
      "execution_count": 1,
      "id": "1P1InKHdbdsy",
      "metadata": {
        "colab": {
          "base_uri": "https://localhost:8080/"
        },
        "id": "1P1InKHdbdsy",
        "outputId": "e5f1f35e-8152-4f40-9d98-1812ab491fe4"
      },
      "outputs": [
        {
          "name": "stdout",
          "output_type": "stream",
          "text": [
            "Mounted at /content/drive\n"
          ]
        }
      ],
      "source": [
        "# from google.colab import drive\n",
        "# drive.mount('/content/drive')"
      ]
    },
    {
      "cell_type": "markdown",
      "id": "-Hqp6s4p7RzR",
      "metadata": {
        "id": "-Hqp6s4p7RzR"
      },
      "source": [
        "## Installations"
      ]
    },
    {
      "cell_type": "code",
      "execution_count": 2,
      "id": "w5B4tEr-OoHf",
      "metadata": {
        "colab": {
          "base_uri": "https://localhost:8080/"
        },
        "id": "w5B4tEr-OoHf",
        "outputId": "a8cc8577-239a-4bf2-da38-bfe48d8bc038"
      },
      "outputs": [
        {
          "name": "stdout",
          "output_type": "stream",
          "text": [
            "Collecting scikeras\n",
            "  Downloading scikeras-0.12.0-py3-none-any.whl (27 kB)\n",
            "Requirement already satisfied: packaging>=0.21 in /usr/local/lib/python3.10/dist-packages (from scikeras) (23.2)\n",
            "Requirement already satisfied: scikit-learn>=1.0.0 in /usr/local/lib/python3.10/dist-packages (from scikeras) (1.2.2)\n",
            "Requirement already satisfied: numpy>=1.17.3 in /usr/local/lib/python3.10/dist-packages (from scikit-learn>=1.0.0->scikeras) (1.25.2)\n",
            "Requirement already satisfied: scipy>=1.3.2 in /usr/local/lib/python3.10/dist-packages (from scikit-learn>=1.0.0->scikeras) (1.11.4)\n",
            "Requirement already satisfied: joblib>=1.1.1 in /usr/local/lib/python3.10/dist-packages (from scikit-learn>=1.0.0->scikeras) (1.3.2)\n",
            "Requirement already satisfied: threadpoolctl>=2.0.0 in /usr/local/lib/python3.10/dist-packages (from scikit-learn>=1.0.0->scikeras) (3.3.0)\n",
            "Installing collected packages: scikeras\n",
            "Successfully installed scikeras-0.12.0\n"
          ]
        }
      ],
      "source": [
        "# !pip install scikeras"
      ]
    },
    {
      "cell_type": "markdown",
      "id": "D7VG6yq_7VhV",
      "metadata": {
        "id": "D7VG6yq_7VhV"
      },
      "source": [
        "## Imports"
      ]
    },
    {
      "cell_type": "code",
      "execution_count": 1,
      "id": "62006001",
      "metadata": {
        "id": "62006001"
      },
      "outputs": [],
      "source": [
        "# all imports here\n",
        "\n",
        "import os\n",
        "import numpy as np\n",
        "import pandas as pd\n",
        "import seaborn as sns\n",
        "import matplotlib\n",
        "import matplotlib.pyplot as plt\n",
        "import statsmodels.api as sm\n",
        "from sklearn.model_selection import train_test_split\n",
        "from sklearn.linear_model import LinearRegression\n",
        "from sklearn.model_selection import ShuffleSplit\n",
        "from sklearn.model_selection import cross_val_score\n",
        "from sklearn.ensemble import RandomForestRegressor\n",
        "from sklearn.tree import DecisionTreeRegressor\n",
        "from sklearn.linear_model import Lasso\n",
        "from sklearn.model_selection import GridSearchCV\n",
        "import tensorflow as tf\n",
        "from tensorflow.keras.models import Sequential\n",
        "from tensorflow.keras.layers import Dense, Activation\n",
        "from tensorflow.keras.optimizers import Adam\n",
        "from scikeras.wrappers import KerasRegressor\n",
        "\n",
        "\n",
        "from sklearn.metrics import mean_squared_error,mean_absolute_error,explained_variance_score\n",
        "from sklearn.metrics import classification_report,confusion_matrix"
      ]
    },
    {
      "cell_type": "markdown",
      "id": "e14caf9d",
      "metadata": {
        "id": "e14caf9d"
      },
      "source": [
        "## 1. Loading the data"
      ]
    },
    {
      "cell_type": "code",
      "execution_count": 2,
      "id": "3b1864a4",
      "metadata": {
        "id": "3b1864a4"
      },
      "outputs": [],
      "source": [
        "ROOT_DIR = os.path.dirname(os.path.dirname(os.path.abspath(\"RealEstate_Price_Prediction.ipynb\")))\n",
        "\n",
        "data_path = os.path.join(ROOT_DIR, \"data\\Property_with_Feature_Engineering.csv\")\n",
        "model_path = os.path.join(ROOT_DIR, \"model\")\n",
        "\n",
        "property_data_fe = pd.read_csv(data_path)"
      ]
    },
    {
      "cell_type": "code",
      "execution_count": 3,
      "id": "77a139f5",
      "metadata": {
        "colab": {
          "base_uri": "https://localhost:8080/",
          "height": 498
        },
        "id": "77a139f5",
        "outputId": "b27fe84a-d8ba-4451-f865-57362573d84f",
        "scrolled": false
      },
      "outputs": [
        {
          "data": {
            "text/html": [
              "<div>\n",
              "<style scoped>\n",
              "    .dataframe tbody tr th:only-of-type {\n",
              "        vertical-align: middle;\n",
              "    }\n",
              "\n",
              "    .dataframe tbody tr th {\n",
              "        vertical-align: top;\n",
              "    }\n",
              "\n",
              "    .dataframe thead th {\n",
              "        text-align: right;\n",
              "    }\n",
              "</style>\n",
              "<table border=\"1\" class=\"dataframe\">\n",
              "  <thead>\n",
              "    <tr style=\"text-align: right;\">\n",
              "      <th></th>\n",
              "      <th>property_id</th>\n",
              "      <th>location_id</th>\n",
              "      <th>page_url</th>\n",
              "      <th>property_type</th>\n",
              "      <th>price</th>\n",
              "      <th>price_bin</th>\n",
              "      <th>location</th>\n",
              "      <th>city</th>\n",
              "      <th>province_name</th>\n",
              "      <th>locality</th>\n",
              "      <th>...</th>\n",
              "      <th>area_marla</th>\n",
              "      <th>area_sqft</th>\n",
              "      <th>purpose</th>\n",
              "      <th>bedrooms</th>\n",
              "      <th>date_added</th>\n",
              "      <th>year</th>\n",
              "      <th>month</th>\n",
              "      <th>day</th>\n",
              "      <th>agency</th>\n",
              "      <th>agent</th>\n",
              "    </tr>\n",
              "  </thead>\n",
              "  <tbody>\n",
              "    <tr>\n",
              "      <th>0</th>\n",
              "      <td>347795</td>\n",
              "      <td>8</td>\n",
              "      <td>https://www.zameen.com/Property/lahore_model_t...</td>\n",
              "      <td>House</td>\n",
              "      <td>220000000</td>\n",
              "      <td>Very High</td>\n",
              "      <td>Model Town</td>\n",
              "      <td>Lahore</td>\n",
              "      <td>Punjab</td>\n",
              "      <td>Model Town, Lahore, Punjab</td>\n",
              "      <td>...</td>\n",
              "      <td>120.0</td>\n",
              "      <td>32670.12</td>\n",
              "      <td>For Sale</td>\n",
              "      <td>0</td>\n",
              "      <td>07-17-2019</td>\n",
              "      <td>2019</td>\n",
              "      <td>7</td>\n",
              "      <td>17</td>\n",
              "      <td>Real Biz International</td>\n",
              "      <td>Usama Khan</td>\n",
              "    </tr>\n",
              "    <tr>\n",
              "      <th>1</th>\n",
              "      <td>482892</td>\n",
              "      <td>48</td>\n",
              "      <td>https://www.zameen.com/Property/lahore_multan_...</td>\n",
              "      <td>House</td>\n",
              "      <td>40000000</td>\n",
              "      <td>Very High</td>\n",
              "      <td>Multan Road</td>\n",
              "      <td>Lahore</td>\n",
              "      <td>Punjab</td>\n",
              "      <td>Multan Road, Lahore, Punjab</td>\n",
              "      <td>...</td>\n",
              "      <td>20.0</td>\n",
              "      <td>5445.02</td>\n",
              "      <td>For Sale</td>\n",
              "      <td>5</td>\n",
              "      <td>10-06-2018</td>\n",
              "      <td>2018</td>\n",
              "      <td>10</td>\n",
              "      <td>6</td>\n",
              "      <td>Khan Estate</td>\n",
              "      <td>mohsinkhan and B</td>\n",
              "    </tr>\n",
              "    <tr>\n",
              "      <th>2</th>\n",
              "      <td>555962</td>\n",
              "      <td>75</td>\n",
              "      <td>https://www.zameen.com/Property/eden_eden_aven...</td>\n",
              "      <td>House</td>\n",
              "      <td>9500000</td>\n",
              "      <td>Low</td>\n",
              "      <td>Eden</td>\n",
              "      <td>Lahore</td>\n",
              "      <td>Punjab</td>\n",
              "      <td>Eden, Lahore, Punjab</td>\n",
              "      <td>...</td>\n",
              "      <td>9.0</td>\n",
              "      <td>2450.26</td>\n",
              "      <td>For Sale</td>\n",
              "      <td>3</td>\n",
              "      <td>07-03-2019</td>\n",
              "      <td>2019</td>\n",
              "      <td>7</td>\n",
              "      <td>3</td>\n",
              "      <td>Shahum Estate 2</td>\n",
              "      <td>Babar Hameed, Raja Omar</td>\n",
              "    </tr>\n",
              "    <tr>\n",
              "      <th>3</th>\n",
              "      <td>562843</td>\n",
              "      <td>3821</td>\n",
              "      <td>https://www.zameen.com/Property/gulberg_2_gulb...</td>\n",
              "      <td>House</td>\n",
              "      <td>125000000</td>\n",
              "      <td>Very High</td>\n",
              "      <td>Gulberg</td>\n",
              "      <td>Lahore</td>\n",
              "      <td>Punjab</td>\n",
              "      <td>Gulberg, Lahore, Punjab</td>\n",
              "      <td>...</td>\n",
              "      <td>20.0</td>\n",
              "      <td>5445.02</td>\n",
              "      <td>For Sale</td>\n",
              "      <td>8</td>\n",
              "      <td>04-04-2019</td>\n",
              "      <td>2019</td>\n",
              "      <td>4</td>\n",
              "      <td>4</td>\n",
              "      <td>NaN</td>\n",
              "      <td>NaN</td>\n",
              "    </tr>\n",
              "    <tr>\n",
              "      <th>4</th>\n",
              "      <td>686990</td>\n",
              "      <td>3522</td>\n",
              "      <td>https://www.zameen.com/Property/allama_iqbal_t...</td>\n",
              "      <td>House</td>\n",
              "      <td>21000000</td>\n",
              "      <td>High</td>\n",
              "      <td>Allama Iqbal Town</td>\n",
              "      <td>Lahore</td>\n",
              "      <td>Punjab</td>\n",
              "      <td>Allama Iqbal Town, Lahore, Punjab</td>\n",
              "      <td>...</td>\n",
              "      <td>11.0</td>\n",
              "      <td>2994.76</td>\n",
              "      <td>For Sale</td>\n",
              "      <td>6</td>\n",
              "      <td>04-04-2019</td>\n",
              "      <td>2019</td>\n",
              "      <td>4</td>\n",
              "      <td>4</td>\n",
              "      <td>NaN</td>\n",
              "      <td>NaN</td>\n",
              "    </tr>\n",
              "  </tbody>\n",
              "</table>\n",
              "<p>5 rows × 24 columns</p>\n",
              "</div>"
            ],
            "text/plain": [
              "   property_id  location_id  \\\n",
              "0       347795            8   \n",
              "1       482892           48   \n",
              "2       555962           75   \n",
              "3       562843         3821   \n",
              "4       686990         3522   \n",
              "\n",
              "                                            page_url property_type      price  \\\n",
              "0  https://www.zameen.com/Property/lahore_model_t...         House  220000000   \n",
              "1  https://www.zameen.com/Property/lahore_multan_...         House   40000000   \n",
              "2  https://www.zameen.com/Property/eden_eden_aven...         House    9500000   \n",
              "3  https://www.zameen.com/Property/gulberg_2_gulb...         House  125000000   \n",
              "4  https://www.zameen.com/Property/allama_iqbal_t...         House   21000000   \n",
              "\n",
              "   price_bin           location    city province_name  \\\n",
              "0  Very High         Model Town  Lahore        Punjab   \n",
              "1  Very High        Multan Road  Lahore        Punjab   \n",
              "2        Low               Eden  Lahore        Punjab   \n",
              "3  Very High            Gulberg  Lahore        Punjab   \n",
              "4       High  Allama Iqbal Town  Lahore        Punjab   \n",
              "\n",
              "                            locality  ...  area_marla  area_sqft   purpose  \\\n",
              "0         Model Town, Lahore, Punjab  ...       120.0   32670.12  For Sale   \n",
              "1        Multan Road, Lahore, Punjab  ...        20.0    5445.02  For Sale   \n",
              "2               Eden, Lahore, Punjab  ...         9.0    2450.26  For Sale   \n",
              "3            Gulberg, Lahore, Punjab  ...        20.0    5445.02  For Sale   \n",
              "4  Allama Iqbal Town, Lahore, Punjab  ...        11.0    2994.76  For Sale   \n",
              "\n",
              "  bedrooms  date_added  year month  day                  agency  \\\n",
              "0        0  07-17-2019  2019     7   17  Real Biz International   \n",
              "1        5  10-06-2018  2018    10    6             Khan Estate   \n",
              "2        3  07-03-2019  2019     7    3         Shahum Estate 2   \n",
              "3        8  04-04-2019  2019     4    4                     NaN   \n",
              "4        6  04-04-2019  2019     4    4                     NaN   \n",
              "\n",
              "                     agent  \n",
              "0               Usama Khan  \n",
              "1         mohsinkhan and B  \n",
              "2  Babar Hameed, Raja Omar  \n",
              "3                      NaN  \n",
              "4                      NaN  \n",
              "\n",
              "[5 rows x 24 columns]"
            ]
          },
          "execution_count": 3,
          "metadata": {},
          "output_type": "execute_result"
        }
      ],
      "source": [
        "property_data_fe.head()"
      ]
    },
    {
      "cell_type": "markdown",
      "id": "2f31a921",
      "metadata": {
        "id": "2f31a921"
      },
      "source": [
        "## 2. Checking out data description and necessary information"
      ]
    },
    {
      "cell_type": "code",
      "execution_count": 4,
      "id": "9c7e5f55",
      "metadata": {
        "colab": {
          "base_uri": "https://localhost:8080/"
        },
        "id": "9c7e5f55",
        "outputId": "9561d03f-e3a6-43e5-cbf1-0f950e797266"
      },
      "outputs": [
        {
          "data": {
            "text/plain": [
              "Index(['property_id', 'location_id', 'page_url', 'property_type', 'price',\n",
              "       'price_bin', 'location', 'city', 'province_name', 'locality',\n",
              "       'latitude', 'longitude', 'baths', 'area', 'area_marla', 'area_sqft',\n",
              "       'purpose', 'bedrooms', 'date_added', 'year', 'month', 'day', 'agency',\n",
              "       'agent'],\n",
              "      dtype='object')"
            ]
          },
          "execution_count": 4,
          "metadata": {},
          "output_type": "execute_result"
        }
      ],
      "source": [
        "property_data_fe.columns"
      ]
    },
    {
      "cell_type": "markdown",
      "id": "aa9ab543",
      "metadata": {
        "id": "aa9ab543"
      },
      "source": [
        "### i. Finding out fields' datatypes"
      ]
    },
    {
      "cell_type": "code",
      "execution_count": 5,
      "id": "1b02786e",
      "metadata": {
        "colab": {
          "base_uri": "https://localhost:8080/"
        },
        "id": "1b02786e",
        "outputId": "e554c379-d99d-44b8-8bb0-88d7a3bcf07e"
      },
      "outputs": [
        {
          "name": "stdout",
          "output_type": "stream",
          "text": [
            "<class 'pandas.core.frame.DataFrame'>\n",
            "RangeIndex: 191393 entries, 0 to 191392\n",
            "Data columns (total 24 columns):\n",
            " #   Column         Non-Null Count   Dtype  \n",
            "---  ------         --------------   -----  \n",
            " 0   property_id    191393 non-null  int64  \n",
            " 1   location_id    191393 non-null  int64  \n",
            " 2   page_url       191393 non-null  object \n",
            " 3   property_type  191393 non-null  object \n",
            " 4   price          191393 non-null  int64  \n",
            " 5   price_bin      191393 non-null  object \n",
            " 6   location       191393 non-null  object \n",
            " 7   city           191393 non-null  object \n",
            " 8   province_name  191393 non-null  object \n",
            " 9   locality       191393 non-null  object \n",
            " 10  latitude       191393 non-null  float64\n",
            " 11  longitude      191393 non-null  float64\n",
            " 12  baths          191393 non-null  int64  \n",
            " 13  area           191393 non-null  object \n",
            " 14  area_marla     191393 non-null  float64\n",
            " 15  area_sqft      191393 non-null  float64\n",
            " 16  purpose        191393 non-null  object \n",
            " 17  bedrooms       191393 non-null  int64  \n",
            " 18  date_added     191393 non-null  object \n",
            " 19  year           191393 non-null  int64  \n",
            " 20  month          191393 non-null  int64  \n",
            " 21  day            191393 non-null  int64  \n",
            " 22  agency         144014 non-null  object \n",
            " 23  agent          144013 non-null  object \n",
            "dtypes: float64(4), int64(8), object(12)\n",
            "memory usage: 35.0+ MB\n"
          ]
        }
      ],
      "source": [
        "property_data_fe.info()"
      ]
    },
    {
      "cell_type": "markdown",
      "id": "08a7e7d2",
      "metadata": {
        "id": "08a7e7d2"
      },
      "source": [
        "### ii. Finding out statistical summary"
      ]
    },
    {
      "cell_type": "code",
      "execution_count": 6,
      "id": "787a214f",
      "metadata": {
        "colab": {
          "base_uri": "https://localhost:8080/",
          "height": 320
        },
        "id": "787a214f",
        "outputId": "b44ec9e5-609e-40c4-beb8-2aa962d040e9",
        "scrolled": true
      },
      "outputs": [
        {
          "data": {
            "text/html": [
              "<div>\n",
              "<style scoped>\n",
              "    .dataframe tbody tr th:only-of-type {\n",
              "        vertical-align: middle;\n",
              "    }\n",
              "\n",
              "    .dataframe tbody tr th {\n",
              "        vertical-align: top;\n",
              "    }\n",
              "\n",
              "    .dataframe thead th {\n",
              "        text-align: right;\n",
              "    }\n",
              "</style>\n",
              "<table border=\"1\" class=\"dataframe\">\n",
              "  <thead>\n",
              "    <tr style=\"text-align: right;\">\n",
              "      <th></th>\n",
              "      <th>property_id</th>\n",
              "      <th>location_id</th>\n",
              "      <th>price</th>\n",
              "      <th>latitude</th>\n",
              "      <th>longitude</th>\n",
              "      <th>baths</th>\n",
              "      <th>area_marla</th>\n",
              "      <th>area_sqft</th>\n",
              "      <th>bedrooms</th>\n",
              "      <th>year</th>\n",
              "      <th>month</th>\n",
              "      <th>day</th>\n",
              "    </tr>\n",
              "  </thead>\n",
              "  <tbody>\n",
              "    <tr>\n",
              "      <th>count</th>\n",
              "      <td>1.913930e+05</td>\n",
              "      <td>191393.000000</td>\n",
              "      <td>1.913930e+05</td>\n",
              "      <td>191393.000000</td>\n",
              "      <td>191393.000000</td>\n",
              "      <td>191393.000000</td>\n",
              "      <td>191393.000000</td>\n",
              "      <td>1.913930e+05</td>\n",
              "      <td>191393.000000</td>\n",
              "      <td>191393.000000</td>\n",
              "      <td>191393.000000</td>\n",
              "      <td>191393.000000</td>\n",
              "    </tr>\n",
              "    <tr>\n",
              "      <th>mean</th>\n",
              "      <td>1.573170e+07</td>\n",
              "      <td>4224.580350</td>\n",
              "      <td>1.644655e+07</td>\n",
              "      <td>30.104593</td>\n",
              "      <td>71.572992</td>\n",
              "      <td>2.865956</td>\n",
              "      <td>14.573527</td>\n",
              "      <td>3.967656e+03</td>\n",
              "      <td>3.171516</td>\n",
              "      <td>2018.935687</td>\n",
              "      <td>6.212270</td>\n",
              "      <td>13.349631</td>\n",
              "    </tr>\n",
              "    <tr>\n",
              "      <th>std</th>\n",
              "      <td>2.215249e+06</td>\n",
              "      <td>3719.125201</td>\n",
              "      <td>3.416412e+07</td>\n",
              "      <td>3.645941</td>\n",
              "      <td>3.080463</td>\n",
              "      <td>2.435332</td>\n",
              "      <td>443.343252</td>\n",
              "      <td>1.207006e+05</td>\n",
              "      <td>1.952403</td>\n",
              "      <td>0.245310</td>\n",
              "      <td>1.815174</td>\n",
              "      <td>8.486820</td>\n",
              "    </tr>\n",
              "    <tr>\n",
              "      <th>min</th>\n",
              "      <td>8.657500e+04</td>\n",
              "      <td>1.000000</td>\n",
              "      <td>0.000000e+00</td>\n",
              "      <td>11.052446</td>\n",
              "      <td>25.906027</td>\n",
              "      <td>0.000000</td>\n",
              "      <td>0.000000</td>\n",
              "      <td>0.000000e+00</td>\n",
              "      <td>0.000000</td>\n",
              "      <td>2018.000000</td>\n",
              "      <td>1.000000</td>\n",
              "      <td>1.000000</td>\n",
              "    </tr>\n",
              "    <tr>\n",
              "      <th>25%</th>\n",
              "      <td>1.511867e+07</td>\n",
              "      <td>1057.000000</td>\n",
              "      <td>8.000000e+04</td>\n",
              "      <td>24.972287</td>\n",
              "      <td>67.152597</td>\n",
              "      <td>0.000000</td>\n",
              "      <td>4.900000</td>\n",
              "      <td>1.334030e+03</td>\n",
              "      <td>2.000000</td>\n",
              "      <td>2019.000000</td>\n",
              "      <td>6.000000</td>\n",
              "      <td>5.000000</td>\n",
              "    </tr>\n",
              "    <tr>\n",
              "      <th>50%</th>\n",
              "      <td>1.676385e+07</td>\n",
              "      <td>3233.000000</td>\n",
              "      <td>7.300000e+06</td>\n",
              "      <td>31.463563</td>\n",
              "      <td>73.077743</td>\n",
              "      <td>3.000000</td>\n",
              "      <td>7.600000</td>\n",
              "      <td>2.069110e+03</td>\n",
              "      <td>3.000000</td>\n",
              "      <td>2019.000000</td>\n",
              "      <td>7.000000</td>\n",
              "      <td>14.000000</td>\n",
              "    </tr>\n",
              "    <tr>\n",
              "      <th>75%</th>\n",
              "      <td>1.715282e+07</td>\n",
              "      <td>7182.000000</td>\n",
              "      <td>1.800000e+07</td>\n",
              "      <td>33.550869</td>\n",
              "      <td>74.228218</td>\n",
              "      <td>4.000000</td>\n",
              "      <td>12.000000</td>\n",
              "      <td>3.267010e+03</td>\n",
              "      <td>4.000000</td>\n",
              "      <td>2019.000000</td>\n",
              "      <td>7.000000</td>\n",
              "      <td>20.000000</td>\n",
              "    </tr>\n",
              "    <tr>\n",
              "      <th>max</th>\n",
              "      <td>1.769386e+07</td>\n",
              "      <td>14246.000000</td>\n",
              "      <td>2.000000e+09</td>\n",
              "      <td>73.184088</td>\n",
              "      <td>80.161430</td>\n",
              "      <td>403.000000</td>\n",
              "      <td>124444.000000</td>\n",
              "      <td>3.388000e+07</td>\n",
              "      <td>68.000000</td>\n",
              "      <td>2019.000000</td>\n",
              "      <td>12.000000</td>\n",
              "      <td>30.000000</td>\n",
              "    </tr>\n",
              "  </tbody>\n",
              "</table>\n",
              "</div>"
            ],
            "text/plain": [
              "        property_id    location_id         price       latitude  \\\n",
              "count  1.913930e+05  191393.000000  1.913930e+05  191393.000000   \n",
              "mean   1.573170e+07    4224.580350  1.644655e+07      30.104593   \n",
              "std    2.215249e+06    3719.125201  3.416412e+07       3.645941   \n",
              "min    8.657500e+04       1.000000  0.000000e+00      11.052446   \n",
              "25%    1.511867e+07    1057.000000  8.000000e+04      24.972287   \n",
              "50%    1.676385e+07    3233.000000  7.300000e+06      31.463563   \n",
              "75%    1.715282e+07    7182.000000  1.800000e+07      33.550869   \n",
              "max    1.769386e+07   14246.000000  2.000000e+09      73.184088   \n",
              "\n",
              "           longitude          baths     area_marla     area_sqft  \\\n",
              "count  191393.000000  191393.000000  191393.000000  1.913930e+05   \n",
              "mean       71.572992       2.865956      14.573527  3.967656e+03   \n",
              "std         3.080463       2.435332     443.343252  1.207006e+05   \n",
              "min        25.906027       0.000000       0.000000  0.000000e+00   \n",
              "25%        67.152597       0.000000       4.900000  1.334030e+03   \n",
              "50%        73.077743       3.000000       7.600000  2.069110e+03   \n",
              "75%        74.228218       4.000000      12.000000  3.267010e+03   \n",
              "max        80.161430     403.000000  124444.000000  3.388000e+07   \n",
              "\n",
              "            bedrooms           year          month            day  \n",
              "count  191393.000000  191393.000000  191393.000000  191393.000000  \n",
              "mean        3.171516    2018.935687       6.212270      13.349631  \n",
              "std         1.952403       0.245310       1.815174       8.486820  \n",
              "min         0.000000    2018.000000       1.000000       1.000000  \n",
              "25%         2.000000    2019.000000       6.000000       5.000000  \n",
              "50%         3.000000    2019.000000       7.000000      14.000000  \n",
              "75%         4.000000    2019.000000       7.000000      20.000000  \n",
              "max        68.000000    2019.000000      12.000000      30.000000  "
            ]
          },
          "execution_count": 6,
          "metadata": {},
          "output_type": "execute_result"
        }
      ],
      "source": [
        "property_data_fe.describe()"
      ]
    },
    {
      "cell_type": "markdown",
      "id": "08e7179e",
      "metadata": {
        "id": "08e7179e"
      },
      "source": [
        "### iii. Finding out duplicates and nulls (if any)"
      ]
    },
    {
      "cell_type": "code",
      "execution_count": 7,
      "id": "506493ab",
      "metadata": {
        "colab": {
          "base_uri": "https://localhost:8080/"
        },
        "id": "506493ab",
        "outputId": "f6d4f0df-848d-483d-f325-27fcfc11abb3"
      },
      "outputs": [
        {
          "data": {
            "text/plain": [
              "0"
            ]
          },
          "execution_count": 7,
          "metadata": {},
          "output_type": "execute_result"
        }
      ],
      "source": [
        "property_data_fe.duplicated().sum()"
      ]
    },
    {
      "cell_type": "code",
      "execution_count": 8,
      "id": "c6608bd3",
      "metadata": {
        "colab": {
          "base_uri": "https://localhost:8080/"
        },
        "id": "c6608bd3",
        "outputId": "202d6cad-335c-42e3-8191-644c7070ff13"
      },
      "outputs": [
        {
          "data": {
            "text/plain": [
              "property_id          0\n",
              "location_id          0\n",
              "page_url             0\n",
              "property_type        0\n",
              "price                0\n",
              "price_bin            0\n",
              "location             0\n",
              "city                 0\n",
              "province_name        0\n",
              "locality             0\n",
              "latitude             0\n",
              "longitude            0\n",
              "baths                0\n",
              "area                 0\n",
              "area_marla           0\n",
              "area_sqft            0\n",
              "purpose              0\n",
              "bedrooms             0\n",
              "date_added           0\n",
              "year                 0\n",
              "month                0\n",
              "day                  0\n",
              "agency           47379\n",
              "agent            47380\n",
              "dtype: int64"
            ]
          },
          "execution_count": 8,
          "metadata": {},
          "output_type": "execute_result"
        }
      ],
      "source": [
        "property_data_fe.isnull().sum()"
      ]
    },
    {
      "cell_type": "markdown",
      "id": "1e432f39",
      "metadata": {
        "id": "1e432f39"
      },
      "source": [
        "Already we are not going to need the agency and agent fields, so no need to alter them."
      ]
    },
    {
      "cell_type": "markdown",
      "id": "8798c198",
      "metadata": {
        "id": "8798c198"
      },
      "source": [
        "### iv. Checking the values"
      ]
    },
    {
      "cell_type": "code",
      "execution_count": 9,
      "id": "db696236",
      "metadata": {
        "colab": {
          "base_uri": "https://localhost:8080/"
        },
        "id": "db696236",
        "outputId": "a0429949-7e74-4ef9-a5c0-14d356ea3206"
      },
      "outputs": [
        {
          "data": {
            "text/plain": [
              "array([ 0,  5,  3,  8,  6,  4,  2,  7,  1, 10, 11,  9, 12, 14, 15, 16, 13,\n",
              "       18, 28, 25, 21, 68, 27, 20], dtype=int64)"
            ]
          },
          "execution_count": 9,
          "metadata": {},
          "output_type": "execute_result"
        }
      ],
      "source": [
        "property_data_fe[\"bedrooms\"].unique()"
      ]
    },
    {
      "cell_type": "code",
      "execution_count": 10,
      "id": "ea27acf5",
      "metadata": {
        "colab": {
          "base_uri": "https://localhost:8080/"
        },
        "id": "ea27acf5",
        "outputId": "a264701d-2f8c-44bc-98b5-f6a6330bc847"
      },
      "outputs": [
        {
          "data": {
            "text/plain": [
              "array([  0,   5,   7,   6,   4,   3,   2,   8,   1,  10,   9,  11,  13,\n",
              "        12, 403,  14,  15], dtype=int64)"
            ]
          },
          "execution_count": 10,
          "metadata": {},
          "output_type": "execute_result"
        }
      ],
      "source": [
        "property_data_fe[\"baths\"].unique()"
      ]
    },
    {
      "cell_type": "markdown",
      "id": "af641381",
      "metadata": {
        "id": "af641381"
      },
      "source": [
        "We know that having no bedroom and/ or no bathroom is not possible, so it can be a typo. We need to get rid of those rows!"
      ]
    },
    {
      "cell_type": "code",
      "execution_count": 11,
      "id": "c6e2707d",
      "metadata": {
        "colab": {
          "base_uri": "https://localhost:8080/"
        },
        "id": "c6e2707d",
        "outputId": "24fb6a54-7dc3-49e7-b948-79a506788cb5"
      },
      "outputs": [
        {
          "data": {
            "text/plain": [
              "property_id      40384\n",
              "location_id      40384\n",
              "page_url         40384\n",
              "property_type    40384\n",
              "price            40384\n",
              "price_bin        40384\n",
              "location         40384\n",
              "city             40384\n",
              "province_name    40384\n",
              "locality         40384\n",
              "latitude         40384\n",
              "longitude        40384\n",
              "baths            40384\n",
              "area             40384\n",
              "area_marla       40384\n",
              "area_sqft        40384\n",
              "purpose          40384\n",
              "bedrooms         40384\n",
              "date_added       40384\n",
              "year             40384\n",
              "month            40384\n",
              "day              40384\n",
              "agency           29391\n",
              "agent            29391\n",
              "dtype: int64"
            ]
          },
          "execution_count": 11,
          "metadata": {},
          "output_type": "execute_result"
        }
      ],
      "source": [
        "property_data_fe[property_data_fe[\"baths\"] > property_data_fe[\"bedrooms\"]].count()"
      ]
    },
    {
      "cell_type": "markdown",
      "id": "268fbbcd",
      "metadata": {
        "id": "268fbbcd"
      },
      "source": [
        "Woah! About 40,384 property records where each has # bathrooms more than # bedrooms! Even after this, we need to add 2 more rooms along with bedroom to check # bathrooms is still more than total rooms i.e., Bedroom + Dine, Dinning"
      ]
    },
    {
      "cell_type": "code",
      "execution_count": 12,
      "id": "b8529269",
      "metadata": {
        "colab": {
          "base_uri": "https://localhost:8080/"
        },
        "id": "b8529269",
        "outputId": "3aa623fd-68b9-4434-f158-ca7f2ff3c281"
      },
      "outputs": [
        {
          "data": {
            "text/plain": [
              "property_id      755\n",
              "location_id      755\n",
              "page_url         755\n",
              "property_type    755\n",
              "price            755\n",
              "price_bin        755\n",
              "location         755\n",
              "city             755\n",
              "province_name    755\n",
              "locality         755\n",
              "latitude         755\n",
              "longitude        755\n",
              "baths            755\n",
              "area             755\n",
              "area_marla       755\n",
              "area_sqft        755\n",
              "purpose          755\n",
              "bedrooms         755\n",
              "date_added       755\n",
              "year             755\n",
              "month            755\n",
              "day              755\n",
              "agency           383\n",
              "agent            383\n",
              "dtype: int64"
            ]
          },
          "execution_count": 12,
          "metadata": {},
          "output_type": "execute_result"
        }
      ],
      "source": [
        "property_data_fe[property_data_fe[\"baths\"] > property_data_fe[\"bedrooms\"] + 2].count()"
      ]
    },
    {
      "cell_type": "markdown",
      "id": "fe1dd342",
      "metadata": {
        "id": "fe1dd342"
      },
      "source": [
        "That's a relief!"
      ]
    },
    {
      "cell_type": "code",
      "execution_count": 13,
      "id": "b646ead9",
      "metadata": {
        "colab": {
          "base_uri": "https://localhost:8080/"
        },
        "id": "b646ead9",
        "outputId": "f40305f8-82c5-4c3d-8aee-51cf211d8163"
      },
      "outputs": [
        {
          "data": {
            "text/plain": [
              "array(['For Sale', 'For Rent'], dtype=object)"
            ]
          },
          "execution_count": 13,
          "metadata": {},
          "output_type": "execute_result"
        }
      ],
      "source": [
        "property_data_fe[\"purpose\"].unique()"
      ]
    },
    {
      "cell_type": "code",
      "execution_count": 14,
      "id": "262bcd85",
      "metadata": {
        "colab": {
          "base_uri": "https://localhost:8080/"
        },
        "id": "262bcd85",
        "outputId": "1b94872f-2465-456b-bbe0-d5d97c4347cb"
      },
      "outputs": [
        {
          "data": {
            "text/plain": [
              "array(['House', 'Flat', 'Lower Portion', 'Penthouse', 'Upper Portion',\n",
              "       'Farm House', 'Room'], dtype=object)"
            ]
          },
          "execution_count": 14,
          "metadata": {},
          "output_type": "execute_result"
        }
      ],
      "source": [
        "property_data_fe[\"property_type\"].unique()"
      ]
    },
    {
      "cell_type": "markdown",
      "id": "1f1142f6",
      "metadata": {
        "id": "1f1142f6"
      },
      "source": [
        "For the time being, we are only interested in Houses and flats. So, other proprty types will not be needed."
      ]
    },
    {
      "cell_type": "code",
      "execution_count": 15,
      "id": "0736d6a6",
      "metadata": {
        "colab": {
          "base_uri": "https://localhost:8080/"
        },
        "id": "0736d6a6",
        "outputId": "f1d97420-4d10-4d9b-e8f4-15a44872fec7"
      },
      "outputs": [
        {
          "data": {
            "text/plain": [
              "array(['Lahore', 'Karachi', 'Islamabad', 'Faisalabad', 'Rawalpindi'],\n",
              "      dtype=object)"
            ]
          },
          "execution_count": 15,
          "metadata": {},
          "output_type": "execute_result"
        }
      ],
      "source": [
        "property_data_fe[\"city\"].unique()"
      ]
    },
    {
      "cell_type": "markdown",
      "id": "7d911c22",
      "metadata": {
        "id": "7d911c22"
      },
      "source": [
        "We only need selected areas whereas the data contain these locations:"
      ]
    },
    {
      "cell_type": "code",
      "execution_count": 16,
      "id": "08b9d9d3",
      "metadata": {
        "colab": {
          "base_uri": "https://localhost:8080/"
        },
        "id": "08b9d9d3",
        "outputId": "adedc0d5-7be8-4777-c1ec-fa65e52587d1"
      },
      "outputs": [
        {
          "data": {
            "text/plain": [
              "array(['Model Town', 'Multan Road', 'Eden', ..., 'Shabbir Town',\n",
              "       'Angori Scheme 1', 'Abid Road'], dtype=object)"
            ]
          },
          "execution_count": 16,
          "metadata": {},
          "output_type": "execute_result"
        }
      ],
      "source": [
        "property_data_fe[\"location\"].unique()"
      ]
    },
    {
      "cell_type": "code",
      "execution_count": 17,
      "id": "845064ce",
      "metadata": {
        "colab": {
          "base_uri": "https://localhost:8080/"
        },
        "id": "845064ce",
        "outputId": "70bd7f20-52c4-4993-aa93-cdcffd8cd58b"
      },
      "outputs": [
        {
          "data": {
            "text/plain": [
              "(60484, 24)"
            ]
          },
          "execution_count": 17,
          "metadata": {},
          "output_type": "execute_result"
        }
      ],
      "source": [
        "property_data_fe[property_data_fe[\"city\"] == \"Karachi\"].shape"
      ]
    },
    {
      "cell_type": "markdown",
      "id": "807a1000",
      "metadata": {
        "id": "807a1000"
      },
      "source": [
        "## 3. Cleaning the data"
      ]
    },
    {
      "cell_type": "markdown",
      "id": "cd888b28",
      "metadata": {
        "id": "cd888b28"
      },
      "source": [
        "### i. Dropping unnecessary rows"
      ]
    },
    {
      "cell_type": "markdown",
      "id": "6111a52c",
      "metadata": {
        "id": "6111a52c"
      },
      "source": [
        "Where there is no bathroom or no bedroom!\n",
        "\n",
        "\n"
      ]
    },
    {
      "cell_type": "code",
      "execution_count": 18,
      "id": "2b1cfffa",
      "metadata": {
        "id": "2b1cfffa"
      },
      "outputs": [],
      "source": [
        "property_data_fe.drop(property_data_fe[(property_data_fe['bedrooms']==0) | (property_data_fe['baths']==0)].index, inplace=True)"
      ]
    },
    {
      "cell_type": "markdown",
      "id": "fe0e68bb",
      "metadata": {
        "id": "fe0e68bb"
      },
      "source": [
        "Where # bathrooms is more than # bedrooms + dine, dinning."
      ]
    },
    {
      "cell_type": "code",
      "execution_count": 19,
      "id": "c8dcd78f",
      "metadata": {
        "id": "c8dcd78f"
      },
      "outputs": [],
      "source": [
        "property_data_fe.drop(property_data_fe[property_data_fe[\"baths\"] > property_data_fe[\"bedrooms\"] + 2].index, inplace=True)"
      ]
    },
    {
      "cell_type": "markdown",
      "id": "d25fd8dd",
      "metadata": {
        "id": "d25fd8dd"
      },
      "source": [
        "Where property type is other than House and Flats.\n",
        "\n"
      ]
    },
    {
      "cell_type": "code",
      "execution_count": 20,
      "id": "feb89e17",
      "metadata": {
        "id": "feb89e17"
      },
      "outputs": [],
      "source": [
        "unnecessary_property_types = ['Lower Portion', 'Penthouse', 'Upper Portion','Farm House', 'Room']\n",
        "property_data_fe.drop(property_data_fe[property_data_fe[\"property_type\"].isin(unnecessary_property_types)].index, inplace=True)"
      ]
    },
    {
      "cell_type": "markdown",
      "id": "5a674232",
      "metadata": {
        "id": "5a674232"
      },
      "source": [
        "Where city is Karachi."
      ]
    },
    {
      "cell_type": "code",
      "execution_count": 21,
      "id": "833a1fb8",
      "metadata": {
        "id": "833a1fb8"
      },
      "outputs": [],
      "source": [
        "excluded_cities = ['Lahore', 'Islamabad', 'Faisalabad', 'Rawalpindi']\n",
        "property_data_fe.drop(property_data_fe[property_data_fe[\"city\"].isin(excluded_cities)].index, inplace=True)"
      ]
    },
    {
      "cell_type": "markdown",
      "id": "ea5495f8",
      "metadata": {
        "id": "ea5495f8"
      },
      "source": [
        "Where location is in ['Clifton', 'DHA Defence', 'Gadap Town', 'Gulistan-e-Jauhar', 'Gulshan-e-Iqbal', 'Gulshan-e-Iqbal Town',\n",
        "             'Malir Cantonment', 'North Nazimabad', 'Scheme 33', 'DHA City Karachi', 'Faisal Cantonment', 'Federal B Area',\n",
        "            'Gulshan-e-Maymar', 'KDA Scheme 1', 'Korangi', 'Naya Nazimabad', 'Nazimababd', 'North Karachi', 'PECHS',\n",
        "             'Surjani Town']"
      ]
    },
    {
      "cell_type": "code",
      "execution_count": 22,
      "id": "3bec78f7",
      "metadata": {
        "colab": {
          "base_uri": "https://localhost:8080/"
        },
        "id": "3bec78f7",
        "outputId": "99a21e35-00c8-4f09-b89c-4fe5f52d25ad"
      },
      "outputs": [
        {
          "name": "stdout",
          "output_type": "stream",
          "text": [
            "['Gulistan-e-Jauhar' 'DHA Defence' 'Gadap Town' 'Gulshan-e-Iqbal Town'\n",
            " 'Scheme 33' 'North Nazimabad' 'Clifton' 'North Karachi' 'Federal B Area'\n",
            " 'Korangi' 'Naya Nazimabad' 'KDA Scheme 1' 'DHA City Karachi']\n"
          ]
        }
      ],
      "source": [
        "locations = ['Clifton', 'DHA Defence', 'Gadap Town', 'Gulistan-e-Jauhar', 'Gulshan-e-Iqbal', 'Gulshan-e-Iqbal Town',\n",
        "             'Malir Cantonment', 'North Nazimabad', 'Scheme 33', 'DHA City Karachi', 'Faisal Cantonment', 'Federal B Area',\n",
        "            'Gulshan-e-Maymar', 'KDA Scheme 1', 'Korangi', 'Naya Nazimabad', 'Nazimababd', 'North Karachi', 'PECHS',\n",
        "             'Surjani Town']\n",
        "\n",
        "mask = property_data_fe[\"location\"].isin(locations)\n",
        "print(property_data_fe[mask][\"location\"].unique())"
      ]
    },
    {
      "cell_type": "code",
      "execution_count": 23,
      "id": "60ca4485",
      "metadata": {
        "id": "60ca4485"
      },
      "outputs": [],
      "source": [
        "property_data_fe.drop(property_data_fe[~property_data_fe[\"location\"].isin(locations)].index, inplace=True)"
      ]
    },
    {
      "cell_type": "markdown",
      "id": "d34ee1ea",
      "metadata": {
        "id": "d34ee1ea"
      },
      "source": [
        "### ii. Dropping unnecessary columns or fields"
      ]
    },
    {
      "cell_type": "markdown",
      "id": "14d0b433",
      "metadata": {
        "id": "14d0b433"
      },
      "source": [
        "We do consider the most important features for price prediction and thus ignore other features in the dataset."
      ]
    },
    {
      "cell_type": "code",
      "execution_count": 24,
      "id": "bddef7f7",
      "metadata": {
        "id": "bddef7f7"
      },
      "outputs": [],
      "source": [
        "excess_columns = ['property_id', 'location_id', 'page_url', 'province_name', 'locality',\n",
        "                  'latitude', 'longitude', 'area', 'area_marla','purpose', 'date_added',\n",
        "                  'day', 'agency', 'agent']\n",
        "\n",
        "property_data_fe = property_data_fe.drop(excess_columns, axis=1)"
      ]
    },
    {
      "cell_type": "code",
      "execution_count": 25,
      "id": "c9e7bd75",
      "metadata": {
        "colab": {
          "base_uri": "https://localhost:8080/"
        },
        "id": "c9e7bd75",
        "outputId": "723c0c1b-e7e5-48f2-8a40-400f1fc5a707"
      },
      "outputs": [
        {
          "data": {
            "text/plain": [
              "Index(['property_type', 'price', 'price_bin', 'location', 'city', 'baths',\n",
              "       'area_sqft', 'bedrooms', 'year', 'month'],\n",
              "      dtype='object')"
            ]
          },
          "execution_count": 25,
          "metadata": {},
          "output_type": "execute_result"
        }
      ],
      "source": [
        "property_data_fe.columns"
      ]
    },
    {
      "cell_type": "markdown",
      "id": "2b3d0312",
      "metadata": {
        "id": "2b3d0312"
      },
      "source": [
        "### iii. Converting datatypes"
      ]
    },
    {
      "cell_type": "markdown",
      "id": "b3c5d1d9",
      "metadata": {
        "id": "b3c5d1d9"
      },
      "source": [
        "Year and month fields should be qualitative and not quantitative, so converting them into string from int datatype.\n",
        "Note: object by default"
      ]
    },
    {
      "cell_type": "code",
      "execution_count": 26,
      "id": "36c56847",
      "metadata": {
        "id": "36c56847"
      },
      "outputs": [],
      "source": [
        "property_data_fe[['year', 'month']] = property_data_fe[['year', 'month']].astype('str')"
      ]
    },
    {
      "cell_type": "markdown",
      "id": "WCC1CISQPtwV",
      "metadata": {
        "id": "WCC1CISQPtwV"
      },
      "source": [
        "### iv. Getting subset"
      ]
    },
    {
      "cell_type": "code",
      "execution_count": 27,
      "id": "RtGrolwdQD3T",
      "metadata": {
        "id": "RtGrolwdQD3T"
      },
      "outputs": [],
      "source": [
        "property_subset = property_data_fe[(property_data_fe['year'] == '2019') & (property_data_fe['month'] == '7')]"
      ]
    },
    {
      "cell_type": "markdown",
      "id": "f7b8d3fe",
      "metadata": {
        "id": "f7b8d3fe"
      },
      "source": [
        "### iv. Viewing the cleaned sample"
      ]
    },
    {
      "cell_type": "code",
      "execution_count": 28,
      "id": "dd59c8fb",
      "metadata": {
        "colab": {
          "base_uri": "https://localhost:8080/",
          "height": 206
        },
        "id": "dd59c8fb",
        "outputId": "47032705-82a2-4e97-8c12-5c6b747ba4bc",
        "scrolled": true
      },
      "outputs": [
        {
          "data": {
            "text/html": [
              "<div>\n",
              "<style scoped>\n",
              "    .dataframe tbody tr th:only-of-type {\n",
              "        vertical-align: middle;\n",
              "    }\n",
              "\n",
              "    .dataframe tbody tr th {\n",
              "        vertical-align: top;\n",
              "    }\n",
              "\n",
              "    .dataframe thead th {\n",
              "        text-align: right;\n",
              "    }\n",
              "</style>\n",
              "<table border=\"1\" class=\"dataframe\">\n",
              "  <thead>\n",
              "    <tr style=\"text-align: right;\">\n",
              "      <th></th>\n",
              "      <th>property_type</th>\n",
              "      <th>price</th>\n",
              "      <th>price_bin</th>\n",
              "      <th>location</th>\n",
              "      <th>city</th>\n",
              "      <th>baths</th>\n",
              "      <th>area_sqft</th>\n",
              "      <th>bedrooms</th>\n",
              "      <th>year</th>\n",
              "      <th>month</th>\n",
              "    </tr>\n",
              "  </thead>\n",
              "  <tbody>\n",
              "    <tr>\n",
              "      <th>218</th>\n",
              "      <td>House</td>\n",
              "      <td>35000000</td>\n",
              "      <td>Very High</td>\n",
              "      <td>Gulistan-e-Jauhar</td>\n",
              "      <td>Karachi</td>\n",
              "      <td>8</td>\n",
              "      <td>4356.02</td>\n",
              "      <td>6</td>\n",
              "      <td>2019</td>\n",
              "      <td>7</td>\n",
              "    </tr>\n",
              "    <tr>\n",
              "      <th>221</th>\n",
              "      <td>House</td>\n",
              "      <td>13000000</td>\n",
              "      <td>Medium</td>\n",
              "      <td>Gadap Town</td>\n",
              "      <td>Karachi</td>\n",
              "      <td>4</td>\n",
              "      <td>2613.61</td>\n",
              "      <td>4</td>\n",
              "      <td>2019</td>\n",
              "      <td>7</td>\n",
              "    </tr>\n",
              "    <tr>\n",
              "      <th>257</th>\n",
              "      <td>House</td>\n",
              "      <td>91500000</td>\n",
              "      <td>Very High</td>\n",
              "      <td>DHA Defence</td>\n",
              "      <td>Karachi</td>\n",
              "      <td>6</td>\n",
              "      <td>6534.02</td>\n",
              "      <td>5</td>\n",
              "      <td>2019</td>\n",
              "      <td>7</td>\n",
              "    </tr>\n",
              "    <tr>\n",
              "      <th>281</th>\n",
              "      <td>Flat</td>\n",
              "      <td>22500000</td>\n",
              "      <td>Very High</td>\n",
              "      <td>DHA Defence</td>\n",
              "      <td>Karachi</td>\n",
              "      <td>3</td>\n",
              "      <td>2178.01</td>\n",
              "      <td>3</td>\n",
              "      <td>2019</td>\n",
              "      <td>7</td>\n",
              "    </tr>\n",
              "    <tr>\n",
              "      <th>282</th>\n",
              "      <td>House</td>\n",
              "      <td>45000000</td>\n",
              "      <td>Very High</td>\n",
              "      <td>Gulistan-e-Jauhar</td>\n",
              "      <td>Karachi</td>\n",
              "      <td>4</td>\n",
              "      <td>2885.86</td>\n",
              "      <td>4</td>\n",
              "      <td>2019</td>\n",
              "      <td>7</td>\n",
              "    </tr>\n",
              "  </tbody>\n",
              "</table>\n",
              "</div>"
            ],
            "text/plain": [
              "    property_type     price  price_bin           location     city  baths  \\\n",
              "218         House  35000000  Very High  Gulistan-e-Jauhar  Karachi      8   \n",
              "221         House  13000000     Medium         Gadap Town  Karachi      4   \n",
              "257         House  91500000  Very High        DHA Defence  Karachi      6   \n",
              "281          Flat  22500000  Very High        DHA Defence  Karachi      3   \n",
              "282         House  45000000  Very High  Gulistan-e-Jauhar  Karachi      4   \n",
              "\n",
              "     area_sqft  bedrooms  year month  \n",
              "218    4356.02         6  2019     7  \n",
              "221    2613.61         4  2019     7  \n",
              "257    6534.02         5  2019     7  \n",
              "281    2178.01         3  2019     7  \n",
              "282    2885.86         4  2019     7  "
            ]
          },
          "execution_count": 28,
          "metadata": {},
          "output_type": "execute_result"
        }
      ],
      "source": [
        "property_subset.head()"
      ]
    },
    {
      "cell_type": "markdown",
      "id": "2ec06174",
      "metadata": {
        "id": "2ec06174"
      },
      "source": [
        "### v. Resetting the dataframe on the basis of indices and not any column/field"
      ]
    },
    {
      "cell_type": "code",
      "execution_count": 29,
      "id": "e4332758",
      "metadata": {
        "colab": {
          "base_uri": "https://localhost:8080/",
          "height": 206
        },
        "id": "e4332758",
        "outputId": "d01051e6-ea31-4e33-8f36-4614db823766",
        "scrolled": true
      },
      "outputs": [
        {
          "data": {
            "text/html": [
              "<div>\n",
              "<style scoped>\n",
              "    .dataframe tbody tr th:only-of-type {\n",
              "        vertical-align: middle;\n",
              "    }\n",
              "\n",
              "    .dataframe tbody tr th {\n",
              "        vertical-align: top;\n",
              "    }\n",
              "\n",
              "    .dataframe thead th {\n",
              "        text-align: right;\n",
              "    }\n",
              "</style>\n",
              "<table border=\"1\" class=\"dataframe\">\n",
              "  <thead>\n",
              "    <tr style=\"text-align: right;\">\n",
              "      <th></th>\n",
              "      <th>property_type</th>\n",
              "      <th>price</th>\n",
              "      <th>price_bin</th>\n",
              "      <th>location</th>\n",
              "      <th>city</th>\n",
              "      <th>baths</th>\n",
              "      <th>area_sqft</th>\n",
              "      <th>bedrooms</th>\n",
              "      <th>year</th>\n",
              "      <th>month</th>\n",
              "    </tr>\n",
              "  </thead>\n",
              "  <tbody>\n",
              "    <tr>\n",
              "      <th>0</th>\n",
              "      <td>House</td>\n",
              "      <td>35000000</td>\n",
              "      <td>Very High</td>\n",
              "      <td>Gulistan-e-Jauhar</td>\n",
              "      <td>Karachi</td>\n",
              "      <td>8</td>\n",
              "      <td>4356.02</td>\n",
              "      <td>6</td>\n",
              "      <td>2019</td>\n",
              "      <td>7</td>\n",
              "    </tr>\n",
              "    <tr>\n",
              "      <th>1</th>\n",
              "      <td>House</td>\n",
              "      <td>13000000</td>\n",
              "      <td>Medium</td>\n",
              "      <td>Gadap Town</td>\n",
              "      <td>Karachi</td>\n",
              "      <td>4</td>\n",
              "      <td>2613.61</td>\n",
              "      <td>4</td>\n",
              "      <td>2019</td>\n",
              "      <td>7</td>\n",
              "    </tr>\n",
              "    <tr>\n",
              "      <th>2</th>\n",
              "      <td>House</td>\n",
              "      <td>91500000</td>\n",
              "      <td>Very High</td>\n",
              "      <td>DHA Defence</td>\n",
              "      <td>Karachi</td>\n",
              "      <td>6</td>\n",
              "      <td>6534.02</td>\n",
              "      <td>5</td>\n",
              "      <td>2019</td>\n",
              "      <td>7</td>\n",
              "    </tr>\n",
              "    <tr>\n",
              "      <th>3</th>\n",
              "      <td>Flat</td>\n",
              "      <td>22500000</td>\n",
              "      <td>Very High</td>\n",
              "      <td>DHA Defence</td>\n",
              "      <td>Karachi</td>\n",
              "      <td>3</td>\n",
              "      <td>2178.01</td>\n",
              "      <td>3</td>\n",
              "      <td>2019</td>\n",
              "      <td>7</td>\n",
              "    </tr>\n",
              "    <tr>\n",
              "      <th>4</th>\n",
              "      <td>House</td>\n",
              "      <td>45000000</td>\n",
              "      <td>Very High</td>\n",
              "      <td>Gulistan-e-Jauhar</td>\n",
              "      <td>Karachi</td>\n",
              "      <td>4</td>\n",
              "      <td>2885.86</td>\n",
              "      <td>4</td>\n",
              "      <td>2019</td>\n",
              "      <td>7</td>\n",
              "    </tr>\n",
              "  </tbody>\n",
              "</table>\n",
              "</div>"
            ],
            "text/plain": [
              "  property_type     price  price_bin           location     city  baths  \\\n",
              "0         House  35000000  Very High  Gulistan-e-Jauhar  Karachi      8   \n",
              "1         House  13000000     Medium         Gadap Town  Karachi      4   \n",
              "2         House  91500000  Very High        DHA Defence  Karachi      6   \n",
              "3          Flat  22500000  Very High        DHA Defence  Karachi      3   \n",
              "4         House  45000000  Very High  Gulistan-e-Jauhar  Karachi      4   \n",
              "\n",
              "   area_sqft  bedrooms  year month  \n",
              "0    4356.02         6  2019     7  \n",
              "1    2613.61         4  2019     7  \n",
              "2    6534.02         5  2019     7  \n",
              "3    2178.01         3  2019     7  \n",
              "4    2885.86         4  2019     7  "
            ]
          },
          "execution_count": 29,
          "metadata": {},
          "output_type": "execute_result"
        }
      ],
      "source": [
        "property_subset = property_subset.reset_index()\n",
        "property_subset = property_subset.drop(\"index\",axis=1)\n",
        "property_subset.head()"
      ]
    },
    {
      "cell_type": "markdown",
      "id": "f2165907",
      "metadata": {
        "id": "f2165907"
      },
      "source": [
        "## Normality Test"
      ]
    },
    {
      "cell_type": "code",
      "execution_count": 30,
      "id": "2146fc63",
      "metadata": {
        "colab": {
          "base_uri": "https://localhost:8080/",
          "height": 206
        },
        "id": "2146fc63",
        "outputId": "691894fa-ad53-4089-961d-6d985bfbd978"
      },
      "outputs": [
        {
          "data": {
            "text/html": [
              "<div>\n",
              "<style scoped>\n",
              "    .dataframe tbody tr th:only-of-type {\n",
              "        vertical-align: middle;\n",
              "    }\n",
              "\n",
              "    .dataframe tbody tr th {\n",
              "        vertical-align: top;\n",
              "    }\n",
              "\n",
              "    .dataframe thead th {\n",
              "        text-align: right;\n",
              "    }\n",
              "</style>\n",
              "<table border=\"1\" class=\"dataframe\">\n",
              "  <thead>\n",
              "    <tr style=\"text-align: right;\">\n",
              "      <th></th>\n",
              "      <th>property_type</th>\n",
              "      <th>price</th>\n",
              "      <th>price_bin</th>\n",
              "      <th>location</th>\n",
              "      <th>city</th>\n",
              "      <th>baths</th>\n",
              "      <th>area_sqft</th>\n",
              "      <th>bedrooms</th>\n",
              "      <th>year</th>\n",
              "      <th>month</th>\n",
              "      <th>price_per_sqft</th>\n",
              "    </tr>\n",
              "  </thead>\n",
              "  <tbody>\n",
              "    <tr>\n",
              "      <th>0</th>\n",
              "      <td>House</td>\n",
              "      <td>35000000</td>\n",
              "      <td>Very High</td>\n",
              "      <td>Gulistan-e-Jauhar</td>\n",
              "      <td>Karachi</td>\n",
              "      <td>8</td>\n",
              "      <td>4356.02</td>\n",
              "      <td>6</td>\n",
              "      <td>2019</td>\n",
              "      <td>7</td>\n",
              "      <td>8034.857508</td>\n",
              "    </tr>\n",
              "    <tr>\n",
              "      <th>1</th>\n",
              "      <td>House</td>\n",
              "      <td>13000000</td>\n",
              "      <td>Medium</td>\n",
              "      <td>Gadap Town</td>\n",
              "      <td>Karachi</td>\n",
              "      <td>4</td>\n",
              "      <td>2613.61</td>\n",
              "      <td>4</td>\n",
              "      <td>2019</td>\n",
              "      <td>7</td>\n",
              "      <td>4973.963216</td>\n",
              "    </tr>\n",
              "    <tr>\n",
              "      <th>2</th>\n",
              "      <td>House</td>\n",
              "      <td>91500000</td>\n",
              "      <td>Very High</td>\n",
              "      <td>DHA Defence</td>\n",
              "      <td>Karachi</td>\n",
              "      <td>6</td>\n",
              "      <td>6534.02</td>\n",
              "      <td>5</td>\n",
              "      <td>2019</td>\n",
              "      <td>7</td>\n",
              "      <td>14003.630231</td>\n",
              "    </tr>\n",
              "    <tr>\n",
              "      <th>3</th>\n",
              "      <td>Flat</td>\n",
              "      <td>22500000</td>\n",
              "      <td>Very High</td>\n",
              "      <td>DHA Defence</td>\n",
              "      <td>Karachi</td>\n",
              "      <td>3</td>\n",
              "      <td>2178.01</td>\n",
              "      <td>3</td>\n",
              "      <td>2019</td>\n",
              "      <td>7</td>\n",
              "      <td>10330.531081</td>\n",
              "    </tr>\n",
              "    <tr>\n",
              "      <th>4</th>\n",
              "      <td>House</td>\n",
              "      <td>45000000</td>\n",
              "      <td>Very High</td>\n",
              "      <td>Gulistan-e-Jauhar</td>\n",
              "      <td>Karachi</td>\n",
              "      <td>4</td>\n",
              "      <td>2885.86</td>\n",
              "      <td>4</td>\n",
              "      <td>2019</td>\n",
              "      <td>7</td>\n",
              "      <td>15593.272023</td>\n",
              "    </tr>\n",
              "  </tbody>\n",
              "</table>\n",
              "</div>"
            ],
            "text/plain": [
              "  property_type     price  price_bin           location     city  baths  \\\n",
              "0         House  35000000  Very High  Gulistan-e-Jauhar  Karachi      8   \n",
              "1         House  13000000     Medium         Gadap Town  Karachi      4   \n",
              "2         House  91500000  Very High        DHA Defence  Karachi      6   \n",
              "3          Flat  22500000  Very High        DHA Defence  Karachi      3   \n",
              "4         House  45000000  Very High  Gulistan-e-Jauhar  Karachi      4   \n",
              "\n",
              "   area_sqft  bedrooms  year month  price_per_sqft  \n",
              "0    4356.02         6  2019     7     8034.857508  \n",
              "1    2613.61         4  2019     7     4973.963216  \n",
              "2    6534.02         5  2019     7    14003.630231  \n",
              "3    2178.01         3  2019     7    10330.531081  \n",
              "4    2885.86         4  2019     7    15593.272023  "
            ]
          },
          "execution_count": 30,
          "metadata": {},
          "output_type": "execute_result"
        }
      ],
      "source": [
        "property_subset['price_per_sqft'] = property_subset['price'] / property_subset['area_sqft']\n",
        "property_subset.head()"
      ]
    },
    {
      "cell_type": "markdown",
      "id": "5c421d85",
      "metadata": {
        "id": "5c421d85"
      },
      "source": [
        "### Visual Method: Create a Histogram:\n",
        "Plotting a histogram can provide a visual indication of whether the data follows a normal distribution. If the histogram is roughly bell-shaped, then the data is assumed to be normally distributed"
      ]
    },
    {
      "cell_type": "code",
      "execution_count": 31,
      "id": "70c5e9a9",
      "metadata": {
        "colab": {
          "base_uri": "https://localhost:8080/",
          "height": 850
        },
        "id": "70c5e9a9",
        "outputId": "9304907b-8e85-4b8f-cb22-e5f730a19c5e"
      },
      "outputs": [
        {
          "data": {
            "image/png": "[encoded data removed]",
            "text/plain": [
              "<Figure size 1080x720 with 1 Axes>"
            ]
          },
          "metadata": {
            "needs_background": "light"
          },
          "output_type": "display_data"
        }
      ],
      "source": [
        "fig, ax = plt.subplots(figsize=(15,10))\n",
        "plt.hist(property_subset['price'], rwidth=0.8)\n",
        "plt.xlabel(\"Price\")\n",
        "plt.ylabel(\"Count\")\n",
        "plt.show()"
      ]
    },
    {
      "cell_type": "code",
      "execution_count": 32,
      "id": "62fd2a30",
      "metadata": {
        "colab": {
          "base_uri": "https://localhost:8080/",
          "height": 850
        },
        "id": "62fd2a30",
        "outputId": "51cb705d-53a6-4c20-facf-cccc98a0f037"
      },
      "outputs": [
        {
          "data": {
            "image/png": "[encoded data removed]",
            "text/plain": [
              "<Figure size 1080x720 with 1 Axes>"
            ]
          },
          "metadata": {
            "needs_background": "light"
          },
          "output_type": "display_data"
        }
      ],
      "source": [
        "fig, ax = plt.subplots(figsize=(15,10))\n",
        "plt.hist(property_subset['price_per_sqft'], rwidth=0.8)\n",
        "plt.xlabel(\"Price per Sqft\")\n",
        "plt.ylabel(\"Count\")\n",
        "plt.show()"
      ]
    },
    {
      "cell_type": "markdown",
      "id": "398ad302",
      "metadata": {
        "id": "398ad302"
      },
      "source": [
        "### Visual Method: Create a Q-Q Plot:\n",
        "A Q-Q plot compares the quantiles of the data to the quantiles of a theoretical normal distribution. If the points in the plot roughly fall along a straight diagonal line, then the data is assumed to be normally distributed"
      ]
    },
    {
      "cell_type": "code",
      "execution_count": 33,
      "id": "85661229",
      "metadata": {
        "colab": {
          "base_uri": "https://localhost:8080/",
          "height": 465
        },
        "id": "85661229",
        "outputId": "d9356c96-9855-4071-c0c2-8e263d6b8ba5"
      },
      "outputs": [
        {
          "data": {
            "image/png": "[encoded data removed]",
            "text/plain": [
              "<Figure size 432x288 with 1 Axes>"
            ]
          },
          "metadata": {
            "needs_background": "light"
          },
          "output_type": "display_data"
        }
      ],
      "source": [
        "sm.qqplot(property_subset['price'], line='s')\n",
        "plt.show()"
      ]
    },
    {
      "cell_type": "code",
      "execution_count": 34,
      "id": "383b2296",
      "metadata": {
        "colab": {
          "base_uri": "https://localhost:8080/",
          "height": 449
        },
        "id": "383b2296",
        "outputId": "4d1d5d6f-23ec-40a2-f5f5-1ebf7b2190c2"
      },
      "outputs": [
        {
          "data": {
            "image/png": "[encoded data removed]",
            "text/plain": [
              "<Figure size 432x288 with 1 Axes>"
            ]
          },
          "metadata": {
            "needs_background": "light"
          },
          "output_type": "display_data"
        }
      ],
      "source": [
        "sm.qqplot(property_subset['price_per_sqft'], line='s')\n",
        "plt.show()"
      ]
    },
    {
      "cell_type": "code",
      "execution_count": null,
      "id": "281b8987",
      "metadata": {
        "id": "281b8987"
      },
      "outputs": [],
      "source": []
    },
    {
      "cell_type": "markdown",
      "id": "dcb258f7",
      "metadata": {
        "id": "dcb258f7"
      },
      "source": [
        "## Outliers detection and removal"
      ]
    },
    {
      "cell_type": "markdown",
      "id": "b464b506",
      "metadata": {
        "id": "b464b506"
      },
      "source": [
        "We need to remove outliers, considering the above graph as data points aren't normal for total price and price per sqft."
      ]
    },
    {
      "cell_type": "code",
      "execution_count": 35,
      "id": "d0c55dd8",
      "metadata": {
        "colab": {
          "base_uri": "https://localhost:8080/"
        },
        "id": "d0c55dd8",
        "outputId": "be4027b0-15e4-450c-c46d-85cb2ced6d9c"
      },
      "outputs": [
        {
          "data": {
            "text/plain": [
              "13"
            ]
          },
          "execution_count": 35,
          "metadata": {},
          "output_type": "execute_result"
        }
      ],
      "source": [
        "property_subset[\"location\"].nunique()"
      ]
    },
    {
      "cell_type": "code",
      "execution_count": 36,
      "id": "59f5ef11",
      "metadata": {
        "colab": {
          "base_uri": "https://localhost:8080/"
        },
        "id": "59f5ef11",
        "outputId": "3435d628-9e72-4f9c-cfcf-2c9dc5297d83"
      },
      "outputs": [
        {
          "data": {
            "text/plain": [
              "location\n",
              "DHA Defence             2949\n",
              "Gulistan-e-Jauhar       1146\n",
              "Gulshan-e-Iqbal Town     900\n",
              "Gadap Town               803\n",
              "Scheme 33                742\n",
              "North Karachi            648\n",
              "North Nazimabad          596\n",
              "Clifton                  478\n",
              "Federal B Area           203\n",
              "Korangi                  188\n",
              "Naya Nazimabad            24\n",
              "KDA Scheme 1              18\n",
              "DHA City Karachi           1\n",
              "Name: location, dtype: int64"
            ]
          },
          "execution_count": 36,
          "metadata": {},
          "output_type": "execute_result"
        }
      ],
      "source": [
        "property_subset['location'] = property_subset['location'].apply(lambda x: x.strip())\n",
        "location_stats = property_subset.groupby('location')['location'].agg('count').sort_values(ascending=False)\n",
        "location_stats"
      ]
    },
    {
      "cell_type": "markdown",
      "id": "7421b423",
      "metadata": {
        "id": "7421b423"
      },
      "source": [
        "##### i. Each bedroom should have above 300 square feet area"
      ]
    },
    {
      "cell_type": "code",
      "execution_count": 37,
      "id": "301e4c83",
      "metadata": {
        "id": "301e4c83"
      },
      "outputs": [],
      "source": [
        "property_subset.drop(property_subset[property_subset['area_sqft'] / property_subset['bedrooms'] < 300].index, inplace = True)"
      ]
    },
    {
      "cell_type": "markdown",
      "id": "5a68dc0c",
      "metadata": {
        "id": "5a68dc0c"
      },
      "source": [
        "##### ii. Price per sqft needs to be in normal distribution\n"
      ]
    },
    {
      "cell_type": "markdown",
      "id": "a582474e",
      "metadata": {
        "id": "a582474e"
      },
      "source": [
        "We need to decrease the standard deviation"
      ]
    },
    {
      "cell_type": "code",
      "execution_count": 38,
      "id": "e2a3bca5",
      "metadata": {
        "colab": {
          "base_uri": "https://localhost:8080/"
        },
        "id": "e2a3bca5",
        "outputId": "acc090a8-020d-4914-bfba-5347bc4844a4"
      },
      "outputs": [
        {
          "data": {
            "text/plain": [
              "count     7982.000000\n",
              "mean      6799.765831\n",
              "std       6908.519368\n",
              "min          0.000765\n",
              "25%         55.096216\n",
              "50%       5739.183934\n",
              "75%      10330.531081\n",
              "max      55096.216359\n",
              "Name: price_per_sqft, dtype: float64"
            ]
          },
          "execution_count": 38,
          "metadata": {},
          "output_type": "execute_result"
        }
      ],
      "source": [
        "property_subset[\"price_per_sqft\"].describe()"
      ]
    },
    {
      "cell_type": "code",
      "execution_count": 39,
      "id": "40463c2e",
      "metadata": {
        "id": "40463c2e"
      },
      "outputs": [],
      "source": [
        "# removing price_per_sqft outliers\n",
        "def remove_pps_outliers(df):\n",
        "    df_out = pd.DataFrame()\n",
        "    for key,subdf in df.groupby('location'):\n",
        "        m = np.mean(subdf['price_per_sqft'])\n",
        "        std = np.std(subdf['price_per_sqft'])\n",
        "        reduced_df = subdf[(subdf['price_per_sqft'] > (m-std)) & (subdf['price_per_sqft'] <= (m+std))]\n",
        "        df_out = pd.concat([df_out,reduced_df], ignore_index=True)\n",
        "    return df_out"
      ]
    },
    {
      "cell_type": "code",
      "execution_count": 40,
      "id": "a7ffd097",
      "metadata": {
        "colab": {
          "base_uri": "https://localhost:8080/"
        },
        "id": "a7ffd097",
        "outputId": "2948b45f-e39e-4d25-bee4-98a309d41022"
      },
      "outputs": [
        {
          "data": {
            "text/plain": [
              "(5592, 11)"
            ]
          },
          "execution_count": 40,
          "metadata": {},
          "output_type": "execute_result"
        }
      ],
      "source": [
        "property_subset = remove_pps_outliers(property_subset)\n",
        "property_subset.shape"
      ]
    },
    {
      "cell_type": "code",
      "execution_count": 41,
      "id": "0c3a08a0",
      "metadata": {
        "colab": {
          "base_uri": "https://localhost:8080/"
        },
        "id": "0c3a08a0",
        "outputId": "38680e86-6d68-4a90-c385-c93f1bbf64ff"
      },
      "outputs": [
        {
          "data": {
            "text/plain": [
              "count     5592.000000\n",
              "mean      5144.241095\n",
              "std       4291.166260\n",
              "min          0.001469\n",
              "25%         55.096250\n",
              "50%       5331.879902\n",
              "75%       8034.894399\n",
              "max      25252.409309\n",
              "Name: price_per_sqft, dtype: float64"
            ]
          },
          "execution_count": 41,
          "metadata": {},
          "output_type": "execute_result"
        }
      ],
      "source": [
        "property_subset[\"price_per_sqft\"].describe()"
      ]
    },
    {
      "cell_type": "code",
      "execution_count": 42,
      "id": "04ce7016",
      "metadata": {
        "id": "04ce7016"
      },
      "outputs": [],
      "source": [
        "def plot_scatter_chart(df, location):\n",
        "    bedroom_2 = df[(df['location'] == location) & (df['bedrooms'] == 2)]\n",
        "    bedroom_3 = df[(df['location'] == location) & (df['bedrooms'] == 3)]\n",
        "    matplotlib.rcParams[\"figure.figsize\"] = (15,10)\n",
        "    plt.scatter(bedroom_2['area_sqft'], bedroom_2['price']/100000, color='blue', label=\"2 Bedroom\", s=50)\n",
        "    plt.scatter(bedroom_3['area_sqft'], bedroom_3['price']/100000, marker='+', color=\"green\", label=\"3 Bedroom\", s=50)\n",
        "    plt.xlabel(\"Total Square Feet Area\")\n",
        "    plt.ylabel(\"Price\")\n",
        "    plt.title(location)\n",
        "    plt.legend()"
      ]
    },
    {
      "cell_type": "code",
      "execution_count": 43,
      "id": "cbe7175e",
      "metadata": {
        "colab": {
          "base_uri": "https://localhost:8080/",
          "height": 872
        },
        "id": "cbe7175e",
        "outputId": "d2447bed-40bc-490a-a727-cb80baf591c5"
      },
      "outputs": [
        {
          "data": {
            "image/png": "[encoded data removed]",
            "text/plain": [
              "<Figure size 1080x720 with 1 Axes>"
            ]
          },
          "metadata": {
            "needs_background": "light"
          },
          "output_type": "display_data"
        }
      ],
      "source": [
        "plot_scatter_chart(property_subset, \"Federal B Area\")"
      ]
    },
    {
      "cell_type": "markdown",
      "id": "d509d948",
      "metadata": {
        "id": "d509d948"
      },
      "source": [
        "Above graph shows some data points are faulty, the price of 2 bedroom property and 3 bedroom property are located very close such that even the 3 bedroom property price is less than 2 bedroom in the same area.\n",
        "\n",
        "Removing the outliers for price per square feet such that as the number of bedrooms increase , price per square feet for the property also increases."
      ]
    },
    {
      "cell_type": "code",
      "execution_count": 44,
      "id": "2fc26569",
      "metadata": {
        "id": "2fc26569"
      },
      "outputs": [],
      "source": [
        "def remove_bhk_outliers(df):\n",
        "    exclude_indices = np.array([])\n",
        "    for location, location_df in df.groupby(\"location\"):\n",
        "        bhk_stats = {}\n",
        "        for bedroom, bedroom_df in location_df.groupby(\"bedrooms\"):\n",
        "            bhk_stats[bedroom] = {\n",
        "                'mean' : np.mean(bedroom_df[\"price_per_sqft\"]),\n",
        "                'std' : np.std(bedroom_df[\"price_per_sqft\"]),\n",
        "                'count': bedroom_df.shape[0]\n",
        "            }\n",
        "        for bedroom, bedroom_df in location_df.groupby(\"bedrooms\"):\n",
        "            stats = bhk_stats.get(bedroom - 1)\n",
        "            if stats and stats['count']>5:\n",
        "                exclude_indices = np.append(exclude_indices, bedroom_df[bedroom_df['price_per_sqft'] < (stats['mean'])].index.values)\n",
        "    return df.drop(exclude_indices, axis=\"index\")"
      ]
    },
    {
      "cell_type": "code",
      "execution_count": 45,
      "id": "768cef56",
      "metadata": {
        "colab": {
          "base_uri": "https://localhost:8080/"
        },
        "id": "768cef56",
        "outputId": "7265217f-aabe-44ec-95f2-e08b0d3086a7"
      },
      "outputs": [
        {
          "data": {
            "text/plain": [
              "(3274, 11)"
            ]
          },
          "execution_count": 45,
          "metadata": {},
          "output_type": "execute_result"
        }
      ],
      "source": [
        "property_subset = remove_bhk_outliers(property_subset)\n",
        "property_subset.shape"
      ]
    },
    {
      "cell_type": "code",
      "execution_count": 46,
      "id": "MUtPgih7TKyv",
      "metadata": {
        "colab": {
          "base_uri": "https://localhost:8080/"
        },
        "id": "MUtPgih7TKyv",
        "outputId": "6259b0f0-4217-463c-8c80-3f8c13816e3b"
      },
      "outputs": [
        {
          "data": {
            "text/plain": [
              "count     3274.000000\n",
              "mean      7841.724318\n",
              "std       3249.526169\n",
              "min          4.973963\n",
              "25%       5739.183934\n",
              "50%       7433.643797\n",
              "75%       9907.583371\n",
              "max      25252.409309\n",
              "Name: price_per_sqft, dtype: float64"
            ]
          },
          "execution_count": 46,
          "metadata": {},
          "output_type": "execute_result"
        }
      ],
      "source": [
        "property_subset[\"price_per_sqft\"].describe()"
      ]
    },
    {
      "cell_type": "code",
      "execution_count": 47,
      "id": "JsdnlY_STb7o",
      "metadata": {
        "id": "JsdnlY_STb7o"
      },
      "outputs": [],
      "source": [
        "property_subset = property_subset[property_subset[\"price_per_sqft\"] > 3000]"
      ]
    },
    {
      "cell_type": "code",
      "execution_count": 48,
      "id": "lt1bvGF3UYQY",
      "metadata": {
        "colab": {
          "base_uri": "https://localhost:8080/"
        },
        "id": "lt1bvGF3UYQY",
        "outputId": "f331086e-8f5a-43e7-ba55-2748c14e357f"
      },
      "outputs": [
        {
          "data": {
            "text/plain": [
              "3137"
            ]
          },
          "execution_count": 48,
          "metadata": {},
          "output_type": "execute_result"
        }
      ],
      "source": [
        "len(property_subset)"
      ]
    },
    {
      "cell_type": "code",
      "execution_count": 49,
      "id": "e8b66293",
      "metadata": {
        "colab": {
          "base_uri": "https://localhost:8080/"
        },
        "id": "e8b66293",
        "outputId": "b36aef57-64fe-439f-f3e8-5661ef862d2b"
      },
      "outputs": [
        {
          "data": {
            "text/plain": [
              "location\n",
              "DHA Defence             762\n",
              "Gulistan-e-Jauhar       456\n",
              "Scheme 33               427\n",
              "Gulshan-e-Iqbal Town    368\n",
              "Gadap Town              345\n",
              "North Karachi           278\n",
              "North Nazimabad         264\n",
              "Federal B Area           91\n",
              "Clifton                  86\n",
              "Korangi                  35\n",
              "Naya Nazimabad           17\n",
              "KDA Scheme 1              8\n",
              "Name: location, dtype: int64"
            ]
          },
          "execution_count": 49,
          "metadata": {},
          "output_type": "execute_result"
        }
      ],
      "source": [
        "property_subset.groupby('location')['location'].agg('count').sort_values(ascending=False)"
      ]
    },
    {
      "cell_type": "code",
      "execution_count": 50,
      "id": "6501abc5",
      "metadata": {
        "colab": {
          "base_uri": "https://localhost:8080/",
          "height": 872
        },
        "id": "6501abc5",
        "outputId": "d7682fa9-9d17-43da-d122-33a9086014a4"
      },
      "outputs": [
        {
          "data": {
            "image/png": "[encoded data removed]",
            "text/plain": [
              "<Figure size 1080x720 with 1 Axes>"
            ]
          },
          "metadata": {
            "needs_background": "light"
          },
          "output_type": "display_data"
        }
      ],
      "source": [
        "plot_scatter_chart(property_subset,\"Federal B Area\")"
      ]
    },
    {
      "cell_type": "markdown",
      "id": "c106a193",
      "metadata": {
        "id": "c106a193"
      },
      "source": [
        "Following graphs show how much impact outlier removal has on the data points! They can't be completely normal but the spread of data points has improved alot!"
      ]
    },
    {
      "cell_type": "code",
      "execution_count": 51,
      "id": "41434ccd",
      "metadata": {
        "colab": {
          "base_uri": "https://localhost:8080/",
          "height": 851
        },
        "id": "41434ccd",
        "outputId": "9f2e6ffa-056a-49a4-d0ab-936904990087"
      },
      "outputs": [
        {
          "data": {
            "image/png": "[encoded data removed]",
            "text/plain": [
              "<Figure size 1080x720 with 1 Axes>"
            ]
          },
          "metadata": {
            "needs_background": "light"
          },
          "output_type": "display_data"
        }
      ],
      "source": [
        "fig, ax = plt.subplots(figsize=(15,10))\n",
        "plt.hist(property_subset['price_per_sqft'], rwidth=0.8)\n",
        "plt.xlabel(\"Price Per Square Ft\")\n",
        "plt.ylabel(\"Count\")\n",
        "plt.show()"
      ]
    },
    {
      "cell_type": "code",
      "execution_count": 52,
      "id": "57d6b84e",
      "metadata": {
        "colab": {
          "base_uri": "https://localhost:8080/",
          "height": 850
        },
        "id": "57d6b84e",
        "outputId": "0ad97340-1e28-4740-bff0-01cf4dee2a8e"
      },
      "outputs": [
        {
          "data": {
            "image/png": "[encoded data removed]",
            "text/plain": [
              "<Figure size 1080x720 with 1 Axes>"
            ]
          },
          "metadata": {
            "needs_background": "light"
          },
          "output_type": "display_data"
        }
      ],
      "source": [
        "fig, ax = plt.subplots(figsize=(15,10))\n",
        "plt.hist(property_subset['price'], rwidth=0.8)\n",
        "plt.xlabel(\"Price\")\n",
        "plt.ylabel(\"Count\")\n",
        "plt.show()"
      ]
    },
    {
      "cell_type": "code",
      "execution_count": 53,
      "id": "d3a0cf24",
      "metadata": {
        "id": "d3a0cf24"
      },
      "outputs": [],
      "source": [
        "# now, no need for this column so dropping it\n",
        "property_subset = property_subset.drop(['price_per_sqft'], axis=1)\n"
      ]
    },
    {
      "cell_type": "code",
      "execution_count": 54,
      "id": "0f2daa50",
      "metadata": {
        "id": "0f2daa50"
      },
      "outputs": [],
      "source": [
        "# property_data_fe.to_csv('property-data-cleaned.csv', encoding='utf-8')"
      ]
    },
    {
      "cell_type": "code",
      "execution_count": 55,
      "id": "882d5832",
      "metadata": {
        "colab": {
          "base_uri": "https://localhost:8080/"
        },
        "id": "882d5832",
        "outputId": "1838775e-9494-4163-a432-362a11298a5f"
      },
      "outputs": [
        {
          "data": {
            "text/plain": [
              "Index(['property_type', 'price', 'price_bin', 'location', 'city', 'baths',\n",
              "       'area_sqft', 'bedrooms', 'year', 'month'],\n",
              "      dtype='object')"
            ]
          },
          "execution_count": 55,
          "metadata": {},
          "output_type": "execute_result"
        }
      ],
      "source": [
        "property_subset.columns"
      ]
    },
    {
      "cell_type": "markdown",
      "id": "IksJsPhDz-Dd",
      "metadata": {
        "id": "IksJsPhDz-Dd"
      },
      "source": [
        "## Exploratory Data Analysis"
      ]
    },
    {
      "cell_type": "markdown",
      "id": "E2IPz-Hp1137",
      "metadata": {
        "id": "E2IPz-Hp1137"
      },
      "source": [
        "### Histogram"
      ]
    },
    {
      "cell_type": "code",
      "execution_count": 56,
      "id": "7JWpDG7JWiyG",
      "metadata": {
        "colab": {
          "base_uri": "https://localhost:8080/",
          "height": 1000
        },
        "id": "7JWpDG7JWiyG",
        "outputId": "3dc94aed-1a21-47db-8cc6-9c80e97dcd01"
      },
      "outputs": [
        {
          "data": {
            "image/png": "[encoded data removed]",
            "text/plain": [
              "<Figure size 720x432 with 1 Axes>"
            ]
          },
          "metadata": {
            "needs_background": "light"
          },
          "output_type": "display_data"
        },
        {
          "data": {
            "image/png": "[encoded data removed]",
            "text/plain": [
              "<Figure size 720x432 with 1 Axes>"
            ]
          },
          "metadata": {
            "needs_background": "light"
          },
          "output_type": "display_data"
        },
        {
          "data": {
            "image/png": "[encoded data removed]",
            "text/plain": [
              "<Figure size 720x432 with 1 Axes>"
            ]
          },
          "metadata": {
            "needs_background": "light"
          },
          "output_type": "display_data"
        },
        {
          "data": {
            "image/png": "[encoded data removed]",
            "text/plain": [
              "<Figure size 720x432 with 1 Axes>"
            ]
          },
          "metadata": {
            "needs_background": "light"
          },
          "output_type": "display_data"
        }
      ],
      "source": [
        "# 1. Histograms and Distribution Plots\n",
        "# To visualize the distribution of the target variable (property price)\n",
        "# and numeric features such as the number of bedrooms and bathrooms.\n",
        "# This helps identify any skewness or outliers in the data.\n",
        "\n",
        "plt.figure(figsize=(10, 6))\n",
        "sns.histplot(property_subset['price'], kde=True)\n",
        "plt.title('Distribution of Property Price')\n",
        "plt.xlabel('Price')\n",
        "plt.ylabel('Frequency')\n",
        "plt.show()\n",
        "\n",
        "plt.figure(figsize=(10, 6))\n",
        "sns.histplot(property_subset['bedrooms'], kde=True)\n",
        "plt.title('Distribution of Number of Bedrooms')\n",
        "plt.xlabel('Number of Bedrooms')\n",
        "plt.ylabel('Frequency')\n",
        "plt.show()\n",
        "\n",
        "plt.figure(figsize=(10, 6))\n",
        "sns.histplot(property_subset['baths'], kde=True)\n",
        "plt.title('Distribution of Number of Bathrooms')\n",
        "plt.xlabel('Number of Bathrooms')\n",
        "plt.ylabel('Frequency')\n",
        "plt.show()\n",
        "\n",
        "plt.figure(figsize=(10, 6))\n",
        "sns.histplot(property_subset['area_sqft'], kde=True)\n",
        "plt.title('Distribution of Area in Square ft.')\n",
        "plt.xlabel('Area Square ft.')\n",
        "plt.ylabel('Frequency')\n",
        "plt.show()"
      ]
    },
    {
      "cell_type": "markdown",
      "id": "dZK0zYek1-Lq",
      "metadata": {
        "id": "dZK0zYek1-Lq"
      },
      "source": [
        "### Scatter Plot"
      ]
    },
    {
      "cell_type": "code",
      "execution_count": 57,
      "id": "lJs3KJuZ09Gn",
      "metadata": {
        "colab": {
          "base_uri": "https://localhost:8080/",
          "height": 1000
        },
        "id": "lJs3KJuZ09Gn",
        "outputId": "cec8a261-16e7-4f4d-c8f3-0891056b26cd"
      },
      "outputs": [
        {
          "data": {
            "image/png": "[encoded data removed]",
            "text/plain": [
              "<Figure size 720x432 with 1 Axes>"
            ]
          },
          "metadata": {
            "needs_background": "light"
          },
          "output_type": "display_data"
        },
        {
          "data": {
            "image/png": "[encoded data removed]",
            "text/plain": [
              "<Figure size 720x432 with 1 Axes>"
            ]
          },
          "metadata": {
            "needs_background": "light"
          },
          "output_type": "display_data"
        },
        {
          "data": {
            "image/png": "[encoded data removed]",
            "text/plain": [
              "<Figure size 720x432 with 1 Axes>"
            ]
          },
          "metadata": {
            "needs_background": "light"
          },
          "output_type": "display_data"
        }
      ],
      "source": [
        "# To visualize the relationship between the numeric features\n",
        "# (e.g., bedrooms, bathrooms) and the target variable (property price).\n",
        "# This helps identify any linear or non-linear relationships.\n",
        "\n",
        "\n",
        "def plot_scatter(x, y, x_label, y_label, title):\n",
        "  plt.figure(figsize=(10, 6))\n",
        "  sns.scatterplot(data = property_subset, x = x, y = y)\n",
        "  plt.title(title)\n",
        "  plt.xlabel(x_label)\n",
        "  plt.ylabel(y_label)\n",
        "  plt.show()\n",
        "\n",
        "plot_scatter(x = \"bedrooms\", y = \"price\", x_label = \"Number of Bedrooms\", y_label = \"Price\", title = \"Scatter Plot of Bedrooms vs Price\")\n",
        "\n",
        "plot_scatter(x = \"baths\", y = \"price\", x_label = \"Number of Bathrooms\", y_label = \"Price\", title = \"Scatter Plot of Bathrooms vs Price\")\n",
        "\n",
        "plot_scatter(x = \"area_sqft\", y = \"price\", x_label = \"Area in square ft.\", y_label = \"Price\", title = \"Scatter Plot of Area in square ft. vs Price\")\n",
        "\n"
      ]
    },
    {
      "cell_type": "markdown",
      "id": "Cy0ZCEEj2c-w",
      "metadata": {
        "id": "Cy0ZCEEj2c-w"
      },
      "source": [
        "### Box Plots"
      ]
    },
    {
      "cell_type": "code",
      "execution_count": 58,
      "id": "4KA-zM--2SGF",
      "metadata": {
        "colab": {
          "base_uri": "https://localhost:8080/",
          "height": 1000
        },
        "id": "4KA-zM--2SGF",
        "outputId": "10dc3dc3-bd15-47d9-8613-adab2f908df1"
      },
      "outputs": [
        {
          "data": {
            "image/png": "[encoded data removed]",
            "text/plain": [
              "<Figure size 720x432 with 1 Axes>"
            ]
          },
          "metadata": {
            "needs_background": "light"
          },
          "output_type": "display_data"
        },
        {
          "data": {
            "image/png": "[encoded data removed]",
            "text/plain": [
              "<Figure size 720x432 with 1 Axes>"
            ]
          },
          "metadata": {
            "needs_background": "light"
          },
          "output_type": "display_data"
        }
      ],
      "source": [
        "# To visualize the distribution of the target variable for different\n",
        "# categories of categorical features such as location and property type.\n",
        "# This helps identify any variations in property prices based on these categories.\n",
        "plt.figure(figsize=(10, 6))\n",
        "sns.boxplot(data=property_subset, x='location', y='price')\n",
        "plt.title('Box Plot of Property Price by Location')\n",
        "plt.xlabel('Location')\n",
        "plt.ylabel('Price')\n",
        "plt.xticks(rotation=45)\n",
        "plt.show()\n",
        "\n",
        "plt.figure(figsize=(10, 6))\n",
        "sns.boxplot(data=property_subset, x='property_type', y='price')\n",
        "plt.title('Box Plot of Property Price by Property Type')\n",
        "plt.xlabel('Property Type')\n",
        "plt.ylabel('Price')\n",
        "plt.xticks(rotation=45)\n",
        "plt.show()\n"
      ]
    },
    {
      "cell_type": "markdown",
      "id": "k7d6LKhA2j03",
      "metadata": {
        "id": "k7d6LKhA2j03"
      },
      "source": [
        "### Correlation Heatmap"
      ]
    },
    {
      "cell_type": "code",
      "execution_count": 59,
      "id": "YfRombVV2jIq",
      "metadata": {
        "colab": {
          "base_uri": "https://localhost:8080/",
          "height": 755
        },
        "id": "YfRombVV2jIq",
        "outputId": "9cbdbf94-5fdf-4550-af56-4bcd91d091d0"
      },
      "outputs": [
        {
          "data": {
            "image/png": "[encoded data removed]",
            "text/plain": [
              "<Figure size 720x576 with 2 Axes>"
            ]
          },
          "metadata": {
            "needs_background": "light"
          },
          "output_type": "display_data"
        }
      ],
      "source": [
        "# 4. Correlation Heatmap\n",
        "# To visualize the pairwise correlations\n",
        "# between all numeric features and the target variable.\n",
        "# This helps identify which features have the strongest correlations with the target variable.\n",
        "plt.figure(figsize=(10, 8))\n",
        "correlation_matrix = property_subset.corr()\n",
        "sns.heatmap(correlation_matrix, annot=True, cmap='coolwarm')\n",
        "plt.title('Correlation Heatmap')\n",
        "plt.show()\n",
        "\n",
        "\n",
        "\n"
      ]
    },
    {
      "cell_type": "markdown",
      "id": "piB8hMGh27WX",
      "metadata": {
        "id": "piB8hMGh27WX"
      },
      "source": [
        "### Pair Plot"
      ]
    },
    {
      "cell_type": "code",
      "execution_count": 60,
      "id": "LgH9hXMm2vK_",
      "metadata": {
        "colab": {
          "base_uri": "https://localhost:8080/",
          "height": 1000
        },
        "id": "LgH9hXMm2vK_",
        "outputId": "532402b7-51c6-4634-ee02-2839f9071247"
      },
      "outputs": [
        {
          "data": {
            "image/png": "[encoded data removed]",
            "text/plain": [
              "<Figure size 540x540 with 12 Axes>"
            ]
          },
          "metadata": {
            "needs_background": "light"
          },
          "output_type": "display_data"
        },
        {
          "data": {
            "image/png": "[encoded data removed]",
            "text/plain": [
              "<Figure size 720x720 with 20 Axes>"
            ]
          },
          "metadata": {
            "needs_background": "light"
          },
          "output_type": "display_data"
        }
      ],
      "source": [
        "# scatter plots for all pairs of numeric features\n",
        "# To visualize the relationships among numeric features and the target variable.\n",
        "# This helps identify potential interactions or non-linear relationships.\n",
        "sns.pairplot(property_subset[['price', 'bedrooms', 'baths']], diag_kind='kde')\n",
        "plt.show()\n",
        "\n",
        "# Pair plot for other numeric features\n",
        "sns.pairplot(property_subset, vars=['price', 'bedrooms', 'baths', 'area_sqft'])\n",
        "plt.show()"
      ]
    },
    {
      "cell_type": "markdown",
      "id": "0yP0UXWC3C14",
      "metadata": {
        "id": "0yP0UXWC3C14"
      },
      "source": [
        "### Bar Plots"
      ]
    },
    {
      "cell_type": "code",
      "execution_count": 61,
      "id": "1UJPpyZH2_RI",
      "metadata": {
        "colab": {
          "base_uri": "https://localhost:8080/",
          "height": 1000
        },
        "id": "1UJPpyZH2_RI",
        "outputId": "aba7a8a2-613c-4e2d-9725-3894d7e98523"
      },
      "outputs": [
        {
          "data": {
            "image/png": "[encoded data removed]",
            "text/plain": [
              "<Figure size 720x432 with 1 Axes>"
            ]
          },
          "metadata": {
            "needs_background": "light"
          },
          "output_type": "display_data"
        },
        {
          "data": {
            "image/png": "[encoded data removed]",
            "text/plain": [
              "<Figure size 720x432 with 1 Axes>"
            ]
          },
          "metadata": {
            "needs_background": "light"
          },
          "output_type": "display_data"
        }
      ],
      "source": [
        "# To visualize the average property prices for different categories of categorical features such as location and property type.\n",
        "# This helps identify any significant differences in property prices based on these categories.\n",
        "plt.figure(figsize=(10, 6))\n",
        "sns.barplot(data=property_subset, x='location', y='price')\n",
        "plt.title('Average Property Price by Location')\n",
        "plt.xlabel('Location')\n",
        "plt.ylabel('Average Price')\n",
        "plt.xticks(rotation=45)\n",
        "plt.show()\n",
        "\n",
        "plt.figure(figsize=(10, 6))\n",
        "sns.barplot(data=property_subset, x='property_type', y='price')\n",
        "plt.title('Average Property Price by Property Type')\n",
        "plt.xlabel('Property Type')\n",
        "plt.ylabel('Average Price')\n",
        "plt.xticks(rotation=45)\n",
        "plt.show()\n"
      ]
    },
    {
      "cell_type": "markdown",
      "id": "A57X7OJz3Kfy",
      "metadata": {
        "id": "A57X7OJz3Kfy"
      },
      "source": [
        "### Joint Plots"
      ]
    },
    {
      "cell_type": "code",
      "execution_count": 62,
      "id": "xmI6sqiZ3IUc",
      "metadata": {
        "colab": {
          "base_uri": "https://localhost:8080/",
          "height": 1000
        },
        "id": "xmI6sqiZ3IUc",
        "outputId": "88653748-6e6e-4a7d-c636-b4d602526ccd"
      },
      "outputs": [
        {
          "data": {
            "image/png": "[encoded data removed]",
            "text/plain": [
              "<Figure size 432x432 with 3 Axes>"
            ]
          },
          "metadata": {
            "needs_background": "light"
          },
          "output_type": "display_data"
        },
        {
          "data": {
            "image/png": "[encoded data removed]",
            "text/plain": [
              "<Figure size 432x432 with 3 Axes>"
            ]
          },
          "metadata": {
            "needs_background": "light"
          },
          "output_type": "display_data"
        },
        {
          "data": {
            "image/png": "[encoded data removed]",
            "text/plain": [
              "<Figure size 432x432 with 3 Axes>"
            ]
          },
          "metadata": {
            "needs_background": "light"
          },
          "output_type": "display_data"
        }
      ],
      "source": [
        "# To visualize the relationship between two numeric features along with the regression line.\n",
        "# This helps identify the strength and direction of the relationship between pairs of features.\n",
        "\n",
        "sns.jointplot(data=property_subset, x='bedrooms', y='baths', kind='reg')\n",
        "plt.show()\n",
        "\n",
        "sns.jointplot(data=property_subset, x='bedrooms', y='area_sqft', kind='reg')\n",
        "plt.show()\n",
        "sns.jointplot(data=property_subset, x='baths', y='area_sqft', kind='reg')\n",
        "plt.show()"
      ]
    },
    {
      "cell_type": "markdown",
      "id": "34c49e56",
      "metadata": {
        "id": "34c49e56"
      },
      "source": [
        "## Preparing the data for model\n",
        "\n",
        "### i. One-hot encoding the categorical variables"
      ]
    },
    {
      "cell_type": "code",
      "execution_count": 63,
      "id": "a4c0de66",
      "metadata": {
        "colab": {
          "base_uri": "https://localhost:8080/",
          "height": 143
        },
        "id": "a4c0de66",
        "outputId": "9bb34b67-f59c-4b04-d149-62bf426fcd3b"
      },
      "outputs": [
        {
          "data": {
            "text/html": [
              "<div>\n",
              "<style scoped>\n",
              "    .dataframe tbody tr th:only-of-type {\n",
              "        vertical-align: middle;\n",
              "    }\n",
              "\n",
              "    .dataframe tbody tr th {\n",
              "        vertical-align: top;\n",
              "    }\n",
              "\n",
              "    .dataframe thead th {\n",
              "        text-align: right;\n",
              "    }\n",
              "</style>\n",
              "<table border=\"1\" class=\"dataframe\">\n",
              "  <thead>\n",
              "    <tr style=\"text-align: right;\">\n",
              "      <th></th>\n",
              "      <th>Clifton</th>\n",
              "      <th>DHA Defence</th>\n",
              "      <th>Federal B Area</th>\n",
              "      <th>Gadap Town</th>\n",
              "      <th>Gulistan-e-Jauhar</th>\n",
              "      <th>Gulshan-e-Iqbal Town</th>\n",
              "      <th>KDA Scheme 1</th>\n",
              "      <th>Korangi</th>\n",
              "      <th>Naya Nazimabad</th>\n",
              "      <th>North Karachi</th>\n",
              "      <th>North Nazimabad</th>\n",
              "      <th>Scheme 33</th>\n",
              "    </tr>\n",
              "  </thead>\n",
              "  <tbody>\n",
              "    <tr>\n",
              "      <th>1</th>\n",
              "      <td>1</td>\n",
              "      <td>0</td>\n",
              "      <td>0</td>\n",
              "      <td>0</td>\n",
              "      <td>0</td>\n",
              "      <td>0</td>\n",
              "      <td>0</td>\n",
              "      <td>0</td>\n",
              "      <td>0</td>\n",
              "      <td>0</td>\n",
              "      <td>0</td>\n",
              "      <td>0</td>\n",
              "    </tr>\n",
              "    <tr>\n",
              "      <th>3</th>\n",
              "      <td>1</td>\n",
              "      <td>0</td>\n",
              "      <td>0</td>\n",
              "      <td>0</td>\n",
              "      <td>0</td>\n",
              "      <td>0</td>\n",
              "      <td>0</td>\n",
              "      <td>0</td>\n",
              "      <td>0</td>\n",
              "      <td>0</td>\n",
              "      <td>0</td>\n",
              "      <td>0</td>\n",
              "    </tr>\n",
              "    <tr>\n",
              "      <th>4</th>\n",
              "      <td>1</td>\n",
              "      <td>0</td>\n",
              "      <td>0</td>\n",
              "      <td>0</td>\n",
              "      <td>0</td>\n",
              "      <td>0</td>\n",
              "      <td>0</td>\n",
              "      <td>0</td>\n",
              "      <td>0</td>\n",
              "      <td>0</td>\n",
              "      <td>0</td>\n",
              "      <td>0</td>\n",
              "    </tr>\n",
              "  </tbody>\n",
              "</table>\n",
              "</div>"
            ],
            "text/plain": [
              "   Clifton  DHA Defence  Federal B Area  Gadap Town  Gulistan-e-Jauhar  \\\n",
              "1        1            0               0           0                  0   \n",
              "3        1            0               0           0                  0   \n",
              "4        1            0               0           0                  0   \n",
              "\n",
              "   Gulshan-e-Iqbal Town  KDA Scheme 1  Korangi  Naya Nazimabad  North Karachi  \\\n",
              "1                     0             0        0               0              0   \n",
              "3                     0             0        0               0              0   \n",
              "4                     0             0        0               0              0   \n",
              "\n",
              "   North Nazimabad  Scheme 33  \n",
              "1                0          0  \n",
              "3                0          0  \n",
              "4                0          0  "
            ]
          },
          "execution_count": 63,
          "metadata": {},
          "output_type": "execute_result"
        }
      ],
      "source": [
        "location_dummies = pd.get_dummies(property_subset['location'])\n",
        "location_dummies.head(3)"
      ]
    },
    {
      "cell_type": "code",
      "execution_count": 64,
      "id": "113f8ec1",
      "metadata": {
        "colab": {
          "base_uri": "https://localhost:8080/",
          "height": 143
        },
        "id": "113f8ec1",
        "outputId": "d3a7326c-95d2-4732-8e93-2e203fa3e059",
        "scrolled": true
      },
      "outputs": [
        {
          "data": {
            "text/html": [
              "<div>\n",
              "<style scoped>\n",
              "    .dataframe tbody tr th:only-of-type {\n",
              "        vertical-align: middle;\n",
              "    }\n",
              "\n",
              "    .dataframe tbody tr th {\n",
              "        vertical-align: top;\n",
              "    }\n",
              "\n",
              "    .dataframe thead th {\n",
              "        text-align: right;\n",
              "    }\n",
              "</style>\n",
              "<table border=\"1\" class=\"dataframe\">\n",
              "  <thead>\n",
              "    <tr style=\"text-align: right;\">\n",
              "      <th></th>\n",
              "      <th>Flat</th>\n",
              "      <th>House</th>\n",
              "    </tr>\n",
              "  </thead>\n",
              "  <tbody>\n",
              "    <tr>\n",
              "      <th>1</th>\n",
              "      <td>1</td>\n",
              "      <td>0</td>\n",
              "    </tr>\n",
              "    <tr>\n",
              "      <th>3</th>\n",
              "      <td>1</td>\n",
              "      <td>0</td>\n",
              "    </tr>\n",
              "    <tr>\n",
              "      <th>4</th>\n",
              "      <td>1</td>\n",
              "      <td>0</td>\n",
              "    </tr>\n",
              "  </tbody>\n",
              "</table>\n",
              "</div>"
            ],
            "text/plain": [
              "   Flat  House\n",
              "1     1      0\n",
              "3     1      0\n",
              "4     1      0"
            ]
          },
          "execution_count": 64,
          "metadata": {},
          "output_type": "execute_result"
        }
      ],
      "source": [
        "property_type_dummies = pd.get_dummies(property_subset['property_type'])\n",
        "property_type_dummies.head(3)"
      ]
    },
    {
      "cell_type": "markdown",
      "id": "6dfcb756",
      "metadata": {
        "id": "6dfcb756"
      },
      "source": [
        "### ii. Concatenating the one-hot encoded columns with other columns"
      ]
    },
    {
      "cell_type": "code",
      "execution_count": 65,
      "id": "dca2944a",
      "metadata": {
        "colab": {
          "base_uri": "https://localhost:8080/"
        },
        "id": "dca2944a",
        "outputId": "ef8f5522-7fe5-46c8-e981-ebd268dae625"
      },
      "outputs": [
        {
          "data": {
            "text/plain": [
              "(3137, 18)"
            ]
          },
          "execution_count": 65,
          "metadata": {},
          "output_type": "execute_result"
        }
      ],
      "source": [
        "property_subset = pd.concat([property_subset, property_type_dummies, location_dummies], axis=\"columns\")\n",
        "property_subset = property_subset.drop([\"location\", \"property_type\", \"year\", \"month\", \"price_bin\", \"city\"], axis=1)\n",
        "property_subset.head()\n",
        "property_subset.shape"
      ]
    },
    {
      "cell_type": "code",
      "execution_count": 66,
      "id": "a9a01b69",
      "metadata": {
        "colab": {
          "base_uri": "https://localhost:8080/",
          "height": 241
        },
        "id": "a9a01b69",
        "outputId": "b559e22a-0f93-4b85-e979-b08a2b83a659"
      },
      "outputs": [
        {
          "data": {
            "text/html": [
              "<div>\n",
              "<style scoped>\n",
              "    .dataframe tbody tr th:only-of-type {\n",
              "        vertical-align: middle;\n",
              "    }\n",
              "\n",
              "    .dataframe tbody tr th {\n",
              "        vertical-align: top;\n",
              "    }\n",
              "\n",
              "    .dataframe thead th {\n",
              "        text-align: right;\n",
              "    }\n",
              "</style>\n",
              "<table border=\"1\" class=\"dataframe\">\n",
              "  <thead>\n",
              "    <tr style=\"text-align: right;\">\n",
              "      <th></th>\n",
              "      <th>price</th>\n",
              "      <th>baths</th>\n",
              "      <th>area_sqft</th>\n",
              "      <th>bedrooms</th>\n",
              "      <th>Flat</th>\n",
              "      <th>House</th>\n",
              "      <th>Clifton</th>\n",
              "      <th>DHA Defence</th>\n",
              "      <th>Federal B Area</th>\n",
              "      <th>Gadap Town</th>\n",
              "      <th>Gulistan-e-Jauhar</th>\n",
              "      <th>Gulshan-e-Iqbal Town</th>\n",
              "      <th>KDA Scheme 1</th>\n",
              "      <th>Korangi</th>\n",
              "      <th>Naya Nazimabad</th>\n",
              "      <th>North Karachi</th>\n",
              "      <th>North Nazimabad</th>\n",
              "      <th>Scheme 33</th>\n",
              "    </tr>\n",
              "  </thead>\n",
              "  <tbody>\n",
              "    <tr>\n",
              "      <th>1</th>\n",
              "      <td>26000000</td>\n",
              "      <td>3</td>\n",
              "      <td>2232.46</td>\n",
              "      <td>3</td>\n",
              "      <td>1</td>\n",
              "      <td>0</td>\n",
              "      <td>1</td>\n",
              "      <td>0</td>\n",
              "      <td>0</td>\n",
              "      <td>0</td>\n",
              "      <td>0</td>\n",
              "      <td>0</td>\n",
              "      <td>0</td>\n",
              "      <td>0</td>\n",
              "      <td>0</td>\n",
              "      <td>0</td>\n",
              "      <td>0</td>\n",
              "      <td>0</td>\n",
              "    </tr>\n",
              "    <tr>\n",
              "      <th>3</th>\n",
              "      <td>17000000</td>\n",
              "      <td>3</td>\n",
              "      <td>1742.41</td>\n",
              "      <td>3</td>\n",
              "      <td>1</td>\n",
              "      <td>0</td>\n",
              "      <td>1</td>\n",
              "      <td>0</td>\n",
              "      <td>0</td>\n",
              "      <td>0</td>\n",
              "      <td>0</td>\n",
              "      <td>0</td>\n",
              "      <td>0</td>\n",
              "      <td>0</td>\n",
              "      <td>0</td>\n",
              "      <td>0</td>\n",
              "      <td>0</td>\n",
              "      <td>0</td>\n",
              "    </tr>\n",
              "    <tr>\n",
              "      <th>4</th>\n",
              "      <td>13500000</td>\n",
              "      <td>3</td>\n",
              "      <td>1987.43</td>\n",
              "      <td>3</td>\n",
              "      <td>1</td>\n",
              "      <td>0</td>\n",
              "      <td>1</td>\n",
              "      <td>0</td>\n",
              "      <td>0</td>\n",
              "      <td>0</td>\n",
              "      <td>0</td>\n",
              "      <td>0</td>\n",
              "      <td>0</td>\n",
              "      <td>0</td>\n",
              "      <td>0</td>\n",
              "      <td>0</td>\n",
              "      <td>0</td>\n",
              "      <td>0</td>\n",
              "    </tr>\n",
              "    <tr>\n",
              "      <th>6</th>\n",
              "      <td>29000000</td>\n",
              "      <td>3</td>\n",
              "      <td>3620.94</td>\n",
              "      <td>3</td>\n",
              "      <td>1</td>\n",
              "      <td>0</td>\n",
              "      <td>1</td>\n",
              "      <td>0</td>\n",
              "      <td>0</td>\n",
              "      <td>0</td>\n",
              "      <td>0</td>\n",
              "      <td>0</td>\n",
              "      <td>0</td>\n",
              "      <td>0</td>\n",
              "      <td>0</td>\n",
              "      <td>0</td>\n",
              "      <td>0</td>\n",
              "      <td>0</td>\n",
              "    </tr>\n",
              "    <tr>\n",
              "      <th>7</th>\n",
              "      <td>15000000</td>\n",
              "      <td>3</td>\n",
              "      <td>1824.08</td>\n",
              "      <td>3</td>\n",
              "      <td>1</td>\n",
              "      <td>0</td>\n",
              "      <td>1</td>\n",
              "      <td>0</td>\n",
              "      <td>0</td>\n",
              "      <td>0</td>\n",
              "      <td>0</td>\n",
              "      <td>0</td>\n",
              "      <td>0</td>\n",
              "      <td>0</td>\n",
              "      <td>0</td>\n",
              "      <td>0</td>\n",
              "      <td>0</td>\n",
              "      <td>0</td>\n",
              "    </tr>\n",
              "  </tbody>\n",
              "</table>\n",
              "</div>"
            ],
            "text/plain": [
              "      price  baths  area_sqft  bedrooms  Flat  House  Clifton  DHA Defence  \\\n",
              "1  26000000      3    2232.46         3     1      0        1            0   \n",
              "3  17000000      3    1742.41         3     1      0        1            0   \n",
              "4  13500000      3    1987.43         3     1      0        1            0   \n",
              "6  29000000      3    3620.94         3     1      0        1            0   \n",
              "7  15000000      3    1824.08         3     1      0        1            0   \n",
              "\n",
              "   Federal B Area  Gadap Town  Gulistan-e-Jauhar  Gulshan-e-Iqbal Town  \\\n",
              "1               0           0                  0                     0   \n",
              "3               0           0                  0                     0   \n",
              "4               0           0                  0                     0   \n",
              "6               0           0                  0                     0   \n",
              "7               0           0                  0                     0   \n",
              "\n",
              "   KDA Scheme 1  Korangi  Naya Nazimabad  North Karachi  North Nazimabad  \\\n",
              "1             0        0               0              0                0   \n",
              "3             0        0               0              0                0   \n",
              "4             0        0               0              0                0   \n",
              "6             0        0               0              0                0   \n",
              "7             0        0               0              0                0   \n",
              "\n",
              "   Scheme 33  \n",
              "1          0  \n",
              "3          0  \n",
              "4          0  \n",
              "6          0  \n",
              "7          0  "
            ]
          },
          "execution_count": 66,
          "metadata": {},
          "output_type": "execute_result"
        }
      ],
      "source": [
        "property_subset.head()"
      ]
    },
    {
      "cell_type": "code",
      "execution_count": 67,
      "id": "5bf2a4fe",
      "metadata": {
        "colab": {
          "base_uri": "https://localhost:8080/"
        },
        "id": "5bf2a4fe",
        "outputId": "7fa770c7-2d6d-4d8f-b5fb-d81e0ccc0482"
      },
      "outputs": [
        {
          "data": {
            "text/plain": [
              "Index(['price', 'baths', 'area_sqft', 'bedrooms', 'Flat', 'House', 'Clifton',\n",
              "       'DHA Defence', 'Federal B Area', 'Gadap Town', 'Gulistan-e-Jauhar',\n",
              "       'Gulshan-e-Iqbal Town', 'KDA Scheme 1', 'Korangi', 'Naya Nazimabad',\n",
              "       'North Karachi', 'North Nazimabad', 'Scheme 33'],\n",
              "      dtype='object')"
            ]
          },
          "execution_count": 67,
          "metadata": {},
          "output_type": "execute_result"
        }
      ],
      "source": [
        "property_subset.columns"
      ]
    },
    {
      "cell_type": "markdown",
      "id": "272baa3b",
      "metadata": {
        "id": "272baa3b"
      },
      "source": [
        "### iii. Assigning descriptor columns"
      ]
    },
    {
      "cell_type": "code",
      "execution_count": 68,
      "id": "02751da2",
      "metadata": {
        "colab": {
          "base_uri": "https://localhost:8080/",
          "height": 223
        },
        "id": "02751da2",
        "outputId": "349733d6-9e4f-49b9-b96a-750838c5b082"
      },
      "outputs": [
        {
          "data": {
            "text/html": [
              "<div>\n",
              "<style scoped>\n",
              "    .dataframe tbody tr th:only-of-type {\n",
              "        vertical-align: middle;\n",
              "    }\n",
              "\n",
              "    .dataframe tbody tr th {\n",
              "        vertical-align: top;\n",
              "    }\n",
              "\n",
              "    .dataframe thead th {\n",
              "        text-align: right;\n",
              "    }\n",
              "</style>\n",
              "<table border=\"1\" class=\"dataframe\">\n",
              "  <thead>\n",
              "    <tr style=\"text-align: right;\">\n",
              "      <th></th>\n",
              "      <th>baths</th>\n",
              "      <th>area_sqft</th>\n",
              "      <th>bedrooms</th>\n",
              "      <th>Flat</th>\n",
              "      <th>House</th>\n",
              "      <th>Clifton</th>\n",
              "      <th>DHA Defence</th>\n",
              "      <th>Federal B Area</th>\n",
              "      <th>Gadap Town</th>\n",
              "      <th>Gulistan-e-Jauhar</th>\n",
              "      <th>Gulshan-e-Iqbal Town</th>\n",
              "      <th>KDA Scheme 1</th>\n",
              "      <th>Korangi</th>\n",
              "      <th>Naya Nazimabad</th>\n",
              "      <th>North Karachi</th>\n",
              "      <th>North Nazimabad</th>\n",
              "      <th>Scheme 33</th>\n",
              "    </tr>\n",
              "  </thead>\n",
              "  <tbody>\n",
              "    <tr>\n",
              "      <th>1</th>\n",
              "      <td>3</td>\n",
              "      <td>2232.46</td>\n",
              "      <td>3</td>\n",
              "      <td>1</td>\n",
              "      <td>0</td>\n",
              "      <td>1</td>\n",
              "      <td>0</td>\n",
              "      <td>0</td>\n",
              "      <td>0</td>\n",
              "      <td>0</td>\n",
              "      <td>0</td>\n",
              "      <td>0</td>\n",
              "      <td>0</td>\n",
              "      <td>0</td>\n",
              "      <td>0</td>\n",
              "      <td>0</td>\n",
              "      <td>0</td>\n",
              "    </tr>\n",
              "    <tr>\n",
              "      <th>3</th>\n",
              "      <td>3</td>\n",
              "      <td>1742.41</td>\n",
              "      <td>3</td>\n",
              "      <td>1</td>\n",
              "      <td>0</td>\n",
              "      <td>1</td>\n",
              "      <td>0</td>\n",
              "      <td>0</td>\n",
              "      <td>0</td>\n",
              "      <td>0</td>\n",
              "      <td>0</td>\n",
              "      <td>0</td>\n",
              "      <td>0</td>\n",
              "      <td>0</td>\n",
              "      <td>0</td>\n",
              "      <td>0</td>\n",
              "      <td>0</td>\n",
              "    </tr>\n",
              "    <tr>\n",
              "      <th>4</th>\n",
              "      <td>3</td>\n",
              "      <td>1987.43</td>\n",
              "      <td>3</td>\n",
              "      <td>1</td>\n",
              "      <td>0</td>\n",
              "      <td>1</td>\n",
              "      <td>0</td>\n",
              "      <td>0</td>\n",
              "      <td>0</td>\n",
              "      <td>0</td>\n",
              "      <td>0</td>\n",
              "      <td>0</td>\n",
              "      <td>0</td>\n",
              "      <td>0</td>\n",
              "      <td>0</td>\n",
              "      <td>0</td>\n",
              "      <td>0</td>\n",
              "    </tr>\n",
              "    <tr>\n",
              "      <th>6</th>\n",
              "      <td>3</td>\n",
              "      <td>3620.94</td>\n",
              "      <td>3</td>\n",
              "      <td>1</td>\n",
              "      <td>0</td>\n",
              "      <td>1</td>\n",
              "      <td>0</td>\n",
              "      <td>0</td>\n",
              "      <td>0</td>\n",
              "      <td>0</td>\n",
              "      <td>0</td>\n",
              "      <td>0</td>\n",
              "      <td>0</td>\n",
              "      <td>0</td>\n",
              "      <td>0</td>\n",
              "      <td>0</td>\n",
              "      <td>0</td>\n",
              "    </tr>\n",
              "    <tr>\n",
              "      <th>7</th>\n",
              "      <td>3</td>\n",
              "      <td>1824.08</td>\n",
              "      <td>3</td>\n",
              "      <td>1</td>\n",
              "      <td>0</td>\n",
              "      <td>1</td>\n",
              "      <td>0</td>\n",
              "      <td>0</td>\n",
              "      <td>0</td>\n",
              "      <td>0</td>\n",
              "      <td>0</td>\n",
              "      <td>0</td>\n",
              "      <td>0</td>\n",
              "      <td>0</td>\n",
              "      <td>0</td>\n",
              "      <td>0</td>\n",
              "      <td>0</td>\n",
              "    </tr>\n",
              "  </tbody>\n",
              "</table>\n",
              "</div>"
            ],
            "text/plain": [
              "   baths  area_sqft  bedrooms  Flat  House  Clifton  DHA Defence  \\\n",
              "1      3    2232.46         3     1      0        1            0   \n",
              "3      3    1742.41         3     1      0        1            0   \n",
              "4      3    1987.43         3     1      0        1            0   \n",
              "6      3    3620.94         3     1      0        1            0   \n",
              "7      3    1824.08         3     1      0        1            0   \n",
              "\n",
              "   Federal B Area  Gadap Town  Gulistan-e-Jauhar  Gulshan-e-Iqbal Town  \\\n",
              "1               0           0                  0                     0   \n",
              "3               0           0                  0                     0   \n",
              "4               0           0                  0                     0   \n",
              "6               0           0                  0                     0   \n",
              "7               0           0                  0                     0   \n",
              "\n",
              "   KDA Scheme 1  Korangi  Naya Nazimabad  North Karachi  North Nazimabad  \\\n",
              "1             0        0               0              0                0   \n",
              "3             0        0               0              0                0   \n",
              "4             0        0               0              0                0   \n",
              "6             0        0               0              0                0   \n",
              "7             0        0               0              0                0   \n",
              "\n",
              "   Scheme 33  \n",
              "1          0  \n",
              "3          0  \n",
              "4          0  \n",
              "6          0  \n",
              "7          0  "
            ]
          },
          "execution_count": 68,
          "metadata": {},
          "output_type": "execute_result"
        }
      ],
      "source": [
        "# all columns except these that are dropped\n",
        "X = property_subset.drop(['price'], axis=1)\n",
        "X.head()"
      ]
    },
    {
      "cell_type": "code",
      "execution_count": 69,
      "id": "yudrhvjKX4XE",
      "metadata": {
        "colab": {
          "base_uri": "https://localhost:8080/"
        },
        "id": "yudrhvjKX4XE",
        "outputId": "792772b7-42f0-4fe7-e53f-936489368998"
      },
      "outputs": [
        {
          "data": {
            "text/plain": [
              "(3137, 17)"
            ]
          },
          "execution_count": 69,
          "metadata": {},
          "output_type": "execute_result"
        }
      ],
      "source": [
        "X.shape"
      ]
    },
    {
      "cell_type": "markdown",
      "id": "ed7b53d6",
      "metadata": {
        "id": "ed7b53d6"
      },
      "source": [
        "### iv. Assigning predictor column i.e., price"
      ]
    },
    {
      "cell_type": "code",
      "execution_count": 70,
      "id": "6621943a",
      "metadata": {
        "colab": {
          "base_uri": "https://localhost:8080/"
        },
        "id": "6621943a",
        "outputId": "34d35455-c0ec-4d9c-ddd1-d37cc6cc0bb0"
      },
      "outputs": [
        {
          "data": {
            "text/plain": [
              "1    26000000\n",
              "3    17000000\n",
              "4    13500000\n",
              "6    29000000\n",
              "7    15000000\n",
              "Name: price, dtype: int64"
            ]
          },
          "execution_count": 70,
          "metadata": {},
          "output_type": "execute_result"
        }
      ],
      "source": [
        "y = property_subset['price']\n",
        "y.head()"
      ]
    },
    {
      "cell_type": "code",
      "execution_count": null,
      "id": "_Eu4R-2OHOMi",
      "metadata": {
        "id": "_Eu4R-2OHOMi"
      },
      "outputs": [],
      "source": [
        "\n"
      ]
    },
    {
      "cell_type": "markdown",
      "id": "708162c3",
      "metadata": {
        "id": "708162c3"
      },
      "source": [
        "## Applying Regression"
      ]
    },
    {
      "cell_type": "code",
      "execution_count": 71,
      "id": "ca28b222",
      "metadata": {
        "colab": {
          "base_uri": "https://localhost:8080/"
        },
        "id": "ca28b222",
        "outputId": "ea2acba3-a2c5-44b4-9765-436725f4c0ba"
      },
      "outputs": [
        {
          "data": {
            "text/plain": [
              "0.9457004618099261"
            ]
          },
          "execution_count": 71,
          "metadata": {},
          "output_type": "execute_result"
        }
      ],
      "source": [
        "X_train, X_test, y_train, y_test = train_test_split(X, y, test_size=0.2, random_state=10)\n",
        "lr = LinearRegression()\n",
        "lr.fit(X_train, y_train)\n",
        "lr.score(X_test, y_test)"
      ]
    },
    {
      "cell_type": "markdown",
      "id": "cceee475",
      "metadata": {
        "id": "cceee475"
      },
      "source": [
        "Checking results on cross-validated data"
      ]
    },
    {
      "cell_type": "code",
      "execution_count": 72,
      "id": "736a33d7",
      "metadata": {
        "colab": {
          "base_uri": "https://localhost:8080/"
        },
        "id": "736a33d7",
        "outputId": "cef66f0d-07dd-4f67-d8fc-9ce99600ee51"
      },
      "outputs": [
        {
          "data": {
            "text/plain": [
              "array([0.92722621, 0.93304882, 0.92002214, 0.93384027, 0.92944438])"
            ]
          },
          "execution_count": 72,
          "metadata": {},
          "output_type": "execute_result"
        }
      ],
      "source": [
        "cv = ShuffleSplit(n_splits=5, test_size=0.2, random_state=0)\n",
        "cross_val_score(LinearRegression(), X, y, cv=cv)"
      ]
    },
    {
      "cell_type": "markdown",
      "id": "85e9d276",
      "metadata": {
        "id": "85e9d276"
      },
      "source": [
        "### Searching for best Regression model using GridSearch"
      ]
    },
    {
      "cell_type": "code",
      "execution_count": 73,
      "id": "b860fff6",
      "metadata": {
        "id": "b860fff6"
      },
      "outputs": [],
      "source": [
        "def find_best_model_using_gridsearchcv(X, y):\n",
        "    algos = {\n",
        "        'linear_regression': {\n",
        "            'model':LinearRegression(),\n",
        "            'params': {'positive': [False]}\n",
        "\n",
        "        },'decision_tree_regressor':{\n",
        "            'model': DecisionTreeRegressor(),\n",
        "            'params': {'criterion': ['mse','friedman_mse'], 'splitter':['best','random']}\n",
        "        },'lasso': {\n",
        "            'model':Lasso(),\n",
        "            'params': {'alpha':[1,2], 'selection':['random','cyclic']}\n",
        "        }\n",
        "    }\n",
        "\n",
        "\n",
        "    cv = ShuffleSplit(n_splits=5, test_size=0.2, random_state=0)\n",
        "    scores = []\n",
        "    for algo_name, config in algos.items():\n",
        "        gs = GridSearchCV(config['model'], config['params'], return_train_score=False, n_jobs=-1, cv=cv)\n",
        "        gs.fit(X, y)\n",
        "        scores.append({\n",
        "            'model': algo_name,\n",
        "            'best_score': gs.best_score_ ,\n",
        "            'best_params': gs.best_params_\n",
        "        })\n",
        "\n",
        "    return pd.DataFrame(scores, columns=['model','best_score','best_params'])"
      ]
    },
    {
      "cell_type": "code",
      "execution_count": 74,
      "id": "da34a696",
      "metadata": {
        "colab": {
          "base_uri": "https://localhost:8080/",
          "height": 907
        },
        "id": "da34a696",
        "outputId": "8065b7f3-b96f-4fc5-d578-0349af0b7bfb"
      },
      "outputs": [
        {
          "name": "stderr",
          "output_type": "stream",
          "text": [
            "c:\\Users\\CC\\anaconda3\\lib\\site-packages\\sklearn\\model_selection\\_validation.py:425: FitFailedWarning: \n",
            "10 fits failed out of a total of 20.\n",
            "The score on these train-test partitions for these parameters will be set to nan.\n",
            "If these failures are not expected, you can try to debug them by setting error_score='raise'.\n",
            "\n",
            "Below are more details about the failures:\n",
            "--------------------------------------------------------------------------------\n",
            "7 fits failed with the following error:\n",
            "Traceback (most recent call last):\n",
            "  File \"c:\\Users\\CC\\anaconda3\\lib\\site-packages\\sklearn\\model_selection\\_validation.py\", line 729, in _fit_and_score\n",
            "    estimator.fit(X_train, y_train, **fit_params)\n",
            "  File \"c:\\Users\\CC\\anaconda3\\lib\\site-packages\\sklearn\\base.py\", line 1145, in wrapper\n",
            "    estimator._validate_params()\n",
            "  File \"c:\\Users\\CC\\anaconda3\\lib\\site-packages\\sklearn\\base.py\", line 638, in _validate_params\n",
            "    validate_parameter_constraints(\n",
            "  File \"c:\\Users\\CC\\anaconda3\\lib\\site-packages\\sklearn\\utils\\_param_validation.py\", line 96, in validate_parameter_constraints\n",
            "    raise InvalidParameterError(\n",
            "sklearn.utils._param_validation.InvalidParameterError: The 'criterion' parameter of DecisionTreeRegressor must be a str among {'absolute_error', 'squared_error', 'poisson', 'friedman_mse'}. Got 'mse' instead.\n",
            "\n",
            "--------------------------------------------------------------------------------\n",
            "2 fits failed with the following error:\n",
            "Traceback (most recent call last):\n",
            "  File \"c:\\Users\\CC\\anaconda3\\lib\\site-packages\\sklearn\\model_selection\\_validation.py\", line 729, in _fit_and_score\n",
            "    estimator.fit(X_train, y_train, **fit_params)\n",
            "  File \"c:\\Users\\CC\\anaconda3\\lib\\site-packages\\sklearn\\base.py\", line 1145, in wrapper\n",
            "    estimator._validate_params()\n",
            "  File \"c:\\Users\\CC\\anaconda3\\lib\\site-packages\\sklearn\\base.py\", line 638, in _validate_params\n",
            "    validate_parameter_constraints(\n",
            "  File \"c:\\Users\\CC\\anaconda3\\lib\\site-packages\\sklearn\\utils\\_param_validation.py\", line 96, in validate_parameter_constraints\n",
            "    raise InvalidParameterError(\n",
            "sklearn.utils._param_validation.InvalidParameterError: The 'criterion' parameter of DecisionTreeRegressor must be a str among {'friedman_mse', 'squared_error', 'absolute_error', 'poisson'}. Got 'mse' instead.\n",
            "\n",
            "--------------------------------------------------------------------------------\n",
            "1 fits failed with the following error:\n",
            "Traceback (most recent call last):\n",
            "  File \"c:\\Users\\CC\\anaconda3\\lib\\site-packages\\sklearn\\model_selection\\_validation.py\", line 729, in _fit_and_score\n",
            "    estimator.fit(X_train, y_train, **fit_params)\n",
            "  File \"c:\\Users\\CC\\anaconda3\\lib\\site-packages\\sklearn\\base.py\", line 1145, in wrapper\n",
            "    estimator._validate_params()\n",
            "  File \"c:\\Users\\CC\\anaconda3\\lib\\site-packages\\sklearn\\base.py\", line 638, in _validate_params\n",
            "    validate_parameter_constraints(\n",
            "  File \"c:\\Users\\CC\\anaconda3\\lib\\site-packages\\sklearn\\utils\\_param_validation.py\", line 96, in validate_parameter_constraints\n",
            "    raise InvalidParameterError(\n",
            "sklearn.utils._param_validation.InvalidParameterError: The 'criterion' parameter of DecisionTreeRegressor must be a str among {'friedman_mse', 'poisson', 'absolute_error', 'squared_error'}. Got 'mse' instead.\n",
            "\n",
            "  warnings.warn(some_fits_failed_message, FitFailedWarning)\n",
            "c:\\Users\\CC\\anaconda3\\lib\\site-packages\\sklearn\\model_selection\\_search.py:979: UserWarning: One or more of the test scores are non-finite: [       nan        nan 0.93726182 0.94115581]\n",
            "  warnings.warn(\n",
            "c:\\Users\\CC\\anaconda3\\lib\\site-packages\\sklearn\\linear_model\\_coordinate_descent.py:628: ConvergenceWarning: Objective did not converge. You might want to increase the number of iterations, check the scale of the features or consider increasing regularisation. Duality gap: 6.947e+16, tolerance: 2.095e+14\n",
            "  model = cd_fast.enet_coordinate_descent(\n"
          ]
        },
        {
          "data": {
            "text/html": [
              "<div>\n",
              "<style scoped>\n",
              "    .dataframe tbody tr th:only-of-type {\n",
              "        vertical-align: middle;\n",
              "    }\n",
              "\n",
              "    .dataframe tbody tr th {\n",
              "        vertical-align: top;\n",
              "    }\n",
              "\n",
              "    .dataframe thead th {\n",
              "        text-align: right;\n",
              "    }\n",
              "</style>\n",
              "<table border=\"1\" class=\"dataframe\">\n",
              "  <thead>\n",
              "    <tr style=\"text-align: right;\">\n",
              "      <th></th>\n",
              "      <th>model</th>\n",
              "      <th>best_score</th>\n",
              "      <th>best_params</th>\n",
              "    </tr>\n",
              "  </thead>\n",
              "  <tbody>\n",
              "    <tr>\n",
              "      <th>0</th>\n",
              "      <td>linear_regression</td>\n",
              "      <td>0.928716</td>\n",
              "      <td>{'positive': False}</td>\n",
              "    </tr>\n",
              "    <tr>\n",
              "      <th>1</th>\n",
              "      <td>decision_tree_regressor</td>\n",
              "      <td>0.941156</td>\n",
              "      <td>{'criterion': 'friedman_mse', 'splitter': 'ran...</td>\n",
              "    </tr>\n",
              "    <tr>\n",
              "      <th>2</th>\n",
              "      <td>lasso</td>\n",
              "      <td>0.928716</td>\n",
              "      <td>{'alpha': 2, 'selection': 'random'}</td>\n",
              "    </tr>\n",
              "  </tbody>\n",
              "</table>\n",
              "</div>"
            ],
            "text/plain": [
              "                     model  best_score  \\\n",
              "0        linear_regression    0.928716   \n",
              "1  decision_tree_regressor    0.941156   \n",
              "2                    lasso    0.928716   \n",
              "\n",
              "                                         best_params  \n",
              "0                                {'positive': False}  \n",
              "1  {'criterion': 'friedman_mse', 'splitter': 'ran...  \n",
              "2                {'alpha': 2, 'selection': 'random'}  "
            ]
          },
          "execution_count": 74,
          "metadata": {},
          "output_type": "execute_result"
        }
      ],
      "source": [
        "find_best_model_using_gridsearchcv(X, y)"
      ]
    },
    {
      "cell_type": "markdown",
      "id": "dadf7b7e",
      "metadata": {
        "id": "dadf7b7e"
      },
      "source": [
        "### Utilizing the best Regression model"
      ]
    },
    {
      "cell_type": "markdown",
      "id": "555f6f67",
      "metadata": {
        "id": "555f6f67"
      },
      "source": [
        "Decision Tree Regression model performs the best, so we'll be using it along with the specified best parameters for training the data and predicting property price."
      ]
    },
    {
      "cell_type": "code",
      "execution_count": 75,
      "id": "50205abf",
      "metadata": {
        "colab": {
          "base_uri": "https://localhost:8080/",
          "height": 74
        },
        "id": "50205abf",
        "outputId": "6c6d7d04-5fba-483d-cb07-3355e32bc263"
      },
      "outputs": [
        {
          "data": {
            "text/html": [
              "<style>#sk-container-id-1 {color: black;}#sk-container-id-1 pre{padding: 0;}#sk-container-id-1 div.sk-toggleable {background-color: white;}#sk-container-id-1 label.sk-toggleable__label {cursor: pointer;display: block;width: 100%;margin-bottom: 0;padding: 0.3em;box-sizing: border-box;text-align: center;}#sk-container-id-1 label.sk-toggleable__label-arrow:before {content: \"▸\";float: left;margin-right: 0.25em;color: #696969;}#sk-container-id-1 label.sk-toggleable__label-arrow:hover:before {color: black;}#sk-container-id-1 div.sk-estimator:hover label.sk-toggleable__label-arrow:before {color: black;}#sk-container-id-1 div.sk-toggleable__content {max-height: 0;max-width: 0;overflow: hidden;text-align: left;background-color: #f0f8ff;}#sk-container-id-1 div.sk-toggleable__content pre {margin: 0.2em;color: black;border-radius: 0.25em;background-color: #f0f8ff;}#sk-container-id-1 input.sk-toggleable__control:checked~div.sk-toggleable__content {max-height: 200px;max-width: 100%;overflow: auto;}#sk-container-id-1 input.sk-toggleable__control:checked~label.sk-toggleable__label-arrow:before {content: \"▾\";}#sk-container-id-1 div.sk-estimator input.sk-toggleable__control:checked~label.sk-toggleable__label {background-color: #d4ebff;}#sk-container-id-1 div.sk-label input.sk-toggleable__control:checked~label.sk-toggleable__label {background-color: #d4ebff;}#sk-container-id-1 input.sk-hidden--visually {border: 0;clip: rect(1px 1px 1px 1px);clip: rect(1px, 1px, 1px, 1px);height: 1px;margin: -1px;overflow: hidden;padding: 0;position: absolute;width: 1px;}#sk-container-id-1 div.sk-estimator {font-family: monospace;background-color: #f0f8ff;border: 1px dotted black;border-radius: 0.25em;box-sizing: border-box;margin-bottom: 0.5em;}#sk-container-id-1 div.sk-estimator:hover {background-color: #d4ebff;}#sk-container-id-1 div.sk-parallel-item::after {content: \"\";width: 100%;border-bottom: 1px solid gray;flex-grow: 1;}#sk-container-id-1 div.sk-label:hover label.sk-toggleable__label {background-color: #d4ebff;}#sk-container-id-1 div.sk-serial::before {content: \"\";position: absolute;border-left: 1px solid gray;box-sizing: border-box;top: 0;bottom: 0;left: 50%;z-index: 0;}#sk-container-id-1 div.sk-serial {display: flex;flex-direction: column;align-items: center;background-color: white;padding-right: 0.2em;padding-left: 0.2em;position: relative;}#sk-container-id-1 div.sk-item {position: relative;z-index: 1;}#sk-container-id-1 div.sk-parallel {display: flex;align-items: stretch;justify-content: center;background-color: white;position: relative;}#sk-container-id-1 div.sk-item::before, #sk-container-id-1 div.sk-parallel-item::before {content: \"\";position: absolute;border-left: 1px solid gray;box-sizing: border-box;top: 0;bottom: 0;left: 50%;z-index: -1;}#sk-container-id-1 div.sk-parallel-item {display: flex;flex-direction: column;z-index: 1;position: relative;background-color: white;}#sk-container-id-1 div.sk-parallel-item:first-child::after {align-self: flex-end;width: 50%;}#sk-container-id-1 div.sk-parallel-item:last-child::after {align-self: flex-start;width: 50%;}#sk-container-id-1 div.sk-parallel-item:only-child::after {width: 0;}#sk-container-id-1 div.sk-dashed-wrapped {border: 1px dashed gray;margin: 0 0.4em 0.5em 0.4em;box-sizing: border-box;padding-bottom: 0.4em;background-color: white;}#sk-container-id-1 div.sk-label label {font-family: monospace;font-weight: bold;display: inline-block;line-height: 1.2em;}#sk-container-id-1 div.sk-label-container {text-align: center;}#sk-container-id-1 div.sk-container {/* jupyter's `normalize.less` sets `[hidden] { display: none; }` but bootstrap.min.css set `[hidden] { display: none !important; }` so we also need the `!important` here to be able to override the default hidden behavior on the sphinx rendered scikit-learn.org. See: https://github.com/scikit-learn/scikit-learn/issues/21755 */display: inline-block !important;position: relative;}#sk-container-id-1 div.sk-text-repr-fallback {display: none;}</style><div id=\"sk-container-id-1\" class=\"sk-top-container\"><div class=\"sk-text-repr-fallback\"><pre>DecisionTreeRegressor(random_state=0, splitter=&#x27;random&#x27;)</pre><b>In a Jupyter environment, please rerun this cell to show the HTML representation or trust the notebook. <br />On GitHub, the HTML representation is unable to render, please try loading this page with nbviewer.org.</b></div><div class=\"sk-container\" hidden><div class=\"sk-item\"><div class=\"sk-estimator sk-toggleable\"><input class=\"sk-toggleable__control sk-hidden--visually\" id=\"sk-estimator-id-1\" type=\"checkbox\" checked><label for=\"sk-estimator-id-1\" class=\"sk-toggleable__label sk-toggleable__label-arrow\">DecisionTreeRegressor</label><div class=\"sk-toggleable__content\"><pre>DecisionTreeRegressor(random_state=0, splitter=&#x27;random&#x27;)</pre></div></div></div></div></div>"
            ],
            "text/plain": [
              "DecisionTreeRegressor(random_state=0, splitter='random')"
            ]
          },
          "execution_count": 75,
          "metadata": {},
          "output_type": "execute_result"
        }
      ],
      "source": [
        "dtr = DecisionTreeRegressor(criterion='squared_error', splitter='random', random_state=0)\n",
        "dtr.fit(X, y)"
      ]
    },
    {
      "cell_type": "markdown",
      "id": "fb9f69c6",
      "metadata": {
        "id": "fb9f69c6"
      },
      "source": [
        "### Predicting the price on the basis of selected descriptors"
      ]
    },
    {
      "cell_type": "code",
      "execution_count": 76,
      "id": "0541d207",
      "metadata": {
        "id": "0541d207"
      },
      "outputs": [],
      "source": [
        "def predict_price(location, sqft, bedrooms, baths, property_type):\n",
        "    loc_index = np.where(X.columns==location)[0][0]\n",
        "    property_type = np.where(X.columns==property_type)[0][0]\n",
        "\n",
        "\n",
        "\n",
        "    x = np.zeros(len(X.columns))\n",
        "    x[0] = baths\n",
        "    x[1] = sqft\n",
        "    x[2] = bedrooms\n",
        "    if loc_index >= 0:\n",
        "        x[loc_index] = 1\n",
        "    if property_type >= 0:\n",
        "        x[property_type] = 1\n",
        "\n",
        "\n",
        "\n",
        "    return dtr.predict([x])[0] / 100000"
      ]
    },
    {
      "cell_type": "code",
      "execution_count": 77,
      "id": "1d6bce5c",
      "metadata": {
        "colab": {
          "base_uri": "https://localhost:8080/"
        },
        "id": "1d6bce5c",
        "outputId": "c1af5866-7149-4b93-9d44-98fc9de9e091"
      },
      "outputs": [
        {
          "name": "stdout",
          "output_type": "stream",
          "text": [
            "153 Lacs\n"
          ]
        },
        {
          "name": "stderr",
          "output_type": "stream",
          "text": [
            "c:\\Users\\CC\\anaconda3\\lib\\site-packages\\sklearn\\base.py:465: UserWarning: X does not have valid feature names, but DecisionTreeRegressor was fitted with feature names\n",
            "  warnings.warn(\n"
          ]
        }
      ],
      "source": [
        "print(str(int(predict_price('North Nazimabad', 1900, 4, 3, 'Flat'))) + \" Lacs\")"
      ]
    },
    {
      "cell_type": "markdown",
      "id": "1wtTkFKZ8w2u",
      "metadata": {
        "id": "1wtTkFKZ8w2u"
      },
      "source": [
        "## Creating Neural Network"
      ]
    },
    {
      "cell_type": "code",
      "execution_count": 78,
      "id": "ac950ba9",
      "metadata": {
        "id": "ac950ba9"
      },
      "outputs": [],
      "source": [
        "model = Sequential()\n",
        "\n",
        "# input layer\n",
        "model.add(Dense(128,activation='relu', input_shape = (17,)))\n",
        "\n",
        "# hidden layers\n",
        "model.add(Dense(256,activation='relu'))\n",
        "model.add(Dense(256,activation='relu'))\n",
        "model.add(Dense(256,activation='relu'))\n",
        "model.add(Dense(256,activation='relu'))\n",
        "\n",
        "\n",
        "# output layer\n",
        "model.add(Dense(1))\n",
        "\n",
        "model.compile(optimizer='rmsprop',loss='mse')\n"
      ]
    },
    {
      "cell_type": "markdown",
      "id": "O3aTMKs_89aV",
      "metadata": {
        "id": "O3aTMKs_89aV"
      },
      "source": [
        "### Training the model"
      ]
    },
    {
      "cell_type": "code",
      "execution_count": 79,
      "id": "ilSPzPBZxkBz",
      "metadata": {
        "colab": {
          "base_uri": "https://localhost:8080/"
        },
        "id": "ilSPzPBZxkBz",
        "outputId": "c74a511b-1777-4f64-9182-2c5f9f8f841f"
      },
      "outputs": [
        {
          "name": "stdout",
          "output_type": "stream",
          "text": [
            "Epoch 1/450\n",
            "20/20 [==============================] - 2s 32ms/step - loss: 1015490927394816.0000 - val_loss: 890813865263104.0000\n",
            "Epoch 2/450\n",
            "20/20 [==============================] - 0s 11ms/step - loss: 696608463257600.0000 - val_loss: 301962843127808.0000\n",
            "Epoch 3/450\n",
            "20/20 [==============================] - 0s 10ms/step - loss: 152532626178048.0000 - val_loss: 78169897959424.0000\n",
            "Epoch 4/450\n",
            "20/20 [==============================] - 0s 10ms/step - loss: 93175792271360.0000 - val_loss: 77913097502720.0000\n",
            "Epoch 5/450\n",
            "20/20 [==============================] - 0s 12ms/step - loss: 98856045903872.0000 - val_loss: 78560924532736.0000\n",
            "Epoch 6/450\n",
            "20/20 [==============================] - 0s 10ms/step - loss: 95277113409536.0000 - val_loss: 80006986334208.0000\n",
            "Epoch 7/450\n",
            "20/20 [==============================] - 0s 10ms/step - loss: 95452787638272.0000 - val_loss: 78070979493888.0000\n",
            "Epoch 8/450\n",
            "20/20 [==============================] - 0s 10ms/step - loss: 95555120267264.0000 - val_loss: 77789793353728.0000\n",
            "Epoch 9/450\n",
            "20/20 [==============================] - 0s 10ms/step - loss: 93429983870976.0000 - val_loss: 94955359961088.0000\n",
            "Epoch 10/450\n",
            "20/20 [==============================] - 0s 9ms/step - loss: 96797699604480.0000 - val_loss: 85274889551872.0000\n",
            "Epoch 11/450\n",
            "20/20 [==============================] - 0s 10ms/step - loss: 94153987850240.0000 - val_loss: 80658529517568.0000\n",
            "Epoch 12/450\n",
            "20/20 [==============================] - 0s 10ms/step - loss: 95917835288576.0000 - val_loss: 77842549309440.0000\n",
            "Epoch 13/450\n",
            "20/20 [==============================] - 0s 9ms/step - loss: 94697326379008.0000 - val_loss: 87155472859136.0000\n",
            "Epoch 14/450\n",
            "20/20 [==============================] - 0s 9ms/step - loss: 96898035744768.0000 - val_loss: 79462641172480.0000\n",
            "Epoch 15/450\n",
            "20/20 [==============================] - 0s 8ms/step - loss: 94744151588864.0000 - val_loss: 77875457818624.0000\n",
            "Epoch 16/450\n",
            "20/20 [==============================] - 0s 8ms/step - loss: 94559442829312.0000 - val_loss: 82821725028352.0000\n",
            "Epoch 17/450\n",
            "20/20 [==============================] - 0s 8ms/step - loss: 95746716073984.0000 - val_loss: 77220685021184.0000\n",
            "Epoch 18/450\n",
            "20/20 [==============================] - 0s 7ms/step - loss: 94033082843136.0000 - val_loss: 78993910923264.0000\n",
            "Epoch 19/450\n",
            "20/20 [==============================] - 0s 7ms/step - loss: 96380760621056.0000 - val_loss: 77985365360640.0000\n",
            "Epoch 20/450\n",
            "20/20 [==============================] - 0s 7ms/step - loss: 95366586302464.0000 - val_loss: 76965839110144.0000\n",
            "Epoch 21/450\n",
            "20/20 [==============================] - 0s 8ms/step - loss: 95181793656832.0000 - val_loss: 77089151647744.0000\n",
            "Epoch 22/450\n",
            "20/20 [==============================] - 0s 7ms/step - loss: 95278891794432.0000 - val_loss: 78805796388864.0000\n",
            "Epoch 23/450\n",
            "20/20 [==============================] - 0s 8ms/step - loss: 95051837341696.0000 - val_loss: 76914861539328.0000\n",
            "Epoch 24/450\n",
            "20/20 [==============================] - 0s 8ms/step - loss: 94081946484736.0000 - val_loss: 79543951949824.0000\n",
            "Epoch 25/450\n",
            "20/20 [==============================] - 0s 7ms/step - loss: 94680809209856.0000 - val_loss: 76829851385856.0000\n",
            "Epoch 26/450\n",
            "20/20 [==============================] - 0s 11ms/step - loss: 95660263079936.0000 - val_loss: 76685860929536.0000\n",
            "Epoch 27/450\n",
            "20/20 [==============================] - 0s 10ms/step - loss: 93376800096256.0000 - val_loss: 76544991035392.0000\n",
            "Epoch 28/450\n",
            "20/20 [==============================] - 0s 8ms/step - loss: 95333417746432.0000 - val_loss: 76483712253952.0000\n",
            "Epoch 29/450\n",
            "20/20 [==============================] - 0s 7ms/step - loss: 96894965514240.0000 - val_loss: 77130541039616.0000\n",
            "Epoch 30/450\n",
            "20/20 [==============================] - 0s 7ms/step - loss: 94525099868160.0000 - val_loss: 76642357608448.0000\n",
            "Epoch 31/450\n",
            "20/20 [==============================] - 0s 8ms/step - loss: 94324586971136.0000 - val_loss: 77194999103488.0000\n",
            "Epoch 32/450\n",
            "20/20 [==============================] - 0s 7ms/step - loss: 94644822081536.0000 - val_loss: 76486237224960.0000\n",
            "Epoch 33/450\n",
            "20/20 [==============================] - 0s 9ms/step - loss: 92599612342272.0000 - val_loss: 89982710579200.0000\n",
            "Epoch 34/450\n",
            "20/20 [==============================] - 0s 7ms/step - loss: 94265455673344.0000 - val_loss: 77391770681344.0000\n",
            "Epoch 35/450\n",
            "20/20 [==============================] - 0s 7ms/step - loss: 92559724511232.0000 - val_loss: 86369812611072.0000\n",
            "Epoch 36/450\n",
            "20/20 [==============================] - 0s 7ms/step - loss: 93918242799616.0000 - val_loss: 76026122076160.0000\n",
            "Epoch 37/450\n",
            "20/20 [==============================] - 0s 7ms/step - loss: 94410670866432.0000 - val_loss: 76488351154176.0000\n",
            "Epoch 38/450\n",
            "20/20 [==============================] - 0s 8ms/step - loss: 93525429452800.0000 - val_loss: 76275842547712.0000\n",
            "Epoch 39/450\n",
            "20/20 [==============================] - 0s 7ms/step - loss: 94366597120000.0000 - val_loss: 81495351885824.0000\n",
            "Epoch 40/450\n",
            "20/20 [==============================] - 0s 7ms/step - loss: 93917932421120.0000 - val_loss: 78910922424320.0000\n",
            "Epoch 41/450\n",
            "20/20 [==============================] - 0s 7ms/step - loss: 95860239106048.0000 - val_loss: 75827731496960.0000\n",
            "Epoch 42/450\n",
            "20/20 [==============================] - 0s 13ms/step - loss: 93209539641344.0000 - val_loss: 76240685891584.0000\n",
            "Epoch 43/450\n",
            "20/20 [==============================] - 0s 7ms/step - loss: 93626168246272.0000 - val_loss: 78149320704000.0000\n",
            "Epoch 44/450\n",
            "20/20 [==============================] - 0s 7ms/step - loss: 94177568227328.0000 - val_loss: 75490643673088.0000\n",
            "Epoch 45/450\n",
            "20/20 [==============================] - 0s 7ms/step - loss: 93189591531520.0000 - val_loss: 82987509088256.0000\n",
            "Epoch 46/450\n",
            "20/20 [==============================] - 0s 7ms/step - loss: 95029716582400.0000 - val_loss: 75364697112576.0000\n",
            "Epoch 47/450\n",
            "20/20 [==============================] - 0s 8ms/step - loss: 92662459793408.0000 - val_loss: 75303921647616.0000\n",
            "Epoch 48/450\n",
            "20/20 [==============================] - 0s 9ms/step - loss: 92641068843008.0000 - val_loss: 76788982087680.0000\n",
            "Epoch 49/450\n",
            "20/20 [==============================] - 0s 7ms/step - loss: 91402818027520.0000 - val_loss: 76935354908672.0000\n",
            "Epoch 50/450\n",
            "20/20 [==============================] - 0s 7ms/step - loss: 93196822511616.0000 - val_loss: 75779027238912.0000\n",
            "Epoch 51/450\n",
            "20/20 [==============================] - 0s 8ms/step - loss: 91744435699712.0000 - val_loss: 77231732817920.0000\n",
            "Epoch 52/450\n",
            "20/20 [==============================] - 0s 7ms/step - loss: 93862156566528.0000 - val_loss: 75006528716800.0000\n",
            "Epoch 53/450\n",
            "20/20 [==============================] - 0s 7ms/step - loss: 92082647597056.0000 - val_loss: 77636516708352.0000\n",
            "Epoch 54/450\n",
            "20/20 [==============================] - 0s 8ms/step - loss: 92044194217984.0000 - val_loss: 78606021689344.0000\n",
            "Epoch 55/450\n",
            "20/20 [==============================] - 0s 8ms/step - loss: 95935166152704.0000 - val_loss: 77726182539264.0000\n",
            "Epoch 56/450\n",
            "20/20 [==============================] - 0s 8ms/step - loss: 92488681390080.0000 - val_loss: 74848059523072.0000\n",
            "Epoch 57/450\n",
            "20/20 [==============================] - 0s 11ms/step - loss: 90500757454848.0000 - val_loss: 74703179874304.0000\n",
            "Epoch 58/450\n",
            "20/20 [==============================] - 0s 6ms/step - loss: 91138333605888.0000 - val_loss: 75050057203712.0000\n",
            "Epoch 59/450\n",
            "20/20 [==============================] - 0s 7ms/step - loss: 91681915404288.0000 - val_loss: 89427502170112.0000\n",
            "Epoch 60/450\n",
            "20/20 [==============================] - 0s 7ms/step - loss: 93213230628864.0000 - val_loss: 76518508199936.0000\n",
            "Epoch 61/450\n",
            "20/20 [==============================] - 0s 17ms/step - loss: 91548771418112.0000 - val_loss: 74447285387264.0000\n",
            "Epoch 62/450\n",
            "20/20 [==============================] - 0s 20ms/step - loss: 91612239626240.0000 - val_loss: 74550071001088.0000\n",
            "Epoch 63/450\n",
            "20/20 [==============================] - 0s 11ms/step - loss: 92318149378048.0000 - val_loss: 74275654467584.0000\n",
            "Epoch 64/450\n",
            "20/20 [==============================] - 0s 10ms/step - loss: 92357106073600.0000 - val_loss: 76705397997568.0000\n",
            "Epoch 65/450\n",
            "20/20 [==============================] - 0s 9ms/step - loss: 90298315177984.0000 - val_loss: 76878631141376.0000\n",
            "Epoch 66/450\n",
            "20/20 [==============================] - 0s 8ms/step - loss: 93251080028160.0000 - val_loss: 74124818907136.0000\n",
            "Epoch 67/450\n",
            "20/20 [==============================] - 0s 8ms/step - loss: 90683947876352.0000 - val_loss: 76526083112960.0000\n",
            "Epoch 68/450\n",
            "20/20 [==============================] - 0s 8ms/step - loss: 90281756065792.0000 - val_loss: 79150425571328.0000\n",
            "Epoch 69/450\n",
            "20/20 [==============================] - 0s 8ms/step - loss: 90831469936640.0000 - val_loss: 98810420264960.0000\n",
            "Epoch 70/450\n",
            "20/20 [==============================] - 0s 9ms/step - loss: 93464100339712.0000 - val_loss: 74473583673344.0000\n",
            "Epoch 71/450\n",
            "20/20 [==============================] - 0s 13ms/step - loss: 90371858104320.0000 - val_loss: 95315843612672.0000\n",
            "Epoch 72/450\n",
            "20/20 [==============================] - 0s 9ms/step - loss: 92989321904128.0000 - val_loss: 73568922632192.0000\n",
            "Epoch 73/450\n",
            "20/20 [==============================] - 0s 9ms/step - loss: 90214596870144.0000 - val_loss: 74536515010560.0000\n",
            "Epoch 74/450\n",
            "20/20 [==============================] - 0s 9ms/step - loss: 92460537610240.0000 - val_loss: 73684593147904.0000\n",
            "Epoch 75/450\n",
            "20/20 [==============================] - 0s 9ms/step - loss: 89719299899392.0000 - val_loss: 77506510061568.0000\n",
            "Epoch 76/450\n",
            "20/20 [==============================] - 0s 9ms/step - loss: 91176619212800.0000 - val_loss: 73322775707648.0000\n",
            "Epoch 77/450\n",
            "20/20 [==============================] - 0s 8ms/step - loss: 90234259767296.0000 - val_loss: 73504087080960.0000\n",
            "Epoch 78/450\n",
            "20/20 [==============================] - 0s 7ms/step - loss: 89210539212800.0000 - val_loss: 75713856143360.0000\n",
            "Epoch 79/450\n",
            "20/20 [==============================] - 0s 6ms/step - loss: 89633165672448.0000 - val_loss: 73072778412032.0000\n",
            "Epoch 80/450\n",
            "20/20 [==============================] - 0s 7ms/step - loss: 91754552360960.0000 - val_loss: 72902833602560.0000\n",
            "Epoch 81/450\n",
            "20/20 [==============================] - 0s 7ms/step - loss: 91500713082880.0000 - val_loss: 74386006605824.0000\n",
            "Epoch 82/450\n",
            "20/20 [==============================] - 0s 8ms/step - loss: 90266782400512.0000 - val_loss: 75060501020672.0000\n",
            "Epoch 83/450\n",
            "20/20 [==============================] - 0s 7ms/step - loss: 90287024111616.0000 - val_loss: 72698763935744.0000\n",
            "Epoch 84/450\n",
            "20/20 [==============================] - 0s 7ms/step - loss: 90586002489344.0000 - val_loss: 72601623855104.0000\n",
            "Epoch 85/450\n",
            "20/20 [==============================] - 0s 11ms/step - loss: 89189743853568.0000 - val_loss: 78071935795200.0000\n",
            "Epoch 86/450\n",
            "20/20 [==============================] - 0s 7ms/step - loss: 90040164155392.0000 - val_loss: 72827310964736.0000\n",
            "Epoch 87/450\n",
            "20/20 [==============================] - 0s 7ms/step - loss: 89115596947456.0000 - val_loss: 72561643749376.0000\n",
            "Epoch 88/450\n",
            "20/20 [==============================] - 0s 7ms/step - loss: 90167570333696.0000 - val_loss: 74687610617856.0000\n",
            "Epoch 89/450\n",
            "20/20 [==============================] - 0s 7ms/step - loss: 90710254551040.0000 - val_loss: 74325424078848.0000\n",
            "Epoch 90/450\n",
            "20/20 [==============================] - 0s 7ms/step - loss: 91100031221760.0000 - val_loss: 72324388749312.0000\n",
            "Epoch 91/450\n",
            "20/20 [==============================] - 0s 7ms/step - loss: 89536646348800.0000 - val_loss: 74882889023488.0000\n",
            "Epoch 92/450\n",
            "20/20 [==============================] - 0s 8ms/step - loss: 90871928193024.0000 - val_loss: 74431774851072.0000\n",
            "Epoch 93/450\n",
            "20/20 [==============================] - 0s 7ms/step - loss: 89051247935488.0000 - val_loss: 72678589333504.0000\n",
            "Epoch 94/450\n",
            "20/20 [==============================] - 0s 7ms/step - loss: 89175617437696.0000 - val_loss: 74375378239488.0000\n",
            "Epoch 95/450\n",
            "20/20 [==============================] - 0s 7ms/step - loss: 89932831916032.0000 - val_loss: 72213826895872.0000\n",
            "Epoch 96/450\n",
            "20/20 [==============================] - 0s 8ms/step - loss: 89718645587968.0000 - val_loss: 71574682075136.0000\n",
            "Epoch 97/450\n",
            "20/20 [==============================] - 0s 7ms/step - loss: 88456277524480.0000 - val_loss: 72806893092864.0000\n",
            "Epoch 98/450\n",
            "20/20 [==============================] - 0s 7ms/step - loss: 90302056497152.0000 - val_loss: 71278882979840.0000\n",
            "Epoch 99/450\n",
            "20/20 [==============================] - 0s 8ms/step - loss: 89950087282688.0000 - val_loss: 71559381254144.0000\n",
            "Epoch 100/450\n",
            "20/20 [==============================] - 0s 11ms/step - loss: 88130321383424.0000 - val_loss: 73133872644096.0000\n",
            "Epoch 101/450\n",
            "20/20 [==============================] - 0s 7ms/step - loss: 91122059706368.0000 - val_loss: 71118241136640.0000\n",
            "Epoch 102/450\n",
            "20/20 [==============================] - 0s 7ms/step - loss: 87920262250496.0000 - val_loss: 77892503470080.0000\n",
            "Epoch 103/450\n",
            "20/20 [==============================] - 0s 7ms/step - loss: 89075566510080.0000 - val_loss: 71753485254656.0000\n",
            "Epoch 104/450\n",
            "20/20 [==============================] - 0s 7ms/step - loss: 88269287063552.0000 - val_loss: 71008341983232.0000\n",
            "Epoch 105/450\n",
            "20/20 [==============================] - 0s 10ms/step - loss: 88692391673856.0000 - val_loss: 72071656767488.0000\n",
            "Epoch 106/450\n",
            "20/20 [==============================] - 0s 8ms/step - loss: 88051200032768.0000 - val_loss: 73919700664320.0000\n",
            "Epoch 107/450\n",
            "20/20 [==============================] - 0s 9ms/step - loss: 90140819062784.0000 - val_loss: 72270332559360.0000\n",
            "Epoch 108/450\n",
            "20/20 [==============================] - 0s 15ms/step - loss: 88163716431872.0000 - val_loss: 70679164616704.0000\n",
            "Epoch 109/450\n",
            "20/20 [==============================] - 0s 11ms/step - loss: 89147591098368.0000 - val_loss: 70778435403776.0000\n",
            "Epoch 110/450\n",
            "20/20 [==============================] - 0s 15ms/step - loss: 88673139818496.0000 - val_loss: 74839503142912.0000\n",
            "Epoch 111/450\n",
            "20/20 [==============================] - 0s 8ms/step - loss: 88947245973504.0000 - val_loss: 71857956978688.0000\n",
            "Epoch 112/450\n",
            "20/20 [==============================] - 0s 8ms/step - loss: 87126674767872.0000 - val_loss: 69929424388096.0000\n",
            "Epoch 113/450\n",
            "20/20 [==============================] - 0s 11ms/step - loss: 87293373186048.0000 - val_loss: 71521968062464.0000\n",
            "Epoch 114/450\n",
            "20/20 [==============================] - 0s 8ms/step - loss: 88242435129344.0000 - val_loss: 72578924281856.0000\n",
            "Epoch 115/450\n",
            "20/20 [==============================] - 0s 9ms/step - loss: 87845570084864.0000 - val_loss: 70231879843840.0000\n",
            "Epoch 116/450\n",
            "20/20 [==============================] - 0s 9ms/step - loss: 87640200183808.0000 - val_loss: 70520812863488.0000\n",
            "Epoch 117/450\n",
            "20/20 [==============================] - 0s 10ms/step - loss: 87260858941440.0000 - val_loss: 72614676529152.0000\n",
            "Epoch 118/450\n",
            "20/20 [==============================] - 0s 8ms/step - loss: 88302069743616.0000 - val_loss: 69076600750080.0000\n",
            "Epoch 119/450\n",
            "20/20 [==============================] - 0s 9ms/step - loss: 87386444791808.0000 - val_loss: 70324687208448.0000\n",
            "Epoch 120/450\n",
            "20/20 [==============================] - 0s 8ms/step - loss: 87999148720128.0000 - val_loss: 69738088628224.0000\n",
            "Epoch 121/450\n",
            "20/20 [==============================] - 0s 13ms/step - loss: 85244464070656.0000 - val_loss: 72045878575104.0000\n",
            "Epoch 122/450\n",
            "20/20 [==============================] - 0s 7ms/step - loss: 86990770929664.0000 - val_loss: 70679986700288.0000\n",
            "Epoch 123/450\n",
            "20/20 [==============================] - 0s 7ms/step - loss: 86843609579520.0000 - val_loss: 68931674963968.0000\n",
            "Epoch 124/450\n",
            "20/20 [==============================] - 0s 8ms/step - loss: 86141994795008.0000 - val_loss: 73095947747328.0000\n",
            "Epoch 125/450\n",
            "20/20 [==============================] - 0s 7ms/step - loss: 85456913956864.0000 - val_loss: 73631417761792.0000\n",
            "Epoch 126/450\n",
            "20/20 [==============================] - 0s 8ms/step - loss: 85919856066560.0000 - val_loss: 71699622002688.0000\n",
            "Epoch 127/450\n",
            "20/20 [==============================] - 0s 8ms/step - loss: 85561285017600.0000 - val_loss: 72144998367232.0000\n",
            "Epoch 128/450\n",
            "20/20 [==============================] - 0s 8ms/step - loss: 85040318906368.0000 - val_loss: 72947553271808.0000\n",
            "Epoch 129/450\n",
            "20/20 [==============================] - 0s 12ms/step - loss: 83599047000064.0000 - val_loss: 69265075994624.0000\n",
            "Epoch 130/450\n",
            "20/20 [==============================] - 0s 10ms/step - loss: 84485655756800.0000 - val_loss: 67074848194560.0000\n",
            "Epoch 131/450\n",
            "20/20 [==============================] - 0s 10ms/step - loss: 85674573168640.0000 - val_loss: 66950742933504.0000\n",
            "Epoch 132/450\n",
            "20/20 [==============================] - 0s 13ms/step - loss: 83606244425728.0000 - val_loss: 77045841264640.0000\n",
            "Epoch 133/450\n",
            "20/20 [==============================] - 0s 12ms/step - loss: 86453908406272.0000 - val_loss: 67464838774784.0000\n",
            "Epoch 134/450\n",
            "20/20 [==============================] - 0s 14ms/step - loss: 84076165857280.0000 - val_loss: 73273358417920.0000\n",
            "Epoch 135/450\n",
            "20/20 [==============================] - 0s 11ms/step - loss: 82969523912704.0000 - val_loss: 66296150491136.0000\n",
            "Epoch 136/450\n",
            "20/20 [==============================] - 0s 9ms/step - loss: 83744564183040.0000 - val_loss: 79562289446912.0000\n",
            "Epoch 137/450\n",
            "20/20 [==============================] - 0s 9ms/step - loss: 84350305566720.0000 - val_loss: 67194469744640.0000\n",
            "Epoch 138/450\n",
            "20/20 [==============================] - 0s 11ms/step - loss: 84586201612288.0000 - val_loss: 67405900414976.0000\n",
            "Epoch 139/450\n",
            "20/20 [==============================] - 0s 9ms/step - loss: 81864232534016.0000 - val_loss: 66314815143936.0000\n",
            "Epoch 140/450\n",
            "20/20 [==============================] - 0s 8ms/step - loss: 84255078088704.0000 - val_loss: 64953994182656.0000\n",
            "Epoch 141/450\n",
            "20/20 [==============================] - 0s 7ms/step - loss: 81237251194880.0000 - val_loss: 64801447346176.0000\n",
            "Epoch 142/450\n",
            "20/20 [==============================] - 0s 7ms/step - loss: 82978885599232.0000 - val_loss: 65253580734464.0000\n",
            "Epoch 143/450\n",
            "20/20 [==============================] - 0s 8ms/step - loss: 81630106484736.0000 - val_loss: 65827076308992.0000\n",
            "Epoch 144/450\n",
            "20/20 [==============================] - 0s 13ms/step - loss: 83138915074048.0000 - val_loss: 64002314993664.0000\n",
            "Epoch 145/450\n",
            "20/20 [==============================] - 0s 8ms/step - loss: 80655090188288.0000 - val_loss: 69969853284352.0000\n",
            "Epoch 146/450\n",
            "20/20 [==============================] - 0s 8ms/step - loss: 82546754846720.0000 - val_loss: 63636055785472.0000\n",
            "Epoch 147/450\n",
            "20/20 [==============================] - 0s 7ms/step - loss: 80592746053632.0000 - val_loss: 68443957100544.0000\n",
            "Epoch 148/450\n",
            "20/20 [==============================] - 0s 8ms/step - loss: 79691331403776.0000 - val_loss: 63573652930560.0000\n",
            "Epoch 149/450\n",
            "20/20 [==============================] - 0s 8ms/step - loss: 79491598647296.0000 - val_loss: 64631842275328.0000\n",
            "Epoch 150/450\n",
            "20/20 [==============================] - 0s 7ms/step - loss: 79536259596288.0000 - val_loss: 63898799570944.0000\n",
            "Epoch 151/450\n",
            "20/20 [==============================] - 0s 7ms/step - loss: 80259072393216.0000 - val_loss: 62016215580672.0000\n",
            "Epoch 152/450\n",
            "20/20 [==============================] - 0s 7ms/step - loss: 78858090971136.0000 - val_loss: 61278336843776.0000\n",
            "Epoch 153/450\n",
            "20/20 [==============================] - 0s 8ms/step - loss: 79526100992000.0000 - val_loss: 60881538908160.0000\n",
            "Epoch 154/450\n",
            "20/20 [==============================] - 0s 8ms/step - loss: 78865498112000.0000 - val_loss: 64794568687616.0000\n",
            "Epoch 155/450\n",
            "20/20 [==============================] - 0s 8ms/step - loss: 79601279696896.0000 - val_loss: 60893060661248.0000\n",
            "Epoch 156/450\n",
            "20/20 [==============================] - 0s 8ms/step - loss: 77907242254336.0000 - val_loss: 60110558724096.0000\n",
            "Epoch 157/450\n",
            "20/20 [==============================] - 0s 10ms/step - loss: 77926972260352.0000 - val_loss: 59642226933760.0000\n",
            "Epoch 158/450\n",
            "20/20 [==============================] - 0s 10ms/step - loss: 76339210092544.0000 - val_loss: 59918677704704.0000\n",
            "Epoch 159/450\n",
            "20/20 [==============================] - 0s 8ms/step - loss: 76779653955584.0000 - val_loss: 61207838982144.0000\n",
            "Epoch 160/450\n",
            "20/20 [==============================] - 0s 8ms/step - loss: 76354695462912.0000 - val_loss: 57890878521344.0000\n",
            "Epoch 161/450\n",
            "20/20 [==============================] - 0s 8ms/step - loss: 75399207845888.0000 - val_loss: 59672081989632.0000\n",
            "Epoch 162/450\n",
            "20/20 [==============================] - 0s 8ms/step - loss: 74721651589120.0000 - val_loss: 64281647251456.0000\n",
            "Epoch 163/450\n",
            "20/20 [==============================] - 0s 8ms/step - loss: 74925528317952.0000 - val_loss: 66332875816960.0000\n",
            "Epoch 164/450\n",
            "20/20 [==============================] - 0s 8ms/step - loss: 73873496211456.0000 - val_loss: 56091782152192.0000\n",
            "Epoch 165/450\n",
            "20/20 [==============================] - 0s 7ms/step - loss: 73078700769280.0000 - val_loss: 57945681297408.0000\n",
            "Epoch 166/450\n",
            "20/20 [==============================] - 0s 7ms/step - loss: 73994560602112.0000 - val_loss: 54653827940352.0000\n",
            "Epoch 167/450\n",
            "20/20 [==============================] - 0s 7ms/step - loss: 70399178047488.0000 - val_loss: 59577668206592.0000\n",
            "Epoch 168/450\n",
            "20/20 [==============================] - 0s 13ms/step - loss: 72524272500736.0000 - val_loss: 53523119079424.0000\n",
            "Epoch 169/450\n",
            "20/20 [==============================] - 0s 9ms/step - loss: 69889150681088.0000 - val_loss: 56052691238912.0000\n",
            "Epoch 170/450\n",
            "20/20 [==============================] - 0s 8ms/step - loss: 71951506735104.0000 - val_loss: 60062533943296.0000\n",
            "Epoch 171/450\n",
            "20/20 [==============================] - 0s 7ms/step - loss: 69321229336576.0000 - val_loss: 52956879650816.0000\n",
            "Epoch 172/450\n",
            "20/20 [==============================] - 0s 7ms/step - loss: 67936555368448.0000 - val_loss: 51297931755520.0000\n",
            "Epoch 173/450\n",
            "20/20 [==============================] - 0s 8ms/step - loss: 70884719067136.0000 - val_loss: 50886193709056.0000\n",
            "Epoch 174/450\n",
            "20/20 [==============================] - 0s 22ms/step - loss: 69412992319488.0000 - val_loss: 50260302888960.0000\n",
            "Epoch 175/450\n",
            "20/20 [==============================] - 0s 8ms/step - loss: 67289139380224.0000 - val_loss: 49998813200384.0000\n",
            "Epoch 176/450\n",
            "20/20 [==============================] - 0s 8ms/step - loss: 68558482571264.0000 - val_loss: 64990706925568.0000\n",
            "Epoch 177/450\n",
            "20/20 [==============================] - 0s 8ms/step - loss: 68430581465088.0000 - val_loss: 48479162335232.0000\n",
            "Epoch 178/450\n",
            "20/20 [==============================] - 0s 9ms/step - loss: 66514870861824.0000 - val_loss: 51367288766464.0000\n",
            "Epoch 179/450\n",
            "20/20 [==============================] - 0s 12ms/step - loss: 66815283691520.0000 - val_loss: 47538929401856.0000\n",
            "Epoch 180/450\n",
            "20/20 [==============================] - 0s 12ms/step - loss: 63235977904128.0000 - val_loss: 48570979844096.0000\n",
            "Epoch 181/450\n",
            "20/20 [==============================] - 0s 9ms/step - loss: 63143132790784.0000 - val_loss: 49396632780800.0000\n",
            "Epoch 182/450\n",
            "20/20 [==============================] - 0s 10ms/step - loss: 64084212973568.0000 - val_loss: 51439665676288.0000\n",
            "Epoch 183/450\n",
            "20/20 [==============================] - 0s 10ms/step - loss: 62363650752512.0000 - val_loss: 45448022720512.0000\n",
            "Epoch 184/450\n",
            "20/20 [==============================] - 0s 11ms/step - loss: 64642453864448.0000 - val_loss: 70367607521280.0000\n",
            "Epoch 185/450\n",
            "20/20 [==============================] - 0s 10ms/step - loss: 62667985256448.0000 - val_loss: 44699385593856.0000\n",
            "Epoch 186/450\n",
            "20/20 [==============================] - 0s 9ms/step - loss: 64355085320192.0000 - val_loss: 45671155499008.0000\n",
            "Epoch 187/450\n",
            "20/20 [==============================] - 0s 9ms/step - loss: 61982749229056.0000 - val_loss: 44103588904960.0000\n",
            "Epoch 188/450\n",
            "20/20 [==============================] - 0s 14ms/step - loss: 64548514037760.0000 - val_loss: 45550644756480.0000\n",
            "Epoch 189/450\n",
            "20/20 [==============================] - 0s 10ms/step - loss: 64485024858112.0000 - val_loss: 44778938957824.0000\n",
            "Epoch 190/450\n",
            "20/20 [==============================] - 0s 11ms/step - loss: 63782227279872.0000 - val_loss: 43477333180416.0000\n",
            "Epoch 191/450\n",
            "20/20 [==============================] - 0s 9ms/step - loss: 63271067451392.0000 - val_loss: 43332176707584.0000\n",
            "Epoch 192/450\n",
            "20/20 [==============================] - 0s 9ms/step - loss: 62388485226496.0000 - val_loss: 43389110190080.0000\n",
            "Epoch 193/450\n",
            "20/20 [==============================] - 0s 9ms/step - loss: 61532012544000.0000 - val_loss: 55953651138560.0000\n",
            "Epoch 194/450\n",
            "20/20 [==============================] - 0s 8ms/step - loss: 60950539403264.0000 - val_loss: 43573969944576.0000\n",
            "Epoch 195/450\n",
            "20/20 [==============================] - 0s 9ms/step - loss: 63541017051136.0000 - val_loss: 44069606653952.0000\n",
            "Epoch 196/450\n",
            "20/20 [==============================] - 0s 9ms/step - loss: 63728359833600.0000 - val_loss: 44196115251200.0000\n",
            "Epoch 197/450\n",
            "20/20 [==============================] - 0s 9ms/step - loss: 60002203074560.0000 - val_loss: 42395223719936.0000\n",
            "Epoch 198/450\n",
            "20/20 [==============================] - 0s 8ms/step - loss: 61519593209856.0000 - val_loss: 42234128891904.0000\n",
            "Epoch 199/450\n",
            "20/20 [==============================] - 0s 15ms/step - loss: 61094009765888.0000 - val_loss: 43578843725824.0000\n",
            "Epoch 200/450\n",
            "20/20 [==============================] - 0s 10ms/step - loss: 62094019919872.0000 - val_loss: 43545641615360.0000\n",
            "Epoch 201/450\n",
            "20/20 [==============================] - 0s 9ms/step - loss: 60123338768384.0000 - val_loss: 45963569790976.0000\n",
            "Epoch 202/450\n",
            "20/20 [==============================] - 0s 9ms/step - loss: 63220584808448.0000 - val_loss: 41932176752640.0000\n",
            "Epoch 203/450\n",
            "20/20 [==============================] - 0s 10ms/step - loss: 61055736741888.0000 - val_loss: 42612350255104.0000\n",
            "Epoch 204/450\n",
            "20/20 [==============================] - 0s 10ms/step - loss: 61834589634560.0000 - val_loss: 41949738303488.0000\n",
            "Epoch 205/450\n",
            "20/20 [==============================] - 0s 10ms/step - loss: 60204888621056.0000 - val_loss: 41796688150528.0000\n",
            "Epoch 206/450\n",
            "20/20 [==============================] - 0s 10ms/step - loss: 59331584196608.0000 - val_loss: 48506517585920.0000\n",
            "Epoch 207/450\n",
            "20/20 [==============================] - 0s 13ms/step - loss: 61044101742592.0000 - val_loss: 45219240214528.0000\n",
            "Epoch 208/450\n",
            "20/20 [==============================] - 0s 15ms/step - loss: 57950156619776.0000 - val_loss: 41768359821312.0000\n",
            "Epoch 209/450\n",
            "20/20 [==============================] - 0s 10ms/step - loss: 60140812238848.0000 - val_loss: 50830321385472.0000\n",
            "Epoch 210/450\n",
            "20/20 [==============================] - 0s 8ms/step - loss: 65091156312064.0000 - val_loss: 46090405543936.0000\n",
            "Epoch 211/450\n",
            "20/20 [==============================] - 0s 7ms/step - loss: 60998388023296.0000 - val_loss: 42224016424960.0000\n",
            "Epoch 212/450\n",
            "20/20 [==============================] - 0s 9ms/step - loss: 62758464782336.0000 - val_loss: 49126314082304.0000\n",
            "Epoch 213/450\n",
            "20/20 [==============================] - 0s 8ms/step - loss: 60440155521024.0000 - val_loss: 47852411682816.0000\n",
            "Epoch 214/450\n",
            "20/20 [==============================] - 0s 8ms/step - loss: 56854197567488.0000 - val_loss: 57735550861312.0000\n",
            "Epoch 215/450\n",
            "20/20 [==============================] - 0s 10ms/step - loss: 62307551936512.0000 - val_loss: 41324388548608.0000\n",
            "Epoch 216/450\n",
            "20/20 [==============================] - 0s 9ms/step - loss: 57775069593600.0000 - val_loss: 47130446135296.0000\n",
            "Epoch 217/450\n",
            "20/20 [==============================] - 0s 11ms/step - loss: 61793854554112.0000 - val_loss: 41547026399232.0000\n",
            "Epoch 218/450\n",
            "20/20 [==============================] - 0s 9ms/step - loss: 57999909453824.0000 - val_loss: 40962290089984.0000\n",
            "Epoch 219/450\n",
            "20/20 [==============================] - 0s 13ms/step - loss: 61587666763776.0000 - val_loss: 49954538127360.0000\n",
            "Epoch 220/450\n",
            "20/20 [==============================] - 0s 8ms/step - loss: 62978724462592.0000 - val_loss: 45551777218560.0000\n",
            "Epoch 221/450\n",
            "20/20 [==============================] - 0s 8ms/step - loss: 61597485629440.0000 - val_loss: 40696635457536.0000\n",
            "Epoch 222/450\n",
            "20/20 [==============================] - 0s 8ms/step - loss: 60889482919936.0000 - val_loss: 41784398839808.0000\n",
            "Epoch 223/450\n",
            "20/20 [==============================] - 0s 8ms/step - loss: 60834336210944.0000 - val_loss: 48013716226048.0000\n",
            "Epoch 224/450\n",
            "20/20 [==============================] - 0s 7ms/step - loss: 59742126866432.0000 - val_loss: 41176136679424.0000\n",
            "Epoch 225/450\n",
            "20/20 [==============================] - 0s 8ms/step - loss: 61548252889088.0000 - val_loss: 43388321660928.0000\n",
            "Epoch 226/450\n",
            "20/20 [==============================] - 0s 7ms/step - loss: 59826344296448.0000 - val_loss: 41517683048448.0000\n",
            "Epoch 227/450\n",
            "20/20 [==============================] - 0s 7ms/step - loss: 59982305296384.0000 - val_loss: 40773068259328.0000\n",
            "Epoch 228/450\n",
            "20/20 [==============================] - 0s 7ms/step - loss: 57912844091392.0000 - val_loss: 55248928374784.0000\n",
            "Epoch 229/450\n",
            "20/20 [==============================] - 0s 12ms/step - loss: 62150617858048.0000 - val_loss: 40569015369728.0000\n",
            "Epoch 230/450\n",
            "20/20 [==============================] - 0s 8ms/step - loss: 60474859192320.0000 - val_loss: 40313120882688.0000\n",
            "Epoch 231/450\n",
            "20/20 [==============================] - 0s 8ms/step - loss: 62990376239104.0000 - val_loss: 41242226327552.0000\n",
            "Epoch 232/450\n",
            "20/20 [==============================] - 0s 8ms/step - loss: 61970367643648.0000 - val_loss: 40338295095296.0000\n",
            "Epoch 233/450\n",
            "20/20 [==============================] - 0s 7ms/step - loss: 58600877719552.0000 - val_loss: 43101351575552.0000\n",
            "Epoch 234/450\n",
            "20/20 [==============================] - 0s 7ms/step - loss: 57777846222848.0000 - val_loss: 54194950111232.0000\n",
            "Epoch 235/450\n",
            "20/20 [==============================] - 0s 8ms/step - loss: 61494511271936.0000 - val_loss: 40091770683392.0000\n",
            "Epoch 236/450\n",
            "20/20 [==============================] - 0s 8ms/step - loss: 56530770591744.0000 - val_loss: 40037014044672.0000\n",
            "Epoch 237/450\n",
            "20/20 [==============================] - 0s 9ms/step - loss: 58318055800832.0000 - val_loss: 39993187762176.0000\n",
            "Epoch 238/450\n",
            "20/20 [==============================] - 0s 7ms/step - loss: 58406366871552.0000 - val_loss: 71458919284736.0000\n",
            "Epoch 239/450\n",
            "20/20 [==============================] - 0s 12ms/step - loss: 60528793747456.0000 - val_loss: 41921091207168.0000\n",
            "Epoch 240/450\n",
            "20/20 [==============================] - 0s 7ms/step - loss: 58707782139904.0000 - val_loss: 61312293928960.0000\n",
            "Epoch 241/450\n",
            "20/20 [==============================] - 0s 7ms/step - loss: 59964013936640.0000 - val_loss: 40060162408448.0000\n",
            "Epoch 242/450\n",
            "20/20 [==============================] - 0s 8ms/step - loss: 56157884383232.0000 - val_loss: 41665653899264.0000\n",
            "Epoch 243/450\n",
            "20/20 [==============================] - 0s 7ms/step - loss: 58373600968704.0000 - val_loss: 44964394303488.0000\n",
            "Epoch 244/450\n",
            "20/20 [==============================] - 0s 7ms/step - loss: 60949834760192.0000 - val_loss: 40104227766272.0000\n",
            "Epoch 245/450\n",
            "20/20 [==============================] - 0s 8ms/step - loss: 60781378928640.0000 - val_loss: 39844315136000.0000\n",
            "Epoch 246/450\n",
            "20/20 [==============================] - 0s 7ms/step - loss: 61292773638144.0000 - val_loss: 39904809582592.0000\n",
            "Epoch 247/450\n",
            "20/20 [==============================] - 0s 7ms/step - loss: 58050790555648.0000 - val_loss: 39746524938240.0000\n",
            "Epoch 248/450\n",
            "20/20 [==============================] - 0s 8ms/step - loss: 58494921211904.0000 - val_loss: 39331523723264.0000\n",
            "Epoch 249/450\n",
            "20/20 [==============================] - 0s 7ms/step - loss: 57708057198592.0000 - val_loss: 48229055987712.0000\n",
            "Epoch 250/450\n",
            "20/20 [==============================] - 0s 12ms/step - loss: 57372106031104.0000 - val_loss: 43984122544128.0000\n",
            "Epoch 251/450\n",
            "20/20 [==============================] - 0s 7ms/step - loss: 57661206822912.0000 - val_loss: 49626317062144.0000\n",
            "Epoch 252/450\n",
            "20/20 [==============================] - 0s 8ms/step - loss: 58061452476416.0000 - val_loss: 40764885172224.0000\n",
            "Epoch 253/450\n",
            "20/20 [==============================] - 0s 8ms/step - loss: 59967562317824.0000 - val_loss: 39997012967424.0000\n",
            "Epoch 254/450\n",
            "20/20 [==============================] - 0s 17ms/step - loss: 58367443730432.0000 - val_loss: 46231292215296.0000\n",
            "Epoch 255/450\n",
            "20/20 [==============================] - 0s 8ms/step - loss: 59829351612416.0000 - val_loss: 41111158521856.0000\n",
            "Epoch 256/450\n",
            "20/20 [==============================] - 0s 11ms/step - loss: 58989911998464.0000 - val_loss: 45993412263936.0000\n",
            "Epoch 257/450\n",
            "20/20 [==============================] - 0s 10ms/step - loss: 57864710258688.0000 - val_loss: 44729517473792.0000\n",
            "Epoch 258/450\n",
            "20/20 [==============================] - 0s 9ms/step - loss: 58334942068736.0000 - val_loss: 39136744439808.0000\n",
            "Epoch 259/450\n",
            "20/20 [==============================] - 0s 13ms/step - loss: 57532525576192.0000 - val_loss: 49983017451520.0000\n",
            "Epoch 260/450\n",
            "20/20 [==============================] - 0s 10ms/step - loss: 57464087117824.0000 - val_loss: 45867000135680.0000\n",
            "Epoch 261/450\n",
            "20/20 [==============================] - 0s 9ms/step - loss: 55942653673472.0000 - val_loss: 39895284318208.0000\n",
            "Epoch 262/450\n",
            "20/20 [==============================] - 0s 9ms/step - loss: 59114793205760.0000 - val_loss: 40834762276864.0000\n",
            "Epoch 263/450\n",
            "20/20 [==============================] - 0s 9ms/step - loss: 59226823065600.0000 - val_loss: 42983567130624.0000\n",
            "Epoch 264/450\n",
            "20/20 [==============================] - 0s 11ms/step - loss: 57304397381632.0000 - val_loss: 39983968681984.0000\n",
            "Epoch 265/450\n",
            "20/20 [==============================] - 0s 10ms/step - loss: 57505287766016.0000 - val_loss: 51519974014976.0000\n",
            "Epoch 266/450\n",
            "20/20 [==============================] - 0s 10ms/step - loss: 58536482570240.0000 - val_loss: 47877984354304.0000\n",
            "Epoch 267/450\n",
            "20/20 [==============================] - 0s 10ms/step - loss: 58648705368064.0000 - val_loss: 39722642571264.0000\n",
            "Epoch 268/450\n",
            "20/20 [==============================] - 0s 14ms/step - loss: 55811212574720.0000 - val_loss: 39848207450112.0000\n",
            "Epoch 269/450\n",
            "20/20 [==============================] - 0s 10ms/step - loss: 58996799045632.0000 - val_loss: 39251399933952.0000\n",
            "Epoch 270/450\n",
            "20/20 [==============================] - 0s 11ms/step - loss: 58509299286016.0000 - val_loss: 39868319137792.0000\n",
            "Epoch 271/450\n",
            "20/20 [==============================] - 0s 10ms/step - loss: 59288982650880.0000 - val_loss: 41174710616064.0000\n",
            "Epoch 272/450\n",
            "20/20 [==============================] - 0s 9ms/step - loss: 56996308975616.0000 - val_loss: 43678118707200.0000\n",
            "Epoch 273/450\n",
            "20/20 [==============================] - 0s 10ms/step - loss: 56731283488768.0000 - val_loss: 43906884435968.0000\n",
            "Epoch 274/450\n",
            "20/20 [==============================] - 0s 9ms/step - loss: 59466431070208.0000 - val_loss: 40350064312320.0000\n",
            "Epoch 275/450\n",
            "20/20 [==============================] - 0s 10ms/step - loss: 54724107698176.0000 - val_loss: 39052451512320.0000\n",
            "Epoch 276/450\n",
            "20/20 [==============================] - 0s 14ms/step - loss: 56257440382976.0000 - val_loss: 41554504843264.0000\n",
            "Epoch 277/450\n",
            "20/20 [==============================] - 0s 9ms/step - loss: 55021982973952.0000 - val_loss: 38672820862976.0000\n",
            "Epoch 278/450\n",
            "20/20 [==============================] - 0s 10ms/step - loss: 60129479229440.0000 - val_loss: 39878360301568.0000\n",
            "Epoch 279/450\n",
            "20/20 [==============================] - 0s 9ms/step - loss: 57565811572736.0000 - val_loss: 44209679630336.0000\n",
            "Epoch 280/450\n",
            "20/20 [==============================] - 0s 10ms/step - loss: 57080207638528.0000 - val_loss: 51942285901824.0000\n",
            "Epoch 281/450\n",
            "20/20 [==============================] - 0s 8ms/step - loss: 61824267452416.0000 - val_loss: 50566529024000.0000\n",
            "Epoch 282/450\n",
            "20/20 [==============================] - 0s 8ms/step - loss: 55298714763264.0000 - val_loss: 43263893438464.0000\n",
            "Epoch 283/450\n",
            "20/20 [==============================] - 0s 8ms/step - loss: 59069503111168.0000 - val_loss: 46549857992704.0000\n",
            "Epoch 284/450\n",
            "20/20 [==============================] - 0s 8ms/step - loss: 59889032364032.0000 - val_loss: 38696074084352.0000\n",
            "Epoch 285/450\n",
            "20/20 [==============================] - 0s 11ms/step - loss: 57827330621440.0000 - val_loss: 38857512845312.0000\n",
            "Epoch 286/450\n",
            "20/20 [==============================] - 0s 16ms/step - loss: 55958369730560.0000 - val_loss: 53246940938240.0000\n",
            "Epoch 287/450\n",
            "20/20 [==============================] - 0s 11ms/step - loss: 54849165066240.0000 - val_loss: 41174467346432.0000\n",
            "Epoch 288/450\n",
            "20/20 [==============================] - 0s 9ms/step - loss: 56802834120704.0000 - val_loss: 38813736894464.0000\n",
            "Epoch 289/450\n",
            "20/20 [==============================] - 0s 9ms/step - loss: 57589035433984.0000 - val_loss: 37537569570816.0000\n",
            "Epoch 290/450\n",
            "20/20 [==============================] - 0s 10ms/step - loss: 55277286064128.0000 - val_loss: 38297548095488.0000\n",
            "Epoch 291/450\n",
            "20/20 [==============================] - 0s 10ms/step - loss: 58743819599872.0000 - val_loss: 37363526926336.0000\n",
            "Epoch 292/450\n",
            "20/20 [==============================] - 0s 10ms/step - loss: 58156755451904.0000 - val_loss: 39738140524544.0000\n",
            "Epoch 293/450\n",
            "20/20 [==============================] - 0s 10ms/step - loss: 56560118136832.0000 - val_loss: 38144648937472.0000\n",
            "Epoch 294/450\n",
            "20/20 [==============================] - 0s 13ms/step - loss: 56393562324992.0000 - val_loss: 37342035312640.0000\n",
            "Epoch 295/450\n",
            "20/20 [==============================] - 0s 9ms/step - loss: 56958971281408.0000 - val_loss: 41646624342016.0000\n",
            "Epoch 296/450\n",
            "20/20 [==============================] - 0s 8ms/step - loss: 56970581114880.0000 - val_loss: 38193567105024.0000\n",
            "Epoch 297/450\n",
            "20/20 [==============================] - 0s 10ms/step - loss: 54397111369728.0000 - val_loss: 37327334277120.0000\n",
            "Epoch 298/450\n",
            "20/20 [==============================] - 0s 9ms/step - loss: 57559415259136.0000 - val_loss: 38966371811328.0000\n",
            "Epoch 299/450\n",
            "20/20 [==============================] - 0s 7ms/step - loss: 58585325240320.0000 - val_loss: 54374109806592.0000\n",
            "Epoch 300/450\n",
            "20/20 [==============================] - 0s 7ms/step - loss: 55978544332800.0000 - val_loss: 39671421730816.0000\n",
            "Epoch 301/450\n",
            "20/20 [==============================] - 0s 7ms/step - loss: 56855309058048.0000 - val_loss: 44617022046208.0000\n",
            "Epoch 302/450\n",
            "20/20 [==============================] - 0s 7ms/step - loss: 57504356630528.0000 - val_loss: 47567580692480.0000\n",
            "Epoch 303/450\n",
            "20/20 [==============================] - 0s 7ms/step - loss: 54920505982976.0000 - val_loss: 39463778516992.0000\n",
            "Epoch 304/450\n",
            "20/20 [==============================] - 0s 12ms/step - loss: 56869607440384.0000 - val_loss: 36754723700736.0000\n",
            "Epoch 305/450\n",
            "20/20 [==============================] - 0s 7ms/step - loss: 57129075474432.0000 - val_loss: 38229529067520.0000\n",
            "Epoch 306/450\n",
            "20/20 [==============================] - 0s 7ms/step - loss: 52490007478272.0000 - val_loss: 37221230968832.0000\n",
            "Epoch 307/450\n",
            "20/20 [==============================] - 0s 7ms/step - loss: 57485268353024.0000 - val_loss: 36653355761664.0000\n",
            "Epoch 308/450\n",
            "20/20 [==============================] - 0s 8ms/step - loss: 54655929286656.0000 - val_loss: 38950215352320.0000\n",
            "Epoch 309/450\n",
            "20/20 [==============================] - 0s 8ms/step - loss: 55159254155264.0000 - val_loss: 37757548232704.0000\n",
            "Epoch 310/450\n",
            "20/20 [==============================] - 0s 7ms/step - loss: 56168651161600.0000 - val_loss: 39167224446976.0000\n",
            "Epoch 311/450\n",
            "20/20 [==============================] - 0s 9ms/step - loss: 55441392402432.0000 - val_loss: 37569165262848.0000\n",
            "Epoch 312/450\n",
            "20/20 [==============================] - 0s 7ms/step - loss: 57598837522432.0000 - val_loss: 37949026598912.0000\n",
            "Epoch 313/450\n",
            "20/20 [==============================] - 0s 13ms/step - loss: 57482026156032.0000 - val_loss: 36884726153216.0000\n",
            "Epoch 314/450\n",
            "20/20 [==============================] - 0s 8ms/step - loss: 55730346393600.0000 - val_loss: 40726595371008.0000\n",
            "Epoch 315/450\n",
            "20/20 [==============================] - 0s 8ms/step - loss: 58028791431168.0000 - val_loss: 38043704623104.0000\n",
            "Epoch 316/450\n",
            "20/20 [==============================] - 0s 9ms/step - loss: 53702958252032.0000 - val_loss: 36291282468864.0000\n",
            "Epoch 317/450\n",
            "20/20 [==============================] - 0s 8ms/step - loss: 58403367944192.0000 - val_loss: 42806814965760.0000\n",
            "Epoch 318/450\n",
            "20/20 [==============================] - 0s 8ms/step - loss: 57134234468352.0000 - val_loss: 39324674424832.0000\n",
            "Epoch 319/450\n",
            "20/20 [==============================] - 0s 8ms/step - loss: 56567131013120.0000 - val_loss: 36191483199488.0000\n",
            "Epoch 320/450\n",
            "20/20 [==============================] - 0s 7ms/step - loss: 54170254049280.0000 - val_loss: 36890866614272.0000\n",
            "Epoch 321/450\n",
            "20/20 [==============================] - 0s 8ms/step - loss: 56158383505408.0000 - val_loss: 36400015605760.0000\n",
            "Epoch 322/450\n",
            "20/20 [==============================] - 0s 13ms/step - loss: 56296380301312.0000 - val_loss: 39084462440448.0000\n",
            "Epoch 323/450\n",
            "20/20 [==============================] - 0s 8ms/step - loss: 54557925179392.0000 - val_loss: 38024343715840.0000\n",
            "Epoch 324/450\n",
            "20/20 [==============================] - 0s 7ms/step - loss: 56409622315008.0000 - val_loss: 36046796488704.0000\n",
            "Epoch 325/450\n",
            "20/20 [==============================] - 0s 7ms/step - loss: 53856314589184.0000 - val_loss: 36936748105728.0000\n",
            "Epoch 326/450\n",
            "20/20 [==============================] - 0s 8ms/step - loss: 57324492292096.0000 - val_loss: 35982413922304.0000\n",
            "Epoch 327/450\n",
            "20/20 [==============================] - 0s 7ms/step - loss: 56094646861824.0000 - val_loss: 36177369366528.0000\n",
            "Epoch 328/450\n",
            "20/20 [==============================] - 0s 9ms/step - loss: 54564917084160.0000 - val_loss: 35996771024896.0000\n",
            "Epoch 329/450\n",
            "20/20 [==============================] - 0s 8ms/step - loss: 57550506557440.0000 - val_loss: 35973140316160.0000\n",
            "Epoch 330/450\n",
            "20/20 [==============================] - 0s 8ms/step - loss: 54506033250304.0000 - val_loss: 37308682207232.0000\n",
            "Epoch 331/450\n",
            "20/20 [==============================] - 0s 12ms/step - loss: 55893110554624.0000 - val_loss: 38991072067584.0000\n",
            "Epoch 332/450\n",
            "20/20 [==============================] - 0s 9ms/step - loss: 55014177374208.0000 - val_loss: 41614244315136.0000\n",
            "Epoch 333/450\n",
            "20/20 [==============================] - 0s 7ms/step - loss: 55987868270592.0000 - val_loss: 35534026047488.0000\n",
            "Epoch 334/450\n",
            "20/20 [==============================] - 0s 17ms/step - loss: 56654691303424.0000 - val_loss: 43554168635392.0000\n",
            "Epoch 335/450\n",
            "20/20 [==============================] - 0s 10ms/step - loss: 52933307662336.0000 - val_loss: 60545461911552.0000\n",
            "Epoch 336/450\n",
            "20/20 [==============================] - 0s 10ms/step - loss: 57105201496064.0000 - val_loss: 35601462067200.0000\n",
            "Epoch 337/450\n",
            "20/20 [==============================] - 0s 11ms/step - loss: 52921911738368.0000 - val_loss: 35917976829952.0000\n",
            "Epoch 338/450\n",
            "20/20 [==============================] - 0s 14ms/step - loss: 55366301777920.0000 - val_loss: 63670851731456.0000\n",
            "Epoch 339/450\n",
            "20/20 [==============================] - 0s 9ms/step - loss: 54344191836160.0000 - val_loss: 39199222792192.0000\n",
            "Epoch 340/450\n",
            "20/20 [==============================] - 0s 10ms/step - loss: 54676229718016.0000 - val_loss: 35227372093440.0000\n",
            "Epoch 341/450\n",
            "20/20 [==============================] - 0s 9ms/step - loss: 53896571518976.0000 - val_loss: 35219499384832.0000\n",
            "Epoch 342/450\n",
            "20/20 [==============================] - 0s 9ms/step - loss: 56079463481344.0000 - val_loss: 40250785136640.0000\n",
            "Epoch 343/450\n",
            "20/20 [==============================] - 0s 10ms/step - loss: 54938113671168.0000 - val_loss: 35401754476544.0000\n",
            "Epoch 344/450\n",
            "20/20 [==============================] - 0s 10ms/step - loss: 56208551575552.0000 - val_loss: 40894707269632.0000\n",
            "Epoch 345/450\n",
            "20/20 [==============================] - 0s 10ms/step - loss: 54449888296960.0000 - val_loss: 35675671887872.0000\n",
            "Epoch 346/450\n",
            "20/20 [==============================] - 0s 13ms/step - loss: 54529248722944.0000 - val_loss: 72883304923136.0000\n",
            "Epoch 347/450\n",
            "20/20 [==============================] - 0s 10ms/step - loss: 58616249843712.0000 - val_loss: 35692935643136.0000\n",
            "Epoch 348/450\n",
            "20/20 [==============================] - 0s 11ms/step - loss: 53922773336064.0000 - val_loss: 35233533526016.0000\n",
            "Epoch 349/450\n",
            "20/20 [==============================] - 0s 10ms/step - loss: 54026443948032.0000 - val_loss: 37384737521664.0000\n",
            "Epoch 350/450\n",
            "20/20 [==============================] - 0s 10ms/step - loss: 57005444169728.0000 - val_loss: 44172190941184.0000\n",
            "Epoch 351/450\n",
            "20/20 [==============================] - 0s 10ms/step - loss: 53767093354496.0000 - val_loss: 35098623737856.0000\n",
            "Epoch 352/450\n",
            "20/20 [==============================] - 0s 9ms/step - loss: 56476013953024.0000 - val_loss: 36132058300416.0000\n",
            "Epoch 353/450\n",
            "20/20 [==============================] - 0s 11ms/step - loss: 57333635874816.0000 - val_loss: 42609456185344.0000\n",
            "Epoch 354/450\n",
            "20/20 [==============================] - 0s 13ms/step - loss: 53505855324160.0000 - val_loss: 40976236150784.0000\n",
            "Epoch 355/450\n",
            "20/20 [==============================] - 0s 10ms/step - loss: 54388420771840.0000 - val_loss: 51933201039360.0000\n",
            "Epoch 356/450\n",
            "20/20 [==============================] - 0s 9ms/step - loss: 51748295147520.0000 - val_loss: 44920064704512.0000\n",
            "Epoch 357/450\n",
            "20/20 [==============================] - 0s 10ms/step - loss: 55912001699840.0000 - val_loss: 63710861197312.0000\n",
            "Epoch 358/450\n",
            "20/20 [==============================] - 0s 10ms/step - loss: 52388987666432.0000 - val_loss: 35256245682176.0000\n",
            "Epoch 359/450\n",
            "20/20 [==============================] - 0s 10ms/step - loss: 57260826951680.0000 - val_loss: 34692898226176.0000\n",
            "Epoch 360/450\n",
            "20/20 [==============================] - 0s 10ms/step - loss: 53927814889472.0000 - val_loss: 35542943137792.0000\n",
            "Epoch 361/450\n",
            "20/20 [==============================] - 0s 7ms/step - loss: 52992665452544.0000 - val_loss: 37673498574848.0000\n",
            "Epoch 362/450\n",
            "20/20 [==============================] - 0s 15ms/step - loss: 54393487491072.0000 - val_loss: 44696239865856.0000\n",
            "Epoch 363/450\n",
            "20/20 [==============================] - 0s 8ms/step - loss: 51570171445248.0000 - val_loss: 34984039546880.0000\n",
            "Epoch 364/450\n",
            "20/20 [==============================] - 0s 10ms/step - loss: 52747546132480.0000 - val_loss: 45818383958016.0000\n",
            "Epoch 365/450\n",
            "20/20 [==============================] - 0s 11ms/step - loss: 53623912398848.0000 - val_loss: 34399787679744.0000\n",
            "Epoch 366/450\n",
            "20/20 [==============================] - 0s 10ms/step - loss: 53449030893568.0000 - val_loss: 54179385049088.0000\n",
            "Epoch 367/450\n",
            "20/20 [==============================] - 0s 12ms/step - loss: 53621324513280.0000 - val_loss: 34689804926976.0000\n",
            "Epoch 368/450\n",
            "20/20 [==============================] - 0s 9ms/step - loss: 53842687295488.0000 - val_loss: 53558351233024.0000\n",
            "Epoch 369/450\n",
            "20/20 [==============================] - 0s 10ms/step - loss: 53662336417792.0000 - val_loss: 38907940962304.0000\n",
            "Epoch 370/450\n",
            "20/20 [==============================] - 0s 15ms/step - loss: 56591793520640.0000 - val_loss: 34482686001152.0000\n",
            "Epoch 371/450\n",
            "20/20 [==============================] - 0s 10ms/step - loss: 50277461786624.0000 - val_loss: 38379798396928.0000\n",
            "Epoch 372/450\n",
            "20/20 [==============================] - 0s 13ms/step - loss: 54358796402688.0000 - val_loss: 34741545861120.0000\n",
            "Epoch 373/450\n",
            "20/20 [==============================] - 0s 12ms/step - loss: 51529318924288.0000 - val_loss: 40319315869696.0000\n",
            "Epoch 374/450\n",
            "20/20 [==============================] - 0s 11ms/step - loss: 56482628370432.0000 - val_loss: 52937887842304.0000\n",
            "Epoch 375/450\n",
            "20/20 [==============================] - 0s 8ms/step - loss: 53124572119040.0000 - val_loss: 34843003977728.0000\n",
            "Epoch 376/450\n",
            "20/20 [==============================] - 0s 9ms/step - loss: 51764573241344.0000 - val_loss: 45274600833024.0000\n",
            "Epoch 377/450\n",
            "20/20 [==============================] - 0s 13ms/step - loss: 54509808123904.0000 - val_loss: 37968878239744.0000\n",
            "Epoch 378/450\n",
            "20/20 [==============================] - 0s 11ms/step - loss: 56244253491200.0000 - val_loss: 33794186805248.0000\n",
            "Epoch 379/450\n",
            "20/20 [==============================] - 0s 8ms/step - loss: 50562871590912.0000 - val_loss: 35341943701504.0000\n",
            "Epoch 380/450\n",
            "20/20 [==============================] - 0s 8ms/step - loss: 47976730853376.0000 - val_loss: 62592802357248.0000\n",
            "Epoch 381/450\n",
            "20/20 [==============================] - 0s 7ms/step - loss: 58946098298880.0000 - val_loss: 37158643564544.0000\n",
            "Epoch 382/450\n",
            "20/20 [==============================] - 0s 10ms/step - loss: 51707908194304.0000 - val_loss: 40661927591936.0000\n",
            "Epoch 383/450\n",
            "20/20 [==============================] - 0s 10ms/step - loss: 54006860742656.0000 - val_loss: 40076604080128.0000\n",
            "Epoch 384/450\n",
            "20/20 [==============================] - 0s 8ms/step - loss: 54431739543552.0000 - val_loss: 33799148666880.0000\n",
            "Epoch 385/450\n",
            "20/20 [==============================] - 0s 16ms/step - loss: 50376900345856.0000 - val_loss: 36310999891968.0000\n",
            "Epoch 386/450\n",
            "20/20 [==============================] - 0s 7ms/step - loss: 52504096145408.0000 - val_loss: 35134097063936.0000\n",
            "Epoch 387/450\n",
            "20/20 [==============================] - 0s 8ms/step - loss: 53757404512256.0000 - val_loss: 46171481440256.0000\n",
            "Epoch 388/450\n",
            "20/20 [==============================] - 0s 8ms/step - loss: 55203864772608.0000 - val_loss: 47561985490944.0000\n",
            "Epoch 389/450\n",
            "20/20 [==============================] - 0s 8ms/step - loss: 51663998025728.0000 - val_loss: 34717336338432.0000\n",
            "Epoch 390/450\n",
            "20/20 [==============================] - 0s 8ms/step - loss: 52942535131136.0000 - val_loss: 43367664713728.0000\n",
            "Epoch 391/450\n",
            "20/20 [==============================] - 0s 7ms/step - loss: 52172632883200.0000 - val_loss: 35664552787968.0000\n",
            "Epoch 392/450\n",
            "20/20 [==============================] - 0s 8ms/step - loss: 51069828726784.0000 - val_loss: 39836278849536.0000\n",
            "Epoch 393/450\n",
            "20/20 [==============================] - 0s 13ms/step - loss: 51088275275776.0000 - val_loss: 39239718797312.0000\n",
            "Epoch 394/450\n",
            "20/20 [==============================] - 0s 9ms/step - loss: 54861160775680.0000 - val_loss: 38330519519232.0000\n",
            "Epoch 395/450\n",
            "20/20 [==============================] - 0s 8ms/step - loss: 49691421048832.0000 - val_loss: 33472164921344.0000\n",
            "Epoch 396/450\n",
            "20/20 [==============================] - 0s 9ms/step - loss: 50080136560640.0000 - val_loss: 34371119611904.0000\n",
            "Epoch 397/450\n",
            "20/20 [==============================] - 0s 7ms/step - loss: 51916755173376.0000 - val_loss: 33636189470720.0000\n",
            "Epoch 398/450\n",
            "20/20 [==============================] - 0s 7ms/step - loss: 53091680387072.0000 - val_loss: 37023905742848.0000\n",
            "Epoch 399/450\n",
            "20/20 [==============================] - 0s 8ms/step - loss: 49967519498240.0000 - val_loss: 34736921640960.0000\n",
            "Epoch 400/450\n",
            "20/20 [==============================] - 0s 9ms/step - loss: 52882749521920.0000 - val_loss: 34180343791616.0000\n",
            "Epoch 401/450\n",
            "20/20 [==============================] - 0s 14ms/step - loss: 50794778853376.0000 - val_loss: 35166768594944.0000\n",
            "Epoch 402/450\n",
            "20/20 [==============================] - 0s 7ms/step - loss: 54738632572928.0000 - val_loss: 33534433558528.0000\n",
            "Epoch 403/450\n",
            "20/20 [==============================] - 0s 7ms/step - loss: 51507630178304.0000 - val_loss: 48120675172352.0000\n",
            "Epoch 404/450\n",
            "20/20 [==============================] - 0s 9ms/step - loss: 52660224917504.0000 - val_loss: 36098617114624.0000\n",
            "Epoch 405/450\n",
            "20/20 [==============================] - 0s 7ms/step - loss: 50450241945600.0000 - val_loss: 33192574713856.0000\n",
            "Epoch 406/450\n",
            "20/20 [==============================] - 0s 7ms/step - loss: 53672092368896.0000 - val_loss: 32802798043136.0000\n",
            "Epoch 407/450\n",
            "20/20 [==============================] - 0s 8ms/step - loss: 49154621440000.0000 - val_loss: 65393242669056.0000\n",
            "Epoch 408/450\n",
            "20/20 [==============================] - 0s 8ms/step - loss: 54383429550080.0000 - val_loss: 39737066782720.0000\n",
            "Epoch 409/450\n",
            "20/20 [==============================] - 0s 14ms/step - loss: 49850095763456.0000 - val_loss: 40215070638080.0000\n",
            "Epoch 410/450\n",
            "20/20 [==============================] - 0s 8ms/step - loss: 49738112040960.0000 - val_loss: 45460563689472.0000\n",
            "Epoch 411/450\n",
            "20/20 [==============================] - 0s 8ms/step - loss: 49871084060672.0000 - val_loss: 33855490752512.0000\n",
            "Epoch 412/450\n",
            "20/20 [==============================] - 0s 7ms/step - loss: 50584216403968.0000 - val_loss: 32439929929728.0000\n",
            "Epoch 413/450\n",
            "20/20 [==============================] - 0s 8ms/step - loss: 54011491254272.0000 - val_loss: 32818679775232.0000\n",
            "Epoch 414/450\n",
            "20/20 [==============================] - 0s 7ms/step - loss: 51942076186624.0000 - val_loss: 42115849519104.0000\n",
            "Epoch 415/450\n",
            "20/20 [==============================] - 0s 9ms/step - loss: 51737557729280.0000 - val_loss: 32156262858752.0000\n",
            "Epoch 416/450\n",
            "20/20 [==============================] - 0s 8ms/step - loss: 48836571561984.0000 - val_loss: 32212932100096.0000\n",
            "Epoch 417/450\n",
            "20/20 [==============================] - 0s 14ms/step - loss: 50514117001216.0000 - val_loss: 37769518776320.0000\n",
            "Epoch 418/450\n",
            "20/20 [==============================] - 0s 8ms/step - loss: 51154184568832.0000 - val_loss: 39017445851136.0000\n",
            "Epoch 419/450\n",
            "20/20 [==============================] - 0s 8ms/step - loss: 51435634950144.0000 - val_loss: 31985867161600.0000\n",
            "Epoch 420/450\n",
            "20/20 [==============================] - 0s 8ms/step - loss: 49227434557440.0000 - val_loss: 32213684977664.0000\n",
            "Epoch 421/450\n",
            "20/20 [==============================] - 0s 8ms/step - loss: 50274018263040.0000 - val_loss: 33667548184576.0000\n",
            "Epoch 422/450\n",
            "20/20 [==============================] - 0s 7ms/step - loss: 50119592378368.0000 - val_loss: 32722699419648.0000\n",
            "Epoch 423/450\n",
            "20/20 [==============================] - 0s 8ms/step - loss: 51023552970752.0000 - val_loss: 31658310893568.0000\n",
            "Epoch 424/450\n",
            "20/20 [==============================] - 0s 8ms/step - loss: 49712530980864.0000 - val_loss: 33430582591488.0000\n",
            "Epoch 425/450\n",
            "20/20 [==============================] - 0s 14ms/step - loss: 51535031566336.0000 - val_loss: 47751966490624.0000\n",
            "Epoch 426/450\n",
            "20/20 [==============================] - 0s 8ms/step - loss: 50755088154624.0000 - val_loss: 31923896320000.0000\n",
            "Epoch 427/450\n",
            "20/20 [==============================] - 0s 8ms/step - loss: 50558220107776.0000 - val_loss: 31912833843200.0000\n",
            "Epoch 428/450\n",
            "20/20 [==============================] - 0s 8ms/step - loss: 49701441241088.0000 - val_loss: 31923848085504.0000\n",
            "Epoch 429/450\n",
            "20/20 [==============================] - 0s 8ms/step - loss: 50495875973120.0000 - val_loss: 59107813883904.0000\n",
            "Epoch 430/450\n",
            "20/20 [==============================] - 0s 8ms/step - loss: 52750675083264.0000 - val_loss: 31671676043264.0000\n",
            "Epoch 431/450\n",
            "20/20 [==============================] - 0s 7ms/step - loss: 53170139037696.0000 - val_loss: 32195964043264.0000\n",
            "Epoch 432/450\n",
            "20/20 [==============================] - 0s 7ms/step - loss: 51842755067904.0000 - val_loss: 35009553498112.0000\n",
            "Epoch 433/450\n",
            "20/20 [==============================] - 0s 13ms/step - loss: 50963696058368.0000 - val_loss: 35381911224320.0000\n",
            "Epoch 434/450\n",
            "20/20 [==============================] - 0s 8ms/step - loss: 50226513575936.0000 - val_loss: 31742840799232.0000\n",
            "Epoch 435/450\n",
            "20/20 [==============================] - 0s 8ms/step - loss: 50472375287808.0000 - val_loss: 32564257488896.0000\n",
            "Epoch 436/450\n",
            "20/20 [==============================] - 0s 9ms/step - loss: 51248699015168.0000 - val_loss: 32405052194816.0000\n",
            "Epoch 437/450\n",
            "20/20 [==============================] - 0s 8ms/step - loss: 49039617818624.0000 - val_loss: 54202055262208.0000\n",
            "Epoch 438/450\n",
            "20/20 [==============================] - 0s 8ms/step - loss: 50306029191168.0000 - val_loss: 32089902678016.0000\n",
            "Epoch 439/450\n",
            "20/20 [==============================] - 0s 8ms/step - loss: 48226040283136.0000 - val_loss: 34337422573568.0000\n",
            "Epoch 440/450\n",
            "20/20 [==============================] - 0s 12ms/step - loss: 50659294445568.0000 - val_loss: 31328764428288.0000\n",
            "Epoch 441/450\n",
            "20/20 [==============================] - 0s 8ms/step - loss: 49373224370176.0000 - val_loss: 35692222611456.0000\n",
            "Epoch 442/450\n",
            "20/20 [==============================] - 0s 8ms/step - loss: 54118559252480.0000 - val_loss: 31614857904128.0000\n",
            "Epoch 443/450\n",
            "20/20 [==============================] - 0s 9ms/step - loss: 50018111193088.0000 - val_loss: 32988612001792.0000\n",
            "Epoch 444/450\n",
            "20/20 [==============================] - 0s 8ms/step - loss: 47946724802560.0000 - val_loss: 34944325779456.0000\n",
            "Epoch 445/450\n",
            "20/20 [==============================] - 0s 10ms/step - loss: 50228791083008.0000 - val_loss: 31114634723328.0000\n",
            "Epoch 446/450\n",
            "20/20 [==============================] - 0s 7ms/step - loss: 48417870970880.0000 - val_loss: 40258422964224.0000\n",
            "Epoch 447/450\n",
            "20/20 [==============================] - 0s 7ms/step - loss: 47884686852096.0000 - val_loss: 32400375545856.0000\n",
            "Epoch 448/450\n",
            "20/20 [==============================] - 0s 13ms/step - loss: 50082292432896.0000 - val_loss: 33681534091264.0000\n",
            "Epoch 449/450\n",
            "20/20 [==============================] - 0s 8ms/step - loss: 49538962292736.0000 - val_loss: 41398191521792.0000\n",
            "Epoch 450/450\n",
            "20/20 [==============================] - 0s 9ms/step - loss: 51846227951616.0000 - val_loss: 30987234836480.0000\n"
          ]
        },
        {
          "data": {
            "text/plain": [
              "<keras.src.callbacks.History at 0x26fb79603a0>"
            ]
          },
          "execution_count": 79,
          "metadata": {},
          "output_type": "execute_result"
        }
      ],
      "source": [
        "model.fit(x=X_train,y=y_train.values,\n",
        "          validation_data=(X_test,y_test.values),\n",
        "          batch_size=128,epochs=450)"
      ]
    },
    {
      "cell_type": "markdown",
      "id": "0PUeczhO9D5I",
      "metadata": {
        "id": "0PUeczhO9D5I"
      },
      "source": [
        "### Visualizing training loss"
      ]
    },
    {
      "cell_type": "code",
      "execution_count": 80,
      "id": "pZv5Ec4ryAMu",
      "metadata": {
        "colab": {
          "base_uri": "https://localhost:8080/",
          "height": 487
        },
        "id": "pZv5Ec4ryAMu",
        "outputId": "23ee1adb-7cd4-45be-f7c0-a4ad589d0aac"
      },
      "outputs": [
        {
          "data": {
            "image/png": "[encoded data removed]",
            "text/plain": [
              "<Figure size 1080x360 with 1 Axes>"
            ]
          },
          "metadata": {
            "needs_background": "light"
          },
          "output_type": "display_data"
        }
      ],
      "source": [
        "losses = pd.DataFrame(model.history.history)\n",
        "\n",
        "plt.figure(figsize=(15,5))\n",
        "sns.lineplot(data=losses,lw=3)\n",
        "plt.xlabel('Epochs')\n",
        "plt.ylabel('')\n",
        "plt.title('Training Loss per Epoch')\n",
        "sns.despine()\n",
        "\n",
        "# model doesn't overfit"
      ]
    },
    {
      "cell_type": "markdown",
      "id": "oQni0Kqt9Phi",
      "metadata": {
        "id": "oQni0Kqt9Phi"
      },
      "source": [
        "### Predicting prices"
      ]
    },
    {
      "cell_type": "code",
      "execution_count": 81,
      "id": "3EJ9-Xz4yYiq",
      "metadata": {
        "colab": {
          "base_uri": "https://localhost:8080/"
        },
        "id": "3EJ9-Xz4yYiq",
        "outputId": "bc6d028f-605b-45c5-caf0-44b1c9971364"
      },
      "outputs": [
        {
          "name": "stdout",
          "output_type": "stream",
          "text": [
            "20/20 [==============================] - 0s 3ms/step\n",
            "MAE:  3218288.7628383758\n",
            "MSE:  30987240907028.266\n",
            "RMSE:  5566618.444534192\n",
            "Variance Regression Score:  0.9511501395928271\n",
            "\n",
            "\n",
            "Descriptive Statistics:\n",
            " count    2.423400e+04\n",
            "mean     2.414683e+07\n",
            "std      4.620637e+07\n",
            "min      1.000000e+00\n",
            "25%      2.500000e+06\n",
            "50%      9.000000e+06\n",
            "75%      2.300000e+07\n",
            "max      1.450000e+09\n",
            "Name: price, dtype: float64\n"
          ]
        }
      ],
      "source": [
        "# predictions on the test set\n",
        "predictions = model.predict(X_test)\n",
        "\n",
        "print('MAE: ',mean_absolute_error(y_test,predictions))\n",
        "print('MSE: ',mean_squared_error(y_test,predictions))\n",
        "print('RMSE: ',np.sqrt(mean_squared_error(y_test,predictions)))\n",
        "print('Variance Regression Score: ',explained_variance_score(y_test,predictions))\n",
        "\n",
        "print('\\n\\nDescriptive Statistics:\\n',property_data_fe['price'].describe())"
      ]
    },
    {
      "cell_type": "markdown",
      "id": "uQoNKl109Wwj",
      "metadata": {
        "id": "uQoNKl109Wwj"
      },
      "source": [
        "### Residual Plot"
      ]
    },
    {
      "cell_type": "code",
      "execution_count": 82,
      "id": "x6SPO0DHyoZu",
      "metadata": {
        "colab": {
          "base_uri": "https://localhost:8080/",
          "height": 564
        },
        "id": "x6SPO0DHyoZu",
        "outputId": "e0b7fe46-a1d5-4b0f-e1a5-1b61f4d95598"
      },
      "outputs": [
        {
          "data": {
            "image/png": "[encoded data removed]",
            "text/plain": [
              "<Figure size 576x432 with 1 Axes>"
            ]
          },
          "metadata": {
            "needs_background": "light"
          },
          "output_type": "display_data"
        }
      ],
      "source": [
        "y_test = y_test.to_numpy()\n",
        "actual_prices = y_test\n",
        "predicted_prices = predictions\n",
        "\n",
        "# Calculate residuals\n",
        "residuals = actual_prices - predicted_prices\n",
        "\n",
        "# Plotting the residuals\n",
        "plt.figure(figsize=(8, 6))\n",
        "plt.hist(residuals, bins=30, edgecolor='k')\n",
        "plt.title('Distribution of Residuals')\n",
        "plt.xlabel('Residuals')\n",
        "plt.ylabel('Frequency')\n",
        "plt.grid(True)\n",
        "plt.show()"
      ]
    },
    {
      "cell_type": "code",
      "execution_count": 83,
      "id": "tQYwAy626G7V",
      "metadata": {
        "colab": {
          "base_uri": "https://localhost:8080/",
          "height": 564
        },
        "id": "tQYwAy626G7V",
        "outputId": "74a9a58a-1c84-4236-9d82-b3dd3726ffdd"
      },
      "outputs": [
        {
          "data": {
            "image/png": "[encoded data removed]",
            "text/plain": [
              "<Figure size 720x432 with 1 Axes>"
            ]
          },
          "metadata": {
            "needs_background": "light"
          },
          "output_type": "display_data"
        }
      ],
      "source": [
        "# Flatten predictions to convert it into a 1-dimensional array\n",
        "predictions = predictions.flatten()\n",
        "\n",
        "# Compute residuals\n",
        "residuals = actual_prices - predictions\n",
        "# Plot the residuals\n",
        "plt.figure(figsize=(10, 6))\n",
        "sns.scatterplot(x=predictions, y=residuals)\n",
        "plt.title('Residual Plot')\n",
        "plt.xlabel('Predicted Price')\n",
        "plt.ylabel('Residuals')\n",
        "plt.axhline(y=0, color='r', linestyle='--')\n",
        "plt.show()"
      ]
    },
    {
      "cell_type": "markdown",
      "id": "n11sPc569dmZ",
      "metadata": {
        "id": "n11sPc569dmZ"
      },
      "source": [
        "## Saving Model in h5 and tflite formats"
      ]
    },
    {
      "cell_type": "code",
      "execution_count": 84,
      "id": "SXLYu41yyyug",
      "metadata": {
        "colab": {
          "base_uri": "https://localhost:8080/"
        },
        "id": "SXLYu41yyyug",
        "outputId": "e66273e8-094a-4bd6-dcb6-aa9cad42204d"
      },
      "outputs": [
        {
          "name": "stdout",
          "output_type": "stream",
          "text": [
            "Saved model to disk\n"
          ]
        },
        {
          "name": "stderr",
          "output_type": "stream",
          "text": [
            "c:\\Users\\CC\\anaconda3\\lib\\site-packages\\keras\\src\\engine\\training.py:3000: UserWarning: You are saving your model as an HDF5 file via `model.save()`. This file format is considered legacy. We recommend using instead the native Keras format, e.g. `model.save('my_model.keras')`.\n",
            "  saving_api.save_model(\n"
          ]
        }
      ],
      "source": [
        "# save model and architecture to single file\n",
        "model.save(os.path.join(model_path, \"model.h5\"))\n",
        "print(\"Saved model to disk\")"
      ]
    },
    {
      "cell_type": "code",
      "execution_count": 86,
      "id": "OMNhu99FyUun",
      "metadata": {
        "colab": {
          "base_uri": "https://localhost:8080/"
        },
        "id": "OMNhu99FyUun",
        "outputId": "5b1aab7c-a07c-42ca-af1f-6ffc2a1ccbfc"
      },
      "outputs": [
        {
          "name": "stdout",
          "output_type": "stream",
          "text": [
            "INFO:tensorflow:Assets written to: C:\\Users\\CC\\AppData\\Local\\Temp\\tmpmmq4s4kp\\assets\n"
          ]
        },
        {
          "name": "stderr",
          "output_type": "stream",
          "text": [
            "INFO:tensorflow:Assets written to: C:\\Users\\CC\\AppData\\Local\\Temp\\tmpmmq4s4kp\\assets\n"
          ]
        },
        {
          "name": "stdout",
          "output_type": "stream",
          "text": [
            "TFLite model saved successfully.\n"
          ]
        }
      ],
      "source": [
        "loaded_model = tf.keras.models.load_model(os.path.join(model_path, \"model.h5\"))\n",
        "converter = tf.lite.TFLiteConverter.from_keras_model(loaded_model)\n",
        "tflite_model = converter.convert()\n",
        "with open(os.path.join(model_path, \"trainer_model.tflite\"), \"wb\") as f:\n",
        "    f.write(tflite_model)\n",
        "\n",
        "print(\"TFLite model saved successfully.\")"
      ]
    },
    {
      "cell_type": "code",
      "execution_count": null,
      "id": "CRX9Fm3i6VoO",
      "metadata": {
        "id": "CRX9Fm3i6VoO"
      },
      "outputs": [],
      "source": []
    }
  ],
  "metadata": {
    "colab": {
      "provenance": []
    },
    "kernelspec": {
      "display_name": "Python 3",
      "language": "python",
      "name": "python3"
    },
    "language_info": {
      "codemirror_mode": {
        "name": "ipython",
        "version": 3
      },
      "file_extension": ".py",
      "mimetype": "text/x-python",
      "name": "python",
      "nbconvert_exporter": "python",
      "pygments_lexer": "ipython3",
      "version": "3.8.8"
    }
  },
  "nbformat": 4,
  "nbformat_minor": 5
}
